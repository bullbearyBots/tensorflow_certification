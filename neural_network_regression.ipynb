{
  "nbformat": 4,
  "nbformat_minor": 0,
  "metadata": {
    "colab": {
      "provenance": [],
      "gpuType": "T4",
      "mount_file_id": "1I_zTgsdTVdg5JR5tppA99AoElHZus6im",
      "authorship_tag": "ABX9TyOs5t0WSpGHo3RCduHxeSeg",
      "include_colab_link": true
    },
    "kernelspec": {
      "name": "python3",
      "display_name": "Python 3"
    },
    "language_info": {
      "name": "python"
    },
    "accelerator": "GPU"
  },
  "cells": [
    {
      "cell_type": "markdown",
      "metadata": {
        "id": "view-in-github",
        "colab_type": "text"
      },
      "source": [
        "<a href=\"https://colab.research.google.com/github/bullbearyBots/tensorflow_certification/blob/main/neural_network_regression.ipynb\" target=\"_parent\"><img src=\"https://colab.research.google.com/assets/colab-badge.svg\" alt=\"Open In Colab\"/></a>"
      ]
    },
    {
      "cell_type": "markdown",
      "source": [
        "# Introduction to Regression with Neural Networks in TensorFlow\n",
        "\n",
        "There are many definitions for a regression problem but in our case, we're going to simplify it: predicting a numerical variable based on some other combination of variables, even shorter... predicting a number."
      ],
      "metadata": {
        "id": "UAedEyoN73Xd"
      }
    },
    {
      "cell_type": "code",
      "source": [
        "# Import TensorFlow\n",
        "import tensorflow as tf\n",
        "print(tf.__version__)"
      ],
      "metadata": {
        "colab": {
          "base_uri": "https://localhost:8080/"
        },
        "id": "ZroTxHaY8V85",
        "outputId": "5527abf1-ccbc-4dfb-ac53-8ea618dfcdb9"
      },
      "execution_count": 1,
      "outputs": [
        {
          "output_type": "stream",
          "name": "stdout",
          "text": [
            "2.15.0\n"
          ]
        }
      ]
    },
    {
      "cell_type": "markdown",
      "source": [
        "## Creating data to view and fit"
      ],
      "metadata": {
        "id": "I15lLR8N8rTk"
      }
    },
    {
      "cell_type": "code",
      "source": [
        "import numpy as np\n",
        "import matplotlib.pyplot as plt\n",
        "\n",
        "# Create the features\n",
        "X = np.array([-7.0, -4.0, -1.0, 2.0, 5.0, 8.0, 11.0, 14.0, 17.0, 21.0, 23.0, 24.0])\n",
        "\n",
        "# Create labels\n",
        "y = np.array([3.0, 6.0, 9.0, 12.0, 15.0, 18.0, 21.0, 24.0, 27.0, 31.0, 33.0, 34.0])\n",
        "\n",
        "# Visualize it\n",
        "plt.scatter(X, y)"
      ],
      "metadata": {
        "colab": {
          "base_uri": "https://localhost:8080/",
          "height": 448
        },
        "id": "OLMFvV2q80VD",
        "outputId": "16fdae41-ce69-4e1a-ebb0-41d3c3e4677a"
      },
      "execution_count": 2,
      "outputs": [
        {
          "output_type": "execute_result",
          "data": {
            "text/plain": [
              "<matplotlib.collections.PathCollection at 0x7cd7c534d0f0>"
            ]
          },
          "metadata": {},
          "execution_count": 2
        },
        {
          "output_type": "display_data",
          "data": {
            "text/plain": [
              "<Figure size 640x480 with 1 Axes>"
            ],
            "image/png": "[encoded data removed]"
          },
          "metadata": {}
        }
      ]
    },
    {
      "cell_type": "markdown",
      "source": [
        "## Input and output shapes"
      ],
      "metadata": {
        "id": "jwgFkL9g9Sdx"
      }
    },
    {
      "cell_type": "code",
      "source": [
        "# Create a demo tensor for our housing price prediction problem\n",
        "house_info = tf.constant([\"bedroom\", \"bathroom\", \"garage\"])\n",
        "house_price = tf.constant([939700])\n",
        "\n",
        "house_info, house_price"
      ],
      "metadata": {
        "colab": {
          "base_uri": "https://localhost:8080/"
        },
        "id": "5178ioUQ99Vq",
        "outputId": "fe185050-4301-4efd-a45f-01957dbc2620"
      },
      "execution_count": 3,
      "outputs": [
        {
          "output_type": "execute_result",
          "data": {
            "text/plain": [
              "(<tf.Tensor: shape=(3,), dtype=string, numpy=array([b'bedroom', b'bathroom', b'garage'], dtype=object)>,\n",
              " <tf.Tensor: shape=(1,), dtype=int32, numpy=array([939700], dtype=int32)>)"
            ]
          },
          "metadata": {},
          "execution_count": 3
        }
      ]
    },
    {
      "cell_type": "code",
      "source": [
        "input_shape = X.shape\n",
        "output_shape = y.shape\n",
        "\n",
        "input_shape, output_shape"
      ],
      "metadata": {
        "colab": {
          "base_uri": "https://localhost:8080/"
        },
        "id": "noylEkFf-OzM",
        "outputId": "9e05aa74-9eef-47c1-811f-ceab262b6612"
      },
      "execution_count": 4,
      "outputs": [
        {
          "output_type": "execute_result",
          "data": {
            "text/plain": [
              "((12,), (12,))"
            ]
          },
          "metadata": {},
          "execution_count": 4
        }
      ]
    },
    {
      "cell_type": "code",
      "source": [
        "# Turn our numpy arrays into tensors\n",
        "X = tf.cast(tf.constant(X), dtype=tf.float32)\n",
        "y = tf.cast(tf.constant(y), dtype=tf.float32)\n",
        "\n",
        "X.shape, y.shape"
      ],
      "metadata": {
        "colab": {
          "base_uri": "https://localhost:8080/"
        },
        "id": "9XUi2syz-XUH",
        "outputId": "c42277b3-0cf0-48c7-9244-ea1c4bafd8e5"
      },
      "execution_count": 5,
      "outputs": [
        {
          "output_type": "execute_result",
          "data": {
            "text/plain": [
              "(TensorShape([12]), TensorShape([12]))"
            ]
          },
          "metadata": {},
          "execution_count": 5
        }
      ]
    },
    {
      "cell_type": "code",
      "source": [
        "input_shape = X[0].shape\n",
        "output_shape = y[0].shape\n",
        "\n",
        "input_shape, output_shape"
      ],
      "metadata": {
        "colab": {
          "base_uri": "https://localhost:8080/"
        },
        "id": "66OdfVI_Tht1",
        "outputId": "aa362756-0cfc-4fc5-8538-55f2042547b8"
      },
      "execution_count": 6,
      "outputs": [
        {
          "output_type": "execute_result",
          "data": {
            "text/plain": [
              "(TensorShape([]), TensorShape([]))"
            ]
          },
          "metadata": {},
          "execution_count": 6
        }
      ]
    },
    {
      "cell_type": "markdown",
      "source": [
        "## Steps in modelling with TensorFlow\n",
        "\n",
        "1. **Creating a model** - define the input and output layers, as well as the hidden layers of a deep learning model.\n",
        "2. **Compiling the model** - define the loss function and the optimizer and evaluation metrics\n",
        "3. **Fitting a model** - letting the model try to find patterns between X and y (features and labels)"
      ],
      "metadata": {
        "id": "znbH9mvdTp09"
      }
    },
    {
      "cell_type": "code",
      "source": [
        "# Set random seed\n",
        "tf.random.set_seed(42)\n",
        "\n",
        "# Create a model using sequential API\n",
        "model = tf.keras.Sequential([\n",
        "    tf.keras.layers.Dense(1)\n",
        "])\n",
        "\n",
        "# Compile the model\n",
        "model.compile(loss=tf.keras.losses.mae, # mean absolute error\n",
        "              optimizer=tf.keras.optimizers.SGD(), # stochastic gradient descent\n",
        "              metrics=[\"mae\"])\n",
        "\n",
        "# Fit the model\n",
        "model.fit(tf.expand_dims(X, axis=-1), tf.expand_dims(X, axis=-1), epochs=5)"
      ],
      "metadata": {
        "colab": {
          "base_uri": "https://localhost:8080/"
        },
        "id": "fFYGiDddTvdL",
        "outputId": "73572d40-5e68-4799-c250-763f3f5658cd"
      },
      "execution_count": 7,
      "outputs": [
        {
          "output_type": "stream",
          "name": "stdout",
          "text": [
            "Epoch 1/5\n",
            "1/1 [==============================] - 2s 2s/step - loss: 9.5141 - mae: 9.5141\n",
            "Epoch 2/5\n",
            "1/1 [==============================] - 0s 18ms/step - loss: 8.2082 - mae: 8.2082\n",
            "Epoch 3/5\n",
            "1/1 [==============================] - 0s 12ms/step - loss: 6.9023 - mae: 6.9023\n",
            "Epoch 4/5\n",
            "1/1 [==============================] - 0s 16ms/step - loss: 5.5964 - mae: 5.5964\n",
            "Epoch 5/5\n",
            "1/1 [==============================] - 0s 11ms/step - loss: 4.2905 - mae: 4.2905\n"
          ]
        },
        {
          "output_type": "execute_result",
          "data": {
            "text/plain": [
              "<keras.src.callbacks.History at 0x7cd7c316bc10>"
            ]
          },
          "metadata": {},
          "execution_count": 7
        }
      ]
    },
    {
      "cell_type": "code",
      "source": [
        "# Check out X and y\n",
        "X, y"
      ],
      "metadata": {
        "colab": {
          "base_uri": "https://localhost:8080/"
        },
        "id": "a7ckSCcaXlcE",
        "outputId": "723e23dc-1f7d-4fff-bca0-f3f644c6674c"
      },
      "execution_count": 8,
      "outputs": [
        {
          "output_type": "execute_result",
          "data": {
            "text/plain": [
              "(<tf.Tensor: shape=(12,), dtype=float32, numpy=\n",
              " array([-7., -4., -1.,  2.,  5.,  8., 11., 14., 17., 21., 23., 24.],\n",
              "       dtype=float32)>,\n",
              " <tf.Tensor: shape=(12,), dtype=float32, numpy=\n",
              " array([ 3.,  6.,  9., 12., 15., 18., 21., 24., 27., 31., 33., 34.],\n",
              "       dtype=float32)>)"
            ]
          },
          "metadata": {},
          "execution_count": 8
        }
      ]
    },
    {
      "cell_type": "code",
      "source": [
        "# Try and make a prediction using our model\n",
        "model.predict([17.0])"
      ],
      "metadata": {
        "colab": {
          "base_uri": "https://localhost:8080/"
        },
        "id": "4cISCLnXXo2C",
        "outputId": "2bd511b2-a6c0-499b-9481-2653de9ef1bb"
      },
      "execution_count": 9,
      "outputs": [
        {
          "output_type": "stream",
          "name": "stdout",
          "text": [
            "1/1 [==============================] - 0s 197ms/step\n"
          ]
        },
        {
          "output_type": "execute_result",
          "data": {
            "text/plain": [
              "array([[12.562141]], dtype=float32)"
            ]
          },
          "metadata": {},
          "execution_count": 9
        }
      ]
    },
    {
      "cell_type": "markdown",
      "source": [
        "## Improve our model\n",
        "\n",
        "We can improve our model by altering the steps we took to create a model.\n",
        "\n",
        "1. **Creating a model** - here we might add more layers, increase the number of hidden units within each of those layers and we might change activation function of each layer.\n",
        "2. **Compiling the model** - here we might change the optimization function or perhaps the **learning rate** of the optimization function.\n",
        "3. **Fitting the model** - here we might fit a model for more **epochs** or on more data"
      ],
      "metadata": {
        "id": "wmhzEurDYHCw"
      }
    },
    {
      "cell_type": "code",
      "source": [
        "# Let's rebuild our model\n",
        "model = tf.keras.Sequential()\n",
        "model.add(tf.keras.layers.Dense(1))\n",
        "\n",
        "model.compile(loss=tf.keras.losses.mae,\n",
        "              optimizer=tf.keras.optimizers.SGD(),\n",
        "              metrics=['mae'])\n",
        "\n",
        "model.fit(tf.expand_dims(X, axis=-1), y, epochs=100)"
      ],
      "metadata": {
        "colab": {
          "base_uri": "https://localhost:8080/"
        },
        "id": "4Vuq07_WYJLJ",
        "outputId": "972cc8f9-a5aa-468e-d889-48039628f428"
      },
      "execution_count": 10,
      "outputs": [
        {
          "output_type": "stream",
          "name": "stdout",
          "text": [
            "Epoch 1/100\n",
            "1/1 [==============================] - 1s 678ms/step - loss: 29.7523 - mae: 29.7523\n",
            "Epoch 2/100\n",
            "1/1 [==============================] - 0s 14ms/step - loss: 28.6253 - mae: 28.6253\n",
            "Epoch 3/100\n",
            "1/1 [==============================] - 0s 14ms/step - loss: 27.4983 - mae: 27.4983\n",
            "Epoch 4/100\n",
            "1/1 [==============================] - 0s 22ms/step - loss: 26.3713 - mae: 26.3713\n",
            "Epoch 5/100\n",
            "1/1 [==============================] - 0s 38ms/step - loss: 25.2442 - mae: 25.2442\n",
            "Epoch 6/100\n",
            "1/1 [==============================] - 0s 14ms/step - loss: 24.1172 - mae: 24.1172\n",
            "Epoch 7/100\n",
            "1/1 [==============================] - 0s 21ms/step - loss: 23.0282 - mae: 23.0282\n",
            "Epoch 8/100\n",
            "1/1 [==============================] - 0s 34ms/step - loss: 22.1315 - mae: 22.1315\n",
            "Epoch 9/100\n",
            "1/1 [==============================] - 0s 19ms/step - loss: 21.2348 - mae: 21.2348\n",
            "Epoch 10/100\n",
            "1/1 [==============================] - 0s 20ms/step - loss: 20.3380 - mae: 20.3380\n",
            "Epoch 11/100\n",
            "1/1 [==============================] - 0s 27ms/step - loss: 19.4413 - mae: 19.4413\n",
            "Epoch 12/100\n",
            "1/1 [==============================] - 0s 22ms/step - loss: 18.5446 - mae: 18.5446\n",
            "Epoch 13/100\n",
            "1/1 [==============================] - 0s 13ms/step - loss: 17.6478 - mae: 17.6478\n",
            "Epoch 14/100\n",
            "1/1 [==============================] - 0s 30ms/step - loss: 16.7511 - mae: 16.7511\n",
            "Epoch 15/100\n",
            "1/1 [==============================] - 0s 18ms/step - loss: 15.8543 - mae: 15.8543\n",
            "Epoch 16/100\n",
            "1/1 [==============================] - 0s 22ms/step - loss: 14.9576 - mae: 14.9576\n",
            "Epoch 17/100\n",
            "1/1 [==============================] - 0s 32ms/step - loss: 14.0609 - mae: 14.0609\n",
            "Epoch 18/100\n",
            "1/1 [==============================] - 0s 26ms/step - loss: 13.1641 - mae: 13.1641\n",
            "Epoch 19/100\n",
            "1/1 [==============================] - 0s 16ms/step - loss: 12.2674 - mae: 12.2674\n",
            "Epoch 20/100\n",
            "1/1 [==============================] - 0s 14ms/step - loss: 11.3707 - mae: 11.3707\n",
            "Epoch 21/100\n",
            "1/1 [==============================] - 0s 17ms/step - loss: 10.4739 - mae: 10.4739\n",
            "Epoch 22/100\n",
            "1/1 [==============================] - 0s 18ms/step - loss: 9.5772 - mae: 9.5772\n",
            "Epoch 23/100\n",
            "1/1 [==============================] - 0s 20ms/step - loss: 8.6805 - mae: 8.6805\n",
            "Epoch 24/100\n",
            "1/1 [==============================] - 0s 21ms/step - loss: 7.7837 - mae: 7.7837\n",
            "Epoch 25/100\n",
            "1/1 [==============================] - 0s 24ms/step - loss: 6.8870 - mae: 6.8870\n",
            "Epoch 26/100\n",
            "1/1 [==============================] - 0s 28ms/step - loss: 5.9902 - mae: 5.9902\n",
            "Epoch 27/100\n",
            "1/1 [==============================] - 0s 25ms/step - loss: 5.8228 - mae: 5.8228\n",
            "Epoch 28/100\n",
            "1/1 [==============================] - 0s 27ms/step - loss: 5.7835 - mae: 5.7835\n",
            "Epoch 29/100\n",
            "1/1 [==============================] - 0s 18ms/step - loss: 5.7711 - mae: 5.7711\n",
            "Epoch 30/100\n",
            "1/1 [==============================] - 0s 16ms/step - loss: 5.7713 - mae: 5.7713\n",
            "Epoch 31/100\n",
            "1/1 [==============================] - 0s 41ms/step - loss: 5.7686 - mae: 5.7686\n",
            "Epoch 32/100\n",
            "1/1 [==============================] - 0s 16ms/step - loss: 5.7591 - mae: 5.7591\n",
            "Epoch 33/100\n",
            "1/1 [==============================] - 0s 16ms/step - loss: 5.7661 - mae: 5.7661\n",
            "Epoch 34/100\n",
            "1/1 [==============================] - 0s 32ms/step - loss: 5.7469 - mae: 5.7469\n",
            "Epoch 35/100\n",
            "1/1 [==============================] - 0s 26ms/step - loss: 5.7636 - mae: 5.7636\n",
            "Epoch 36/100\n",
            "1/1 [==============================] - 0s 19ms/step - loss: 5.7347 - mae: 5.7347\n",
            "Epoch 37/100\n",
            "1/1 [==============================] - 0s 17ms/step - loss: 5.7611 - mae: 5.7611\n",
            "Epoch 38/100\n",
            "1/1 [==============================] - 0s 13ms/step - loss: 5.7316 - mae: 5.7316\n",
            "Epoch 39/100\n",
            "1/1 [==============================] - 0s 23ms/step - loss: 5.7494 - mae: 5.7494\n",
            "Epoch 40/100\n",
            "1/1 [==============================] - 0s 15ms/step - loss: 5.7291 - mae: 5.7291\n",
            "Epoch 41/100\n",
            "1/1 [==============================] - 0s 12ms/step - loss: 5.7372 - mae: 5.7372\n",
            "Epoch 42/100\n",
            "1/1 [==============================] - 0s 24ms/step - loss: 5.7266 - mae: 5.7266\n",
            "Epoch 43/100\n",
            "1/1 [==============================] - 0s 22ms/step - loss: 5.7250 - mae: 5.7250\n",
            "Epoch 44/100\n",
            "1/1 [==============================] - 0s 31ms/step - loss: 5.7241 - mae: 5.7241\n",
            "Epoch 45/100\n",
            "1/1 [==============================] - 0s 21ms/step - loss: 5.7128 - mae: 5.7128\n",
            "Epoch 46/100\n",
            "1/1 [==============================] - 0s 16ms/step - loss: 5.7216 - mae: 5.7216\n",
            "Epoch 47/100\n",
            "1/1 [==============================] - 0s 19ms/step - loss: 5.7006 - mae: 5.7006\n",
            "Epoch 48/100\n",
            "1/1 [==============================] - 0s 32ms/step - loss: 5.7191 - mae: 5.7191\n",
            "Epoch 49/100\n",
            "1/1 [==============================] - 0s 30ms/step - loss: 5.6896 - mae: 5.6896\n",
            "Epoch 50/100\n",
            "1/1 [==============================] - 0s 29ms/step - loss: 5.7153 - mae: 5.7153\n",
            "Epoch 51/100\n",
            "1/1 [==============================] - 0s 32ms/step - loss: 5.6871 - mae: 5.6871\n",
            "Epoch 52/100\n",
            "1/1 [==============================] - 0s 24ms/step - loss: 5.7031 - mae: 5.7031\n",
            "Epoch 53/100\n",
            "1/1 [==============================] - 0s 24ms/step - loss: 5.6846 - mae: 5.6846\n",
            "Epoch 54/100\n",
            "1/1 [==============================] - 0s 20ms/step - loss: 5.6909 - mae: 5.6909\n",
            "Epoch 55/100\n",
            "1/1 [==============================] - 0s 17ms/step - loss: 5.6821 - mae: 5.6821\n",
            "Epoch 56/100\n",
            "1/1 [==============================] - 0s 22ms/step - loss: 5.6787 - mae: 5.6787\n",
            "Epoch 57/100\n",
            "1/1 [==============================] - 0s 15ms/step - loss: 5.6796 - mae: 5.6796\n",
            "Epoch 58/100\n",
            "1/1 [==============================] - 0s 14ms/step - loss: 5.6665 - mae: 5.6665\n",
            "Epoch 59/100\n",
            "1/1 [==============================] - 0s 19ms/step - loss: 5.6771 - mae: 5.6771\n",
            "Epoch 60/100\n",
            "1/1 [==============================] - 0s 16ms/step - loss: 5.6542 - mae: 5.6542\n",
            "Epoch 61/100\n",
            "1/1 [==============================] - 0s 14ms/step - loss: 5.6746 - mae: 5.6746\n",
            "Epoch 62/100\n",
            "1/1 [==============================] - 0s 20ms/step - loss: 5.6450 - mae: 5.6450\n",
            "Epoch 63/100\n",
            "1/1 [==============================] - 0s 14ms/step - loss: 5.6690 - mae: 5.6690\n",
            "Epoch 64/100\n",
            "1/1 [==============================] - 0s 36ms/step - loss: 5.6425 - mae: 5.6425\n",
            "Epoch 65/100\n",
            "1/1 [==============================] - 0s 36ms/step - loss: 5.6568 - mae: 5.6568\n",
            "Epoch 66/100\n",
            "1/1 [==============================] - 0s 27ms/step - loss: 5.6400 - mae: 5.6400\n",
            "Epoch 67/100\n",
            "1/1 [==============================] - 0s 15ms/step - loss: 5.6446 - mae: 5.6446\n",
            "Epoch 68/100\n",
            "1/1 [==============================] - 0s 18ms/step - loss: 5.6375 - mae: 5.6375\n",
            "Epoch 69/100\n",
            "1/1 [==============================] - 0s 14ms/step - loss: 5.6324 - mae: 5.6324\n",
            "Epoch 70/100\n",
            "1/1 [==============================] - 0s 18ms/step - loss: 5.6350 - mae: 5.6350\n",
            "Epoch 71/100\n",
            "1/1 [==============================] - 0s 15ms/step - loss: 5.6201 - mae: 5.6201\n",
            "Epoch 72/100\n",
            "1/1 [==============================] - 0s 15ms/step - loss: 5.6325 - mae: 5.6325\n",
            "Epoch 73/100\n",
            "1/1 [==============================] - 0s 23ms/step - loss: 5.6079 - mae: 5.6079\n",
            "Epoch 74/100\n",
            "1/1 [==============================] - 0s 19ms/step - loss: 5.6300 - mae: 5.6300\n",
            "Epoch 75/100\n",
            "1/1 [==============================] - 0s 28ms/step - loss: 5.6005 - mae: 5.6005\n",
            "Epoch 76/100\n",
            "1/1 [==============================] - 0s 11ms/step - loss: 5.6227 - mae: 5.6227\n",
            "Epoch 77/100\n",
            "1/1 [==============================] - 0s 22ms/step - loss: 5.5980 - mae: 5.5980\n",
            "Epoch 78/100\n",
            "1/1 [==============================] - 0s 15ms/step - loss: 5.6105 - mae: 5.6105\n",
            "Epoch 79/100\n",
            "1/1 [==============================] - 0s 23ms/step - loss: 5.5955 - mae: 5.5955\n",
            "Epoch 80/100\n",
            "1/1 [==============================] - 0s 19ms/step - loss: 5.5983 - mae: 5.5983\n",
            "Epoch 81/100\n",
            "1/1 [==============================] - 0s 19ms/step - loss: 5.5930 - mae: 5.5930\n",
            "Epoch 82/100\n",
            "1/1 [==============================] - 0s 15ms/step - loss: 5.5860 - mae: 5.5860\n",
            "Epoch 83/100\n",
            "1/1 [==============================] - 0s 19ms/step - loss: 5.5905 - mae: 5.5905\n",
            "Epoch 84/100\n",
            "1/1 [==============================] - 0s 32ms/step - loss: 5.5738 - mae: 5.5738\n",
            "Epoch 85/100\n",
            "1/1 [==============================] - 0s 23ms/step - loss: 5.5880 - mae: 5.5880\n",
            "Epoch 86/100\n",
            "1/1 [==============================] - 0s 18ms/step - loss: 5.5616 - mae: 5.5616\n",
            "Epoch 87/100\n",
            "1/1 [==============================] - 0s 16ms/step - loss: 5.5855 - mae: 5.5855\n",
            "Epoch 88/100\n",
            "1/1 [==============================] - 0s 45ms/step - loss: 5.5560 - mae: 5.5560\n",
            "Epoch 89/100\n",
            "1/1 [==============================] - 0s 19ms/step - loss: 5.5764 - mae: 5.5764\n",
            "Epoch 90/100\n",
            "1/1 [==============================] - 0s 14ms/step - loss: 5.5535 - mae: 5.5535\n",
            "Epoch 91/100\n",
            "1/1 [==============================] - 0s 11ms/step - loss: 5.5642 - mae: 5.5642\n",
            "Epoch 92/100\n",
            "1/1 [==============================] - 0s 15ms/step - loss: 5.5510 - mae: 5.5510\n",
            "Epoch 93/100\n",
            "1/1 [==============================] - 0s 15ms/step - loss: 5.5519 - mae: 5.5519\n",
            "Epoch 94/100\n",
            "1/1 [==============================] - 0s 18ms/step - loss: 5.5485 - mae: 5.5485\n",
            "Epoch 95/100\n",
            "1/1 [==============================] - 0s 16ms/step - loss: 5.5397 - mae: 5.5397\n",
            "Epoch 96/100\n",
            "1/1 [==============================] - 0s 15ms/step - loss: 5.5460 - mae: 5.5460\n",
            "Epoch 97/100\n",
            "1/1 [==============================] - 0s 17ms/step - loss: 5.5275 - mae: 5.5275\n",
            "Epoch 98/100\n",
            "1/1 [==============================] - 0s 16ms/step - loss: 5.5435 - mae: 5.5435\n",
            "Epoch 99/100\n",
            "1/1 [==============================] - 0s 21ms/step - loss: 5.5153 - mae: 5.5153\n",
            "Epoch 100/100\n",
            "1/1 [==============================] - 0s 17ms/step - loss: 5.5410 - mae: 5.5410\n"
          ]
        },
        {
          "output_type": "execute_result",
          "data": {
            "text/plain": [
              "<keras.src.callbacks.History at 0x7cd757f54af0>"
            ]
          },
          "metadata": {},
          "execution_count": 10
        }
      ]
    },
    {
      "cell_type": "code",
      "source": [
        "model.predict([35.0])"
      ],
      "metadata": {
        "colab": {
          "base_uri": "https://localhost:8080/"
        },
        "id": "3nuRZGw4zkCh",
        "outputId": "ed663486-6dda-4fc6-9b34-72aee09717dd"
      },
      "execution_count": 11,
      "outputs": [
        {
          "output_type": "stream",
          "name": "stdout",
          "text": [
            "1/1 [==============================] - 0s 98ms/step\n"
          ]
        },
        {
          "output_type": "execute_result",
          "data": {
            "text/plain": [
              "array([[51.125637]], dtype=float32)"
            ]
          },
          "metadata": {},
          "execution_count": 11
        }
      ]
    },
    {
      "cell_type": "code",
      "source": [
        "# Let's see if we can make another change to improve our model\n",
        "model = tf.keras.Sequential()\n",
        "model.add(tf.keras.layers.Dense(128, activation='relu'))\n",
        "model.add(tf.keras.layers.Dense(128, activation=None))\n",
        "model.add(tf.keras.layers.Dense(128, activation=None))\n",
        "model.add(tf.keras.layers.Dense(1))\n",
        "\n",
        "model.compile(loss=tf.keras.losses.mae,\n",
        "              optimizer=tf.keras.optimizers.Adam(learning_rate=0.0001),\n",
        "              metrics=['mae'])\n",
        "\n",
        "model.fit(tf.expand_dims(X, axis=-1), y, epochs=200)"
      ],
      "metadata": {
        "colab": {
          "base_uri": "https://localhost:8080/"
        },
        "id": "_dZPyVdHzwzT",
        "outputId": "1587ccde-2557-4a39-d03c-642cca4c5d69"
      },
      "execution_count": 12,
      "outputs": [
        {
          "output_type": "stream",
          "name": "stdout",
          "text": [
            "Epoch 1/200\n",
            "1/1 [==============================] - 4s 4s/step - loss: 19.3731 - mae: 19.3731\n",
            "Epoch 2/200\n",
            "1/1 [==============================] - 0s 22ms/step - loss: 19.1359 - mae: 19.1359\n",
            "Epoch 3/200\n",
            "1/1 [==============================] - 0s 19ms/step - loss: 18.8986 - mae: 18.8986\n",
            "Epoch 4/200\n",
            "1/1 [==============================] - 0s 22ms/step - loss: 18.6614 - mae: 18.6614\n",
            "Epoch 5/200\n",
            "1/1 [==============================] - 0s 27ms/step - loss: 18.4241 - mae: 18.4241\n",
            "Epoch 6/200\n",
            "1/1 [==============================] - 0s 15ms/step - loss: 18.1867 - mae: 18.1867\n",
            "Epoch 7/200\n",
            "1/1 [==============================] - 0s 30ms/step - loss: 17.9490 - mae: 17.9490\n",
            "Epoch 8/200\n",
            "1/1 [==============================] - 0s 19ms/step - loss: 17.7112 - mae: 17.7112\n",
            "Epoch 9/200\n",
            "1/1 [==============================] - 0s 19ms/step - loss: 17.4730 - mae: 17.4730\n",
            "Epoch 10/200\n",
            "1/1 [==============================] - 0s 20ms/step - loss: 17.2344 - mae: 17.2344\n",
            "Epoch 11/200\n",
            "1/1 [==============================] - 0s 17ms/step - loss: 16.9953 - mae: 16.9953\n",
            "Epoch 12/200\n",
            "1/1 [==============================] - 0s 30ms/step - loss: 16.7558 - mae: 16.7558\n",
            "Epoch 13/200\n",
            "1/1 [==============================] - 0s 19ms/step - loss: 16.5156 - mae: 16.5156\n",
            "Epoch 14/200\n",
            "1/1 [==============================] - 0s 25ms/step - loss: 16.2747 - mae: 16.2747\n",
            "Epoch 15/200\n",
            "1/1 [==============================] - 0s 27ms/step - loss: 16.0332 - mae: 16.0332\n",
            "Epoch 16/200\n",
            "1/1 [==============================] - 0s 26ms/step - loss: 15.7907 - mae: 15.7907\n",
            "Epoch 17/200\n",
            "1/1 [==============================] - 0s 48ms/step - loss: 15.5474 - mae: 15.5474\n",
            "Epoch 18/200\n",
            "1/1 [==============================] - 0s 26ms/step - loss: 15.3030 - mae: 15.3030\n",
            "Epoch 19/200\n",
            "1/1 [==============================] - 0s 20ms/step - loss: 15.0576 - mae: 15.0576\n",
            "Epoch 20/200\n",
            "1/1 [==============================] - 0s 26ms/step - loss: 14.8110 - mae: 14.8110\n",
            "Epoch 21/200\n",
            "1/1 [==============================] - 0s 16ms/step - loss: 14.5631 - mae: 14.5631\n",
            "Epoch 22/200\n",
            "1/1 [==============================] - 0s 21ms/step - loss: 14.3138 - mae: 14.3138\n",
            "Epoch 23/200\n",
            "1/1 [==============================] - 0s 21ms/step - loss: 14.0630 - mae: 14.0630\n",
            "Epoch 24/200\n",
            "1/1 [==============================] - 0s 22ms/step - loss: 13.8107 - mae: 13.8107\n",
            "Epoch 25/200\n",
            "1/1 [==============================] - 0s 29ms/step - loss: 13.5567 - mae: 13.5567\n",
            "Epoch 26/200\n",
            "1/1 [==============================] - 0s 19ms/step - loss: 13.3009 - mae: 13.3009\n",
            "Epoch 27/200\n",
            "1/1 [==============================] - 0s 13ms/step - loss: 13.0432 - mae: 13.0432\n",
            "Epoch 28/200\n",
            "1/1 [==============================] - 0s 35ms/step - loss: 12.7835 - mae: 12.7835\n",
            "Epoch 29/200\n",
            "1/1 [==============================] - 0s 32ms/step - loss: 12.5218 - mae: 12.5218\n",
            "Epoch 30/200\n",
            "1/1 [==============================] - 0s 34ms/step - loss: 12.2579 - mae: 12.2579\n",
            "Epoch 31/200\n",
            "1/1 [==============================] - 0s 27ms/step - loss: 11.9917 - mae: 11.9917\n",
            "Epoch 32/200\n",
            "1/1 [==============================] - 0s 28ms/step - loss: 11.7230 - mae: 11.7230\n",
            "Epoch 33/200\n",
            "1/1 [==============================] - 0s 38ms/step - loss: 11.4519 - mae: 11.4519\n",
            "Epoch 34/200\n",
            "1/1 [==============================] - 0s 28ms/step - loss: 11.1900 - mae: 11.1900\n",
            "Epoch 35/200\n",
            "1/1 [==============================] - 0s 18ms/step - loss: 10.9293 - mae: 10.9293\n",
            "Epoch 36/200\n",
            "1/1 [==============================] - 0s 15ms/step - loss: 10.6660 - mae: 10.6660\n",
            "Epoch 37/200\n",
            "1/1 [==============================] - 0s 22ms/step - loss: 10.3999 - mae: 10.3999\n",
            "Epoch 38/200\n",
            "1/1 [==============================] - 0s 13ms/step - loss: 10.1310 - mae: 10.1310\n",
            "Epoch 39/200\n",
            "1/1 [==============================] - 0s 35ms/step - loss: 9.8591 - mae: 9.8591\n",
            "Epoch 40/200\n",
            "1/1 [==============================] - 0s 32ms/step - loss: 9.5842 - mae: 9.5842\n",
            "Epoch 41/200\n",
            "1/1 [==============================] - 0s 34ms/step - loss: 9.3061 - mae: 9.3061\n",
            "Epoch 42/200\n",
            "1/1 [==============================] - 0s 22ms/step - loss: 9.0247 - mae: 9.0247\n",
            "Epoch 43/200\n",
            "1/1 [==============================] - 0s 23ms/step - loss: 8.7400 - mae: 8.7400\n",
            "Epoch 44/200\n",
            "1/1 [==============================] - 0s 34ms/step - loss: 8.4517 - mae: 8.4517\n",
            "Epoch 45/200\n",
            "1/1 [==============================] - 0s 37ms/step - loss: 8.1598 - mae: 8.1598\n",
            "Epoch 46/200\n",
            "1/1 [==============================] - 0s 28ms/step - loss: 7.8642 - mae: 7.8642\n",
            "Epoch 47/200\n",
            "1/1 [==============================] - 0s 23ms/step - loss: 7.5647 - mae: 7.5647\n",
            "Epoch 48/200\n",
            "1/1 [==============================] - 0s 18ms/step - loss: 7.2612 - mae: 7.2612\n",
            "Epoch 49/200\n",
            "1/1 [==============================] - 0s 19ms/step - loss: 6.9536 - mae: 6.9536\n",
            "Epoch 50/200\n",
            "1/1 [==============================] - 0s 16ms/step - loss: 6.6417 - mae: 6.6417\n",
            "Epoch 51/200\n",
            "1/1 [==============================] - 0s 21ms/step - loss: 6.3255 - mae: 6.3255\n",
            "Epoch 52/200\n",
            "1/1 [==============================] - 0s 32ms/step - loss: 6.0048 - mae: 6.0048\n",
            "Epoch 53/200\n",
            "1/1 [==============================] - 0s 33ms/step - loss: 5.6794 - mae: 5.6794\n",
            "Epoch 54/200\n",
            "1/1 [==============================] - 0s 25ms/step - loss: 5.3493 - mae: 5.3493\n",
            "Epoch 55/200\n",
            "1/1 [==============================] - 0s 42ms/step - loss: 5.0143 - mae: 5.0143\n",
            "Epoch 56/200\n",
            "1/1 [==============================] - 0s 27ms/step - loss: 4.6743 - mae: 4.6743\n",
            "Epoch 57/200\n",
            "1/1 [==============================] - 0s 25ms/step - loss: 4.3291 - mae: 4.3291\n",
            "Epoch 58/200\n",
            "1/1 [==============================] - 0s 20ms/step - loss: 4.0472 - mae: 4.0472\n",
            "Epoch 59/200\n",
            "1/1 [==============================] - 0s 22ms/step - loss: 3.9579 - mae: 3.9579\n",
            "Epoch 60/200\n",
            "1/1 [==============================] - 0s 42ms/step - loss: 3.9559 - mae: 3.9559\n",
            "Epoch 61/200\n",
            "1/1 [==============================] - 0s 21ms/step - loss: 3.9795 - mae: 3.9795\n",
            "Epoch 62/200\n",
            "1/1 [==============================] - 0s 28ms/step - loss: 4.0006 - mae: 4.0006\n",
            "Epoch 63/200\n",
            "1/1 [==============================] - 0s 24ms/step - loss: 4.0194 - mae: 4.0194\n",
            "Epoch 64/200\n",
            "1/1 [==============================] - 0s 36ms/step - loss: 4.0671 - mae: 4.0671\n",
            "Epoch 65/200\n",
            "1/1 [==============================] - 0s 26ms/step - loss: 4.1292 - mae: 4.1292\n",
            "Epoch 66/200\n",
            "1/1 [==============================] - 0s 28ms/step - loss: 4.1796 - mae: 4.1796\n",
            "Epoch 67/200\n",
            "1/1 [==============================] - 0s 26ms/step - loss: 4.2191 - mae: 4.2191\n",
            "Epoch 68/200\n",
            "1/1 [==============================] - 0s 29ms/step - loss: 4.2487 - mae: 4.2487\n",
            "Epoch 69/200\n",
            "1/1 [==============================] - 0s 31ms/step - loss: 4.2692 - mae: 4.2692\n",
            "Epoch 70/200\n",
            "1/1 [==============================] - 0s 26ms/step - loss: 4.2814 - mae: 4.2814\n",
            "Epoch 71/200\n",
            "1/1 [==============================] - 0s 25ms/step - loss: 4.2860 - mae: 4.2860\n",
            "Epoch 72/200\n",
            "1/1 [==============================] - 0s 26ms/step - loss: 4.2838 - mae: 4.2838\n",
            "Epoch 73/200\n",
            "1/1 [==============================] - 0s 37ms/step - loss: 4.2753 - mae: 4.2753\n",
            "Epoch 74/200\n",
            "1/1 [==============================] - 0s 41ms/step - loss: 4.2612 - mae: 4.2612\n",
            "Epoch 75/200\n",
            "1/1 [==============================] - 0s 21ms/step - loss: 4.2420 - mae: 4.2420\n",
            "Epoch 76/200\n",
            "1/1 [==============================] - 0s 25ms/step - loss: 4.2182 - mae: 4.2182\n",
            "Epoch 77/200\n",
            "1/1 [==============================] - 0s 24ms/step - loss: 4.1903 - mae: 4.1903\n",
            "Epoch 78/200\n",
            "1/1 [==============================] - 0s 24ms/step - loss: 4.1587 - mae: 4.1587\n",
            "Epoch 79/200\n",
            "1/1 [==============================] - 0s 26ms/step - loss: 4.1238 - mae: 4.1238\n",
            "Epoch 80/200\n",
            "1/1 [==============================] - 0s 18ms/step - loss: 4.0860 - mae: 4.0860\n",
            "Epoch 81/200\n",
            "1/1 [==============================] - 0s 18ms/step - loss: 4.0456 - mae: 4.0456\n",
            "Epoch 82/200\n",
            "1/1 [==============================] - 0s 24ms/step - loss: 4.0028 - mae: 4.0028\n",
            "Epoch 83/200\n",
            "1/1 [==============================] - 0s 22ms/step - loss: 3.9869 - mae: 3.9869\n",
            "Epoch 84/200\n",
            "1/1 [==============================] - 0s 35ms/step - loss: 3.9757 - mae: 3.9757\n",
            "Epoch 85/200\n",
            "1/1 [==============================] - 0s 29ms/step - loss: 3.9651 - mae: 3.9651\n",
            "Epoch 86/200\n",
            "1/1 [==============================] - 0s 30ms/step - loss: 3.9550 - mae: 3.9550\n",
            "Epoch 87/200\n",
            "1/1 [==============================] - 0s 22ms/step - loss: 3.9454 - mae: 3.9454\n",
            "Epoch 88/200\n",
            "1/1 [==============================] - 0s 19ms/step - loss: 3.9362 - mae: 3.9362\n",
            "Epoch 89/200\n",
            "1/1 [==============================] - 0s 21ms/step - loss: 3.9274 - mae: 3.9274\n",
            "Epoch 90/200\n",
            "1/1 [==============================] - 0s 21ms/step - loss: 3.9189 - mae: 3.9189\n",
            "Epoch 91/200\n",
            "1/1 [==============================] - 0s 22ms/step - loss: 3.9108 - mae: 3.9108\n",
            "Epoch 92/200\n",
            "1/1 [==============================] - 0s 24ms/step - loss: 3.9029 - mae: 3.9029\n",
            "Epoch 93/200\n",
            "1/1 [==============================] - 0s 18ms/step - loss: 3.8953 - mae: 3.8953\n",
            "Epoch 94/200\n",
            "1/1 [==============================] - 0s 19ms/step - loss: 3.8879 - mae: 3.8879\n",
            "Epoch 95/200\n",
            "1/1 [==============================] - 0s 19ms/step - loss: 3.8852 - mae: 3.8852\n",
            "Epoch 96/200\n",
            "1/1 [==============================] - 0s 16ms/step - loss: 3.8989 - mae: 3.8989\n",
            "Epoch 97/200\n",
            "1/1 [==============================] - 0s 29ms/step - loss: 3.9071 - mae: 3.9071\n",
            "Epoch 98/200\n",
            "1/1 [==============================] - 0s 19ms/step - loss: 3.9092 - mae: 3.9092\n",
            "Epoch 99/200\n",
            "1/1 [==============================] - 0s 23ms/step - loss: 3.9116 - mae: 3.9116\n",
            "Epoch 100/200\n",
            "1/1 [==============================] - 0s 18ms/step - loss: 3.9105 - mae: 3.9105\n",
            "Epoch 101/200\n",
            "1/1 [==============================] - 0s 33ms/step - loss: 3.9062 - mae: 3.9062\n",
            "Epoch 102/200\n",
            "1/1 [==============================] - 0s 23ms/step - loss: 3.8990 - mae: 3.8990\n",
            "Epoch 103/200\n",
            "1/1 [==============================] - 0s 18ms/step - loss: 3.8891 - mae: 3.8891\n",
            "Epoch 104/200\n",
            "1/1 [==============================] - 0s 25ms/step - loss: 3.8768 - mae: 3.8768\n",
            "Epoch 105/200\n",
            "1/1 [==============================] - 0s 28ms/step - loss: 3.8749 - mae: 3.8749\n",
            "Epoch 106/200\n",
            "1/1 [==============================] - 0s 29ms/step - loss: 3.8773 - mae: 3.8773\n",
            "Epoch 107/200\n",
            "1/1 [==============================] - 0s 20ms/step - loss: 3.8790 - mae: 3.8790\n",
            "Epoch 108/200\n",
            "1/1 [==============================] - 0s 19ms/step - loss: 3.8800 - mae: 3.8800\n",
            "Epoch 109/200\n",
            "1/1 [==============================] - 0s 24ms/step - loss: 3.8804 - mae: 3.8804\n",
            "Epoch 110/200\n",
            "1/1 [==============================] - 0s 29ms/step - loss: 3.8802 - mae: 3.8802\n",
            "Epoch 111/200\n",
            "1/1 [==============================] - 0s 22ms/step - loss: 3.8794 - mae: 3.8794\n",
            "Epoch 112/200\n",
            "1/1 [==============================] - 0s 22ms/step - loss: 3.8782 - mae: 3.8782\n",
            "Epoch 113/200\n",
            "1/1 [==============================] - 0s 14ms/step - loss: 3.8766 - mae: 3.8766\n",
            "Epoch 114/200\n",
            "1/1 [==============================] - 0s 19ms/step - loss: 3.8771 - mae: 3.8771\n",
            "Epoch 115/200\n",
            "1/1 [==============================] - 0s 17ms/step - loss: 3.8748 - mae: 3.8748\n",
            "Epoch 116/200\n",
            "1/1 [==============================] - 0s 32ms/step - loss: 3.8711 - mae: 3.8711\n",
            "Epoch 117/200\n",
            "1/1 [==============================] - 0s 16ms/step - loss: 3.8691 - mae: 3.8691\n",
            "Epoch 118/200\n",
            "1/1 [==============================] - 0s 18ms/step - loss: 3.8667 - mae: 3.8667\n",
            "Epoch 119/200\n",
            "1/1 [==============================] - 0s 18ms/step - loss: 3.8640 - mae: 3.8640\n",
            "Epoch 120/200\n",
            "1/1 [==============================] - 0s 19ms/step - loss: 3.8611 - mae: 3.8611\n",
            "Epoch 121/200\n",
            "1/1 [==============================] - 0s 19ms/step - loss: 3.8578 - mae: 3.8578\n",
            "Epoch 122/200\n",
            "1/1 [==============================] - 0s 29ms/step - loss: 3.8543 - mae: 3.8543\n",
            "Epoch 123/200\n",
            "1/1 [==============================] - 0s 19ms/step - loss: 3.8506 - mae: 3.8506\n",
            "Epoch 124/200\n",
            "1/1 [==============================] - 0s 19ms/step - loss: 3.8555 - mae: 3.8555\n",
            "Epoch 125/200\n",
            "1/1 [==============================] - 0s 15ms/step - loss: 3.8577 - mae: 3.8577\n",
            "Epoch 126/200\n",
            "1/1 [==============================] - 0s 25ms/step - loss: 3.8559 - mae: 3.8559\n",
            "Epoch 127/200\n",
            "1/1 [==============================] - 0s 24ms/step - loss: 3.8509 - mae: 3.8509\n",
            "Epoch 128/200\n",
            "1/1 [==============================] - 0s 21ms/step - loss: 3.8439 - mae: 3.8439\n",
            "Epoch 129/200\n",
            "1/1 [==============================] - 0s 20ms/step - loss: 3.8445 - mae: 3.8445\n",
            "Epoch 130/200\n",
            "1/1 [==============================] - 0s 21ms/step - loss: 3.8445 - mae: 3.8445\n",
            "Epoch 131/200\n",
            "1/1 [==============================] - 0s 19ms/step - loss: 3.8440 - mae: 3.8440\n",
            "Epoch 132/200\n",
            "1/1 [==============================] - 0s 27ms/step - loss: 3.8429 - mae: 3.8429\n",
            "Epoch 133/200\n",
            "1/1 [==============================] - 0s 21ms/step - loss: 3.8416 - mae: 3.8416\n",
            "Epoch 134/200\n",
            "1/1 [==============================] - 0s 21ms/step - loss: 3.8400 - mae: 3.8400\n",
            "Epoch 135/200\n",
            "1/1 [==============================] - 0s 21ms/step - loss: 3.8381 - mae: 3.8381\n",
            "Epoch 136/200\n",
            "1/1 [==============================] - 0s 24ms/step - loss: 3.8359 - mae: 3.8359\n",
            "Epoch 137/200\n",
            "1/1 [==============================] - 0s 28ms/step - loss: 3.8333 - mae: 3.8333\n",
            "Epoch 138/200\n",
            "1/1 [==============================] - 0s 26ms/step - loss: 3.8372 - mae: 3.8372\n",
            "Epoch 139/200\n",
            "1/1 [==============================] - 0s 29ms/step - loss: 3.8368 - mae: 3.8368\n",
            "Epoch 140/200\n",
            "1/1 [==============================] - 0s 22ms/step - loss: 3.8326 - mae: 3.8326\n",
            "Epoch 141/200\n",
            "1/1 [==============================] - 0s 17ms/step - loss: 3.8290 - mae: 3.8290\n",
            "Epoch 142/200\n",
            "1/1 [==============================] - 0s 17ms/step - loss: 3.8305 - mae: 3.8305\n",
            "Epoch 143/200\n",
            "1/1 [==============================] - 0s 19ms/step - loss: 3.8289 - mae: 3.8289\n",
            "Epoch 144/200\n",
            "1/1 [==============================] - 0s 14ms/step - loss: 3.8283 - mae: 3.8283\n",
            "Epoch 145/200\n",
            "1/1 [==============================] - 0s 17ms/step - loss: 3.8272 - mae: 3.8272\n",
            "Epoch 146/200\n",
            "1/1 [==============================] - 0s 23ms/step - loss: 3.8256 - mae: 3.8256\n",
            "Epoch 147/200\n",
            "1/1 [==============================] - 0s 17ms/step - loss: 3.8236 - mae: 3.8236\n",
            "Epoch 148/200\n",
            "1/1 [==============================] - 0s 17ms/step - loss: 3.8217 - mae: 3.8217\n",
            "Epoch 149/200\n",
            "1/1 [==============================] - 0s 18ms/step - loss: 3.8189 - mae: 3.8189\n",
            "Epoch 150/200\n",
            "1/1 [==============================] - 0s 17ms/step - loss: 3.8209 - mae: 3.8209\n",
            "Epoch 151/200\n",
            "1/1 [==============================] - 0s 18ms/step - loss: 3.8204 - mae: 3.8204\n",
            "Epoch 152/200\n",
            "1/1 [==============================] - 0s 18ms/step - loss: 3.8158 - mae: 3.8158\n",
            "Epoch 153/200\n",
            "1/1 [==============================] - 0s 28ms/step - loss: 3.8159 - mae: 3.8159\n",
            "Epoch 154/200\n",
            "1/1 [==============================] - 0s 28ms/step - loss: 3.8162 - mae: 3.8162\n",
            "Epoch 155/200\n",
            "1/1 [==============================] - 0s 20ms/step - loss: 3.8159 - mae: 3.8159\n",
            "Epoch 156/200\n",
            "1/1 [==============================] - 0s 19ms/step - loss: 3.8150 - mae: 3.8150\n",
            "Epoch 157/200\n",
            "1/1 [==============================] - 0s 21ms/step - loss: 3.8139 - mae: 3.8139\n",
            "Epoch 158/200\n",
            "1/1 [==============================] - 0s 22ms/step - loss: 3.8123 - mae: 3.8123\n",
            "Epoch 159/200\n",
            "1/1 [==============================] - 0s 18ms/step - loss: 3.8105 - mae: 3.8105\n",
            "Epoch 160/200\n",
            "1/1 [==============================] - 0s 19ms/step - loss: 3.8083 - mae: 3.8083\n",
            "Epoch 161/200\n",
            "1/1 [==============================] - 0s 27ms/step - loss: 3.8057 - mae: 3.8057\n",
            "Epoch 162/200\n",
            "1/1 [==============================] - 0s 18ms/step - loss: 3.8027 - mae: 3.8027\n",
            "Epoch 163/200\n",
            "1/1 [==============================] - 0s 22ms/step - loss: 3.8057 - mae: 3.8057\n",
            "Epoch 164/200\n",
            "1/1 [==============================] - 0s 21ms/step - loss: 3.8065 - mae: 3.8065\n",
            "Epoch 165/200\n",
            "1/1 [==============================] - 0s 20ms/step - loss: 3.8014 - mae: 3.8014\n",
            "Epoch 166/200\n",
            "1/1 [==============================] - 0s 21ms/step - loss: 3.7988 - mae: 3.7988\n",
            "Epoch 167/200\n",
            "1/1 [==============================] - 0s 20ms/step - loss: 3.7992 - mae: 3.7992\n",
            "Epoch 168/200\n",
            "1/1 [==============================] - 0s 20ms/step - loss: 3.7989 - mae: 3.7989\n",
            "Epoch 169/200\n",
            "1/1 [==============================] - 0s 18ms/step - loss: 3.7981 - mae: 3.7981\n",
            "Epoch 170/200\n",
            "1/1 [==============================] - 0s 18ms/step - loss: 3.7967 - mae: 3.7967\n",
            "Epoch 171/200\n",
            "1/1 [==============================] - 0s 19ms/step - loss: 3.7948 - mae: 3.7948\n",
            "Epoch 172/200\n",
            "1/1 [==============================] - 0s 20ms/step - loss: 3.7932 - mae: 3.7932\n",
            "Epoch 173/200\n",
            "1/1 [==============================] - 0s 19ms/step - loss: 3.7904 - mae: 3.7904\n",
            "Epoch 174/200\n",
            "1/1 [==============================] - 0s 26ms/step - loss: 3.7879 - mae: 3.7879\n",
            "Epoch 175/200\n",
            "1/1 [==============================] - 0s 23ms/step - loss: 3.7895 - mae: 3.7895\n",
            "Epoch 176/200\n",
            "1/1 [==============================] - 0s 22ms/step - loss: 3.7888 - mae: 3.7888\n",
            "Epoch 177/200\n",
            "1/1 [==============================] - 0s 19ms/step - loss: 3.7838 - mae: 3.7838\n",
            "Epoch 178/200\n",
            "1/1 [==============================] - 0s 27ms/step - loss: 3.7844 - mae: 3.7844\n",
            "Epoch 179/200\n",
            "1/1 [==============================] - 0s 19ms/step - loss: 3.7846 - mae: 3.7846\n",
            "Epoch 180/200\n",
            "1/1 [==============================] - 0s 17ms/step - loss: 3.7858 - mae: 3.7858\n",
            "Epoch 181/200\n",
            "1/1 [==============================] - 0s 18ms/step - loss: 3.7839 - mae: 3.7839\n",
            "Epoch 182/200\n",
            "1/1 [==============================] - 0s 16ms/step - loss: 3.7829 - mae: 3.7829\n",
            "Epoch 183/200\n",
            "1/1 [==============================] - 0s 19ms/step - loss: 3.7814 - mae: 3.7814\n",
            "Epoch 184/200\n",
            "1/1 [==============================] - 0s 19ms/step - loss: 3.7794 - mae: 3.7794\n",
            "Epoch 185/200\n",
            "1/1 [==============================] - 0s 19ms/step - loss: 3.7769 - mae: 3.7769\n",
            "Epoch 186/200\n",
            "1/1 [==============================] - 0s 18ms/step - loss: 3.7741 - mae: 3.7741\n",
            "Epoch 187/200\n",
            "1/1 [==============================] - 0s 22ms/step - loss: 3.7723 - mae: 3.7723\n",
            "Epoch 188/200\n",
            "1/1 [==============================] - 0s 20ms/step - loss: 3.7727 - mae: 3.7727\n",
            "Epoch 189/200\n",
            "1/1 [==============================] - 0s 20ms/step - loss: 3.7727 - mae: 3.7727\n",
            "Epoch 190/200\n",
            "1/1 [==============================] - 0s 18ms/step - loss: 3.7681 - mae: 3.7681\n",
            "Epoch 191/200\n",
            "1/1 [==============================] - 0s 20ms/step - loss: 3.7675 - mae: 3.7675\n",
            "Epoch 192/200\n",
            "1/1 [==============================] - 0s 15ms/step - loss: 3.7678 - mae: 3.7678\n",
            "Epoch 193/200\n",
            "1/1 [==============================] - 0s 16ms/step - loss: 3.7674 - mae: 3.7674\n",
            "Epoch 194/200\n",
            "1/1 [==============================] - 0s 17ms/step - loss: 3.7665 - mae: 3.7665\n",
            "Epoch 195/200\n",
            "1/1 [==============================] - 0s 21ms/step - loss: 3.7656 - mae: 3.7656\n",
            "Epoch 196/200\n",
            "1/1 [==============================] - 0s 18ms/step - loss: 3.7636 - mae: 3.7636\n",
            "Epoch 197/200\n",
            "1/1 [==============================] - 0s 20ms/step - loss: 3.7617 - mae: 3.7617\n",
            "Epoch 198/200\n",
            "1/1 [==============================] - 0s 19ms/step - loss: 3.7593 - mae: 3.7593\n",
            "Epoch 199/200\n",
            "1/1 [==============================] - 0s 21ms/step - loss: 3.7565 - mae: 3.7565\n",
            "Epoch 200/200\n",
            "1/1 [==============================] - 0s 24ms/step - loss: 3.7542 - mae: 3.7542\n"
          ]
        },
        {
          "output_type": "execute_result",
          "data": {
            "text/plain": [
              "<keras.src.callbacks.History at 0x7cd754681570>"
            ]
          },
          "metadata": {},
          "execution_count": 12
        }
      ]
    },
    {
      "cell_type": "code",
      "source": [
        "model.predict(tf.constant([35.0]))"
      ],
      "metadata": {
        "colab": {
          "base_uri": "https://localhost:8080/"
        },
        "id": "bGNTb3co0kho",
        "outputId": "470503e4-4995-4c1e-bba8-c93d34bf4627"
      },
      "execution_count": 13,
      "outputs": [
        {
          "output_type": "stream",
          "name": "stdout",
          "text": [
            "1/1 [==============================] - 0s 348ms/step\n"
          ]
        },
        {
          "output_type": "execute_result",
          "data": {
            "text/plain": [
              "array([[51.20203]], dtype=float32)"
            ]
          },
          "metadata": {},
          "execution_count": 13
        }
      ]
    },
    {
      "cell_type": "markdown",
      "source": [
        "## Evaluating a model\n",
        "\n",
        "In practice, a typical workflow you'll go through when building neural networks is:\n",
        "\n",
        "```\n",
        "Build a model -> fit it -> evaluate it -> tweak a model -> fit it\n",
        "-> evaluate it -> tweak a model ...\n",
        "```"
      ],
      "metadata": {
        "id": "xD8DFubH4HXI"
      }
    },
    {
      "cell_type": "markdown",
      "source": [
        "When it comes to evaluation... there are 3 words you should memorize:\n",
        "\n",
        "> \"Visualize, visualize, visualize\"\n",
        "\n",
        "It's a good idea to visualize:\n",
        "* The data - what data are we working with? What does it look like?\n",
        "* THe model itself - what does our model look like?\n",
        "* The training of a model - how does a model perform while it learns?\n",
        "* The predictions of the model - how do the prediction of a model line up against the ground truth (the original labels)"
      ],
      "metadata": {
        "id": "rnOOF3Wt6WYJ"
      }
    },
    {
      "cell_type": "code",
      "source": [
        "# Make a bigger dataset\n",
        "X = tf.range(-100, 100, 4)\n",
        "X"
      ],
      "metadata": {
        "colab": {
          "base_uri": "https://localhost:8080/"
        },
        "id": "0aSQwTdc61qx",
        "outputId": "40c16868-3434-479e-fc0d-fb13d6a1ea97"
      },
      "execution_count": 14,
      "outputs": [
        {
          "output_type": "execute_result",
          "data": {
            "text/plain": [
              "<tf.Tensor: shape=(50,), dtype=int32, numpy=\n",
              "array([-100,  -96,  -92,  -88,  -84,  -80,  -76,  -72,  -68,  -64,  -60,\n",
              "        -56,  -52,  -48,  -44,  -40,  -36,  -32,  -28,  -24,  -20,  -16,\n",
              "        -12,   -8,   -4,    0,    4,    8,   12,   16,   20,   24,   28,\n",
              "         32,   36,   40,   44,   48,   52,   56,   60,   64,   68,   72,\n",
              "         76,   80,   84,   88,   92,   96], dtype=int32)>"
            ]
          },
          "metadata": {},
          "execution_count": 14
        }
      ]
    },
    {
      "cell_type": "code",
      "source": [
        "# Make labels for the dataset\n",
        "y = X + 10 # This is a formula we want our model to learn\n",
        "y"
      ],
      "metadata": {
        "colab": {
          "base_uri": "https://localhost:8080/"
        },
        "id": "dlkPdeq268f3",
        "outputId": "b5116fed-5b98-4e88-d6cd-887c96be0f64"
      },
      "execution_count": 15,
      "outputs": [
        {
          "output_type": "execute_result",
          "data": {
            "text/plain": [
              "<tf.Tensor: shape=(50,), dtype=int32, numpy=\n",
              "array([-90, -86, -82, -78, -74, -70, -66, -62, -58, -54, -50, -46, -42,\n",
              "       -38, -34, -30, -26, -22, -18, -14, -10,  -6,  -2,   2,   6,  10,\n",
              "        14,  18,  22,  26,  30,  34,  38,  42,  46,  50,  54,  58,  62,\n",
              "        66,  70,  74,  78,  82,  86,  90,  94,  98, 102, 106], dtype=int32)>"
            ]
          },
          "metadata": {},
          "execution_count": 15
        }
      ]
    },
    {
      "cell_type": "code",
      "source": [
        "# Visualize the data\n",
        "import matplotlib.pyplot as plt\n",
        "\n",
        "plt.scatter(X, y)"
      ],
      "metadata": {
        "colab": {
          "base_uri": "https://localhost:8080/",
          "height": 448
        },
        "id": "Sd3u4plq7F9D",
        "outputId": "bccc9527-b78c-44f8-8432-06fd0f77b22d"
      },
      "execution_count": 16,
      "outputs": [
        {
          "output_type": "execute_result",
          "data": {
            "text/plain": [
              "<matplotlib.collections.PathCollection at 0x7cd75464cf40>"
            ]
          },
          "metadata": {},
          "execution_count": 16
        },
        {
          "output_type": "display_data",
          "data": {
            "text/plain": [
              "<Figure size 640x480 with 1 Axes>"
            ],
            "image/png": "[encoded data removed]"
          },
          "metadata": {}
        }
      ]
    },
    {
      "cell_type": "markdown",
      "source": [
        "### Three sets ...\n",
        "\n",
        "* **Training set** - the model learns from this data, which is typically 70-80% of the total data you have available\n",
        "* **Validation set** - the model gets tuned on this data, which is typically 10-15% of the data available\n",
        "* **Test set** - the model gets evaluated on this data to test what it has learned. This is typically 10-15% of the total data available."
      ],
      "metadata": {
        "id": "FUKfu6qr7Nu3"
      }
    },
    {
      "cell_type": "code",
      "source": [
        "# Check the length of how many samples we have\n",
        "len(X)"
      ],
      "metadata": {
        "colab": {
          "base_uri": "https://localhost:8080/"
        },
        "id": "pmMJZQXM7f_v",
        "outputId": "bdb9ebde-7496-4206-831f-8067b97ca462"
      },
      "execution_count": 17,
      "outputs": [
        {
          "output_type": "execute_result",
          "data": {
            "text/plain": [
              "50"
            ]
          },
          "metadata": {},
          "execution_count": 17
        }
      ]
    },
    {
      "cell_type": "code",
      "source": [
        "# Split the data into train and test sets\n",
        "X_train = X[:40] # This is 80% of the data\n",
        "y_train = y[:40]\n",
        "\n",
        "X_test = X[40:]\n",
        "y_test = y[40:]\n",
        "\n",
        "len(X_train), len(X_test)"
      ],
      "metadata": {
        "colab": {
          "base_uri": "https://localhost:8080/"
        },
        "id": "Yj6JNpYS8_Ab",
        "outputId": "871276ef-ee80-40fb-c56d-577f3ff3b332"
      },
      "execution_count": 18,
      "outputs": [
        {
          "output_type": "execute_result",
          "data": {
            "text/plain": [
              "(40, 10)"
            ]
          },
          "metadata": {},
          "execution_count": 18
        }
      ]
    },
    {
      "cell_type": "markdown",
      "source": [
        "### Visualizing the data\n",
        "\n",
        "Now we've got our data in training and test sets. Let's visualize it"
      ],
      "metadata": {
        "id": "U1e93GfC9eed"
      }
    },
    {
      "cell_type": "code",
      "source": [
        "plt.figure(figsize=(10, 7))\n",
        "# Plot traning data in blue\n",
        "plt.scatter(X_train, y_train, c=\"b\", label=\"Training data\")\n",
        "# Plot test data in green\n",
        "plt.scatter(X_test, y_test, c=\"g\", label=\"Testing data\")\n",
        "plt.legend();"
      ],
      "metadata": {
        "colab": {
          "base_uri": "https://localhost:8080/",
          "height": 599
        },
        "id": "ogFH9Ag9908I",
        "outputId": "af17b24e-71a2-4ee7-a1a2-512c5e41d802"
      },
      "execution_count": 19,
      "outputs": [
        {
          "output_type": "display_data",
          "data": {
            "text/plain": [
              "<Figure size 1000x700 with 1 Axes>"
            ],
            "image/png": "[encoded data removed]"
          },
          "metadata": {}
        }
      ]
    },
    {
      "cell_type": "code",
      "source": [
        "# Let's have a look at how to build a neural network for our data\n",
        "model = tf.keras.Sequential([\n",
        "    tf.keras.layers.Dense(1),\n",
        "])\n",
        "\n",
        "model.compile(loss=tf.keras.losses.mae,\n",
        "              optimizer=tf.keras.optimizers.SGD(),\n",
        "              metrics=['mae']\n",
        "              )\n",
        "\n",
        "# model.fit(X_train, y_train, epochs=100)"
      ],
      "metadata": {
        "id": "XAoiN_cJ-KA-"
      },
      "execution_count": 20,
      "outputs": []
    },
    {
      "cell_type": "markdown",
      "source": [
        "### Visualize the model"
      ],
      "metadata": {
        "id": "frGpxtyLPHax"
      }
    },
    {
      "cell_type": "code",
      "source": [
        "# model.summary()"
      ],
      "metadata": {
        "id": "2yKDyOHqPLIc"
      },
      "execution_count": 21,
      "outputs": []
    },
    {
      "cell_type": "code",
      "source": [
        "# Let's create a model which builds automatically by defining the input shape argument\n",
        "tf.random.set_seed(42)\n",
        "\n",
        "model = tf.keras.Sequential([\n",
        "    tf.keras.layers.Dense(10, input_shape=[1], name=\"input_layer\"),\n",
        "    tf.keras.layers.Dense(1, name=\"output_layer\")\n",
        "], name=\"MODEL_1\")\n",
        "\n",
        "model.compile(loss=tf.keras.losses.mae,\n",
        "              optimizer=tf.keras.optimizers.SGD(),\n",
        "              metrics=['mae'])"
      ],
      "metadata": {
        "id": "mQW3QHDsPcQM"
      },
      "execution_count": 22,
      "outputs": []
    },
    {
      "cell_type": "code",
      "source": [
        "model.summary()"
      ],
      "metadata": {
        "colab": {
          "base_uri": "https://localhost:8080/"
        },
        "id": "NtnD-cXZP90C",
        "outputId": "a98e8748-36b9-441f-b41d-49c31a1f5601"
      },
      "execution_count": 23,
      "outputs": [
        {
          "output_type": "stream",
          "name": "stdout",
          "text": [
            "Model: \"MODEL_1\"\n",
            "_________________________________________________________________\n",
            " Layer (type)                Output Shape              Param #   \n",
            "=================================================================\n",
            " input_layer (Dense)         (None, 10)                20        \n",
            "                                                                 \n",
            " output_layer (Dense)        (None, 1)                 11        \n",
            "                                                                 \n",
            "=================================================================\n",
            "Total params: 31 (124.00 Byte)\n",
            "Trainable params: 31 (124.00 Byte)\n",
            "Non-trainable params: 0 (0.00 Byte)\n",
            "_________________________________________________________________\n"
          ]
        }
      ]
    },
    {
      "cell_type": "markdown",
      "source": [
        "* Total params - total number of parameters in the model\n",
        "* Trainable params - these are the parameters (patterns) the model can update as it trains\n",
        "* Non-trainable params - these parameters aren't updates during training (this is typical when you bring in already learn patterns or parameters from other models during **transfer learning**)"
      ],
      "metadata": {
        "id": "-wzN9MSLP_KS"
      }
    },
    {
      "cell_type": "code",
      "source": [
        "# Let's fit our model to the training data\n",
        "model.fit(X_train, y_train, epochs=100, verbose=0)"
      ],
      "metadata": {
        "colab": {
          "base_uri": "https://localhost:8080/"
        },
        "id": "xYWTJHCPZHEu",
        "outputId": "50250689-dd96-4a39-fd5f-d5b3aee2245a"
      },
      "execution_count": 24,
      "outputs": [
        {
          "output_type": "execute_result",
          "data": {
            "text/plain": [
              "<keras.src.callbacks.History at 0x7cd75426dc30>"
            ]
          },
          "metadata": {},
          "execution_count": 24
        }
      ]
    },
    {
      "cell_type": "code",
      "source": [
        "# Plot the model\n",
        "tf.keras.utils.plot_model(model, show_shapes=True)"
      ],
      "metadata": {
        "colab": {
          "base_uri": "https://localhost:8080/",
          "height": 312
        },
        "id": "xBbvL1e0aWfs",
        "outputId": "15814f7c-4f6d-4340-c850-b408b3ee24ab"
      },
      "execution_count": 25,
      "outputs": [
        {
          "output_type": "execute_result",
          "data": {
            "image/png": "[encoded data removed]",
            "text/plain": [
              "<IPython.core.display.Image object>"
            ]
          },
          "metadata": {},
          "execution_count": 25
        }
      ]
    },
    {
      "cell_type": "markdown",
      "source": [
        "## Visualize our model's predictions\n",
        "\n",
        "TO visualize predictions, it's a good idea to plot them against the ground truth labels.\n",
        "\n",
        "Often you'll see this in the form of 'y_test' versus 'y_pred' (ground truth versus your model's predictions)"
      ],
      "metadata": {
        "id": "jFZ2YNbabN6O"
      }
    },
    {
      "cell_type": "code",
      "source": [
        "# Make some predictions\n",
        "y_pred = model.predict(X_test)\n",
        "y_pred"
      ],
      "metadata": {
        "colab": {
          "base_uri": "https://localhost:8080/"
        },
        "id": "tv6BGdgJdEGv",
        "outputId": "ce43961c-5a27-445f-fdee-1b95601b7059"
      },
      "execution_count": 26,
      "outputs": [
        {
          "output_type": "stream",
          "name": "stdout",
          "text": [
            "1/1 [==============================] - 0s 52ms/step\n"
          ]
        },
        {
          "output_type": "execute_result",
          "data": {
            "text/plain": [
              "array([[ 76.2377  ],\n",
              "       [ 81.2055  ],\n",
              "       [ 86.173294],\n",
              "       [ 91.14108 ],\n",
              "       [ 96.10889 ],\n",
              "       [101.076675],\n",
              "       [106.044464],\n",
              "       [111.01227 ],\n",
              "       [115.98006 ],\n",
              "       [120.947845]], dtype=float32)"
            ]
          },
          "metadata": {},
          "execution_count": 26
        }
      ]
    },
    {
      "cell_type": "code",
      "source": [
        "y_test"
      ],
      "metadata": {
        "colab": {
          "base_uri": "https://localhost:8080/"
        },
        "id": "gXd0wYORdWyD",
        "outputId": "94395d39-e3b1-430d-e4c7-b7ff8a8b350c"
      },
      "execution_count": 27,
      "outputs": [
        {
          "output_type": "execute_result",
          "data": {
            "text/plain": [
              "<tf.Tensor: shape=(10,), dtype=int32, numpy=array([ 70,  74,  78,  82,  86,  90,  94,  98, 102, 106], dtype=int32)>"
            ]
          },
          "metadata": {},
          "execution_count": 27
        }
      ]
    },
    {
      "cell_type": "code",
      "source": [
        "# Let's create a plotting function\n",
        "def plot_predictions(train_data=X_train,\n",
        "                     train_labels=y_train,\n",
        "                     test_data=X_test,\n",
        "                     test_labels=y_test,\n",
        "                     predictions=y_pred):\n",
        "  \"\"\"\n",
        "  Plots training data, test data and compares predictions to\n",
        "  ground truth labels\n",
        "  \"\"\"\n",
        "  plt.figure(figsize=(10,7))\n",
        "  plt.scatter(train_data, train_labels, c='b', label=\"Training data\")\n",
        "  plt.scatter(test_data, test_labels, c='g', label=\"Testing data\")\n",
        "  plt.scatter(test_data, predictions, c='r', label=\"Prediction data\")\n",
        "  plt.legend();"
      ],
      "metadata": {
        "id": "npdwT33GdaUt"
      },
      "execution_count": 28,
      "outputs": []
    },
    {
      "cell_type": "code",
      "source": [
        "plot_predictions()"
      ],
      "metadata": {
        "colab": {
          "base_uri": "https://localhost:8080/",
          "height": 599
        },
        "id": "KgegNvuXeP3H",
        "outputId": "600eba06-d796-49ab-9a12-fa0c5defb7cd"
      },
      "execution_count": 29,
      "outputs": [
        {
          "output_type": "display_data",
          "data": {
            "text/plain": [
              "<Figure size 1000x700 with 1 Axes>"
            ],
            "image/png": "[encoded data removed]"
          },
          "metadata": {}
        }
      ]
    },
    {
      "cell_type": "markdown",
      "source": [
        "### Evaluating our model's prediction with regression evaluation metrics\n",
        "\n",
        "Depending on the problem you're working on there will be different evaluation metrics to evaluate our model's performance.\n",
        "\n",
        "Since we're working on a regression, two of the main metrics:\n",
        "* MAE - mean absolute error, \"on average, how wrong is each of my model's prediction\n",
        "* MSE - mean square error, \"square the average errors\""
      ],
      "metadata": {
        "id": "CmA1xYDieaUP"
      }
    },
    {
      "cell_type": "code",
      "source": [
        "# Evaluate the model on the test\n",
        "model.evaluate(X_test, y_test)"
      ],
      "metadata": {
        "colab": {
          "base_uri": "https://localhost:8080/"
        },
        "id": "HmWpx_ZAfAlD",
        "outputId": "3d606a1d-454c-47f8-8cfd-a1b4c9f7233f"
      },
      "execution_count": 30,
      "outputs": [
        {
          "output_type": "stream",
          "name": "stdout",
          "text": [
            "1/1 [==============================] - 0s 125ms/step - loss: 10.5928 - mae: 10.5928\n"
          ]
        },
        {
          "output_type": "execute_result",
          "data": {
            "text/plain": [
              "[10.592777252197266, 10.592777252197266]"
            ]
          },
          "metadata": {},
          "execution_count": 30
        }
      ]
    },
    {
      "cell_type": "code",
      "source": [
        "# Calculate the mean absolute error\n",
        "mae = tf.metrics.mean_absolute_error(y_test, tf.squeeze(y_pred))\n",
        "mae\n",
        "\n",
        "# Vectors should be of the same shape - otherwise it given bad results"
      ],
      "metadata": {
        "colab": {
          "base_uri": "https://localhost:8080/"
        },
        "id": "eQYpqzVFAtM8",
        "outputId": "a62fb751-e26d-48d9-e41b-6b14df2b43e7"
      },
      "execution_count": 31,
      "outputs": [
        {
          "output_type": "execute_result",
          "data": {
            "text/plain": [
              "<tf.Tensor: shape=(), dtype=float32, numpy=10.592777>"
            ]
          },
          "metadata": {},
          "execution_count": 31
        }
      ]
    },
    {
      "cell_type": "code",
      "source": [
        "# Calculate the mean squared error\n",
        "mse = tf.metrics.mean_squared_error(y_test,\n",
        "                                    tf.squeeze(y_pred))\n",
        "mse"
      ],
      "metadata": {
        "colab": {
          "base_uri": "https://localhost:8080/"
        },
        "id": "luMCkb1CBuGZ",
        "outputId": "63708af4-988b-4f2a-fca4-b68d70d1a32a"
      },
      "execution_count": 32,
      "outputs": [
        {
          "output_type": "execute_result",
          "data": {
            "text/plain": [
              "<tf.Tensor: shape=(), dtype=float32, numpy=119.93408>"
            ]
          },
          "metadata": {},
          "execution_count": 32
        }
      ]
    },
    {
      "cell_type": "code",
      "source": [
        "# Make some functions to reuse MAE and MSE\n",
        "def mae(y_true, y_pred):\n",
        "  return tf.metrics.mean_absolute_error(y_true, y_pred)\n",
        "\n",
        "def mse(y_true, y_pred):\n",
        "  return tf.metrics.mean_squared_error(y_true, y_pred)"
      ],
      "metadata": {
        "id": "UX7stiAwCaZe"
      },
      "execution_count": 33,
      "outputs": []
    },
    {
      "cell_type": "markdown",
      "source": [
        "### Running experiments to improve our model\n",
        "\n",
        "```\n",
        "Build a model -> fit it -> evaluate it -> tweak it -> fit it -> evaluate it...\n",
        "```\n",
        "\n",
        "1. Get more data - get more examples for your model to train on\n",
        "2. Make your model larger (using more complex model) - this might come in the form of more layers or more hidden units in each layer.\n",
        "3. Train for longer - give your models more of a chance to find patterns in the data."
      ],
      "metadata": {
        "id": "VGaCnvRSDBnM"
      }
    },
    {
      "cell_type": "code",
      "source": [
        "X_train, y_train"
      ],
      "metadata": {
        "colab": {
          "base_uri": "https://localhost:8080/"
        },
        "id": "Hr-UhHdIFa2o",
        "outputId": "29588019-ff60-4cf9-d3b1-77771331cc15"
      },
      "execution_count": 34,
      "outputs": [
        {
          "output_type": "execute_result",
          "data": {
            "text/plain": [
              "(<tf.Tensor: shape=(40,), dtype=int32, numpy=\n",
              " array([-100,  -96,  -92,  -88,  -84,  -80,  -76,  -72,  -68,  -64,  -60,\n",
              "         -56,  -52,  -48,  -44,  -40,  -36,  -32,  -28,  -24,  -20,  -16,\n",
              "         -12,   -8,   -4,    0,    4,    8,   12,   16,   20,   24,   28,\n",
              "          32,   36,   40,   44,   48,   52,   56], dtype=int32)>,\n",
              " <tf.Tensor: shape=(40,), dtype=int32, numpy=\n",
              " array([-90, -86, -82, -78, -74, -70, -66, -62, -58, -54, -50, -46, -42,\n",
              "        -38, -34, -30, -26, -22, -18, -14, -10,  -6,  -2,   2,   6,  10,\n",
              "         14,  18,  22,  26,  30,  34,  38,  42,  46,  50,  54,  58,  62,\n",
              "         66], dtype=int32)>)"
            ]
          },
          "metadata": {},
          "execution_count": 34
        }
      ]
    },
    {
      "cell_type": "markdown",
      "source": [
        "Let's do three modelling experiments:\n",
        "\n",
        "1. model_1 - same as the original model, 1 layer but trained for 100 epochs\n",
        "2. model_2 - 2 layers, trained for 100 epochs\n",
        "3. model_3 - 2 layers, trained for 500 epochs"
      ],
      "metadata": {
        "id": "11k8KMrHF6JI"
      }
    },
    {
      "cell_type": "code",
      "source": [
        "# Set random seed\n",
        "tf.random.set_seed(42)\n",
        "\n",
        "model_1 = tf.keras.Sequential([\n",
        "    tf.keras.layers.Dense(1),\n",
        "])\n",
        "\n",
        "model_1.compile(loss=tf.keras.losses.mae,\n",
        "                optimizer=tf.keras.optimizers.SGD(),\n",
        "                metrics=['mae'])\n",
        "\n",
        "model_1.fit(tf.expand_dims(X_train, axis=1), y_train, epochs=100)"
      ],
      "metadata": {
        "colab": {
          "base_uri": "https://localhost:8080/"
        },
        "id": "VXRmtG1bGQnC",
        "outputId": "c7bf0f93-2dd0-4dab-a1e4-c19df1e943ec"
      },
      "execution_count": 35,
      "outputs": [
        {
          "output_type": "stream",
          "name": "stdout",
          "text": [
            "Epoch 1/100\n",
            "2/2 [==============================] - 0s 12ms/step - loss: 74.3489 - mae: 74.3489\n",
            "Epoch 2/100\n",
            "2/2 [==============================] - 0s 9ms/step - loss: 39.0220 - mae: 39.0220\n",
            "Epoch 3/100\n",
            "2/2 [==============================] - 0s 8ms/step - loss: 8.4698 - mae: 8.4698\n",
            "Epoch 4/100\n",
            "2/2 [==============================] - 0s 7ms/step - loss: 9.2480 - mae: 9.2480\n",
            "Epoch 5/100\n",
            "2/2 [==============================] - 0s 7ms/step - loss: 10.1047 - mae: 10.1047\n",
            "Epoch 6/100\n",
            "2/2 [==============================] - 0s 7ms/step - loss: 9.3782 - mae: 9.3782\n",
            "Epoch 7/100\n",
            "2/2 [==============================] - 0s 14ms/step - loss: 8.5298 - mae: 8.5298\n",
            "Epoch 8/100\n",
            "2/2 [==============================] - 0s 8ms/step - loss: 9.0612 - mae: 9.0612\n",
            "Epoch 9/100\n",
            "2/2 [==============================] - 0s 7ms/step - loss: 18.6099 - mae: 18.6099\n",
            "Epoch 10/100\n",
            "2/2 [==============================] - 0s 7ms/step - loss: 10.0506 - mae: 10.0506\n",
            "Epoch 11/100\n",
            "2/2 [==============================] - 0s 8ms/step - loss: 8.3863 - mae: 8.3863\n",
            "Epoch 12/100\n",
            "2/2 [==============================] - 0s 7ms/step - loss: 10.6172 - mae: 10.6172\n",
            "Epoch 13/100\n",
            "2/2 [==============================] - 0s 7ms/step - loss: 9.7924 - mae: 9.7924\n",
            "Epoch 14/100\n",
            "2/2 [==============================] - 0s 8ms/step - loss: 15.8561 - mae: 15.8561\n",
            "Epoch 15/100\n",
            "2/2 [==============================] - 0s 7ms/step - loss: 11.5546 - mae: 11.5546\n",
            "Epoch 16/100\n",
            "2/2 [==============================] - 0s 9ms/step - loss: 8.5206 - mae: 8.5206\n",
            "Epoch 17/100\n",
            "2/2 [==============================] - 0s 12ms/step - loss: 13.5679 - mae: 13.5679\n",
            "Epoch 18/100\n",
            "2/2 [==============================] - 0s 7ms/step - loss: 11.3737 - mae: 11.3737\n",
            "Epoch 19/100\n",
            "2/2 [==============================] - 0s 7ms/step - loss: 18.0649 - mae: 18.0649\n",
            "Epoch 20/100\n",
            "2/2 [==============================] - 0s 7ms/step - loss: 15.1985 - mae: 15.1985\n",
            "Epoch 21/100\n",
            "2/2 [==============================] - 0s 7ms/step - loss: 11.1513 - mae: 11.1513\n",
            "Epoch 22/100\n",
            "2/2 [==============================] - 0s 7ms/step - loss: 8.2777 - mae: 8.2777\n",
            "Epoch 23/100\n",
            "2/2 [==============================] - 0s 7ms/step - loss: 9.4616 - mae: 9.4616\n",
            "Epoch 24/100\n",
            "2/2 [==============================] - 0s 8ms/step - loss: 7.7087 - mae: 7.7087\n",
            "Epoch 25/100\n",
            "2/2 [==============================] - 0s 8ms/step - loss: 13.0242 - mae: 13.0242\n",
            "Epoch 26/100\n",
            "2/2 [==============================] - 0s 8ms/step - loss: 16.5679 - mae: 16.5679\n",
            "Epoch 27/100\n",
            "2/2 [==============================] - 0s 7ms/step - loss: 13.2920 - mae: 13.2920\n",
            "Epoch 28/100\n",
            "2/2 [==============================] - 0s 10ms/step - loss: 14.4130 - mae: 14.4130\n",
            "Epoch 29/100\n",
            "2/2 [==============================] - 0s 7ms/step - loss: 10.1273 - mae: 10.1273\n",
            "Epoch 30/100\n",
            "2/2 [==============================] - 0s 7ms/step - loss: 16.5616 - mae: 16.5616\n",
            "Epoch 31/100\n",
            "2/2 [==============================] - 0s 8ms/step - loss: 23.4608 - mae: 23.4608\n",
            "Epoch 32/100\n",
            "2/2 [==============================] - 0s 8ms/step - loss: 7.3876 - mae: 7.3876\n",
            "Epoch 33/100\n",
            "2/2 [==============================] - 0s 7ms/step - loss: 9.8177 - mae: 9.8177\n",
            "Epoch 34/100\n",
            "2/2 [==============================] - 0s 12ms/step - loss: 12.2619 - mae: 12.2619\n",
            "Epoch 35/100\n",
            "2/2 [==============================] - 0s 8ms/step - loss: 11.1889 - mae: 11.1889\n",
            "Epoch 36/100\n",
            "2/2 [==============================] - 0s 7ms/step - loss: 13.4196 - mae: 13.4196\n",
            "Epoch 37/100\n",
            "2/2 [==============================] - 0s 7ms/step - loss: 9.4641 - mae: 9.4641\n",
            "Epoch 38/100\n",
            "2/2 [==============================] - 0s 7ms/step - loss: 10.1152 - mae: 10.1152\n",
            "Epoch 39/100\n",
            "2/2 [==============================] - 0s 7ms/step - loss: 8.9915 - mae: 8.9915\n",
            "Epoch 40/100\n",
            "2/2 [==============================] - 0s 7ms/step - loss: 9.6202 - mae: 9.6202\n",
            "Epoch 41/100\n",
            "2/2 [==============================] - 0s 9ms/step - loss: 10.5800 - mae: 10.5800\n",
            "Epoch 42/100\n",
            "2/2 [==============================] - 0s 7ms/step - loss: 10.6334 - mae: 10.6334\n",
            "Epoch 43/100\n",
            "2/2 [==============================] - 0s 7ms/step - loss: 7.2303 - mae: 7.2303\n",
            "Epoch 44/100\n",
            "2/2 [==============================] - 0s 7ms/step - loss: 8.0326 - mae: 8.0326\n",
            "Epoch 45/100\n",
            "2/2 [==============================] - 0s 9ms/step - loss: 9.8348 - mae: 9.8348\n",
            "Epoch 46/100\n",
            "2/2 [==============================] - 0s 7ms/step - loss: 8.9138 - mae: 8.9138\n",
            "Epoch 47/100\n",
            "2/2 [==============================] - 0s 6ms/step - loss: 7.5862 - mae: 7.5862\n",
            "Epoch 48/100\n",
            "2/2 [==============================] - 0s 13ms/step - loss: 8.5544 - mae: 8.5544\n",
            "Epoch 49/100\n",
            "2/2 [==============================] - 0s 8ms/step - loss: 10.0459 - mae: 10.0459\n",
            "Epoch 50/100\n",
            "2/2 [==============================] - 0s 8ms/step - loss: 9.0009 - mae: 9.0009\n",
            "Epoch 51/100\n",
            "2/2 [==============================] - 0s 12ms/step - loss: 10.7220 - mae: 10.7220\n",
            "Epoch 52/100\n",
            "2/2 [==============================] - 0s 14ms/step - loss: 15.2791 - mae: 15.2791\n",
            "Epoch 53/100\n",
            "2/2 [==============================] - 0s 9ms/step - loss: 14.3070 - mae: 14.3070\n",
            "Epoch 54/100\n",
            "2/2 [==============================] - 0s 12ms/step - loss: 21.5590 - mae: 21.5590\n",
            "Epoch 55/100\n",
            "2/2 [==============================] - 0s 9ms/step - loss: 16.0529 - mae: 16.0529\n",
            "Epoch 56/100\n",
            "2/2 [==============================] - 0s 12ms/step - loss: 10.2628 - mae: 10.2628\n",
            "Epoch 57/100\n",
            "2/2 [==============================] - 0s 9ms/step - loss: 9.8109 - mae: 9.8109\n",
            "Epoch 58/100\n",
            "2/2 [==============================] - 0s 8ms/step - loss: 9.0940 - mae: 9.0940\n",
            "Epoch 59/100\n",
            "2/2 [==============================] - 0s 8ms/step - loss: 8.2959 - mae: 8.2959\n",
            "Epoch 60/100\n",
            "2/2 [==============================] - 0s 12ms/step - loss: 9.3907 - mae: 9.3907\n",
            "Epoch 61/100\n",
            "2/2 [==============================] - 0s 9ms/step - loss: 11.2181 - mae: 11.2181\n",
            "Epoch 62/100\n",
            "2/2 [==============================] - 0s 11ms/step - loss: 12.0500 - mae: 12.0500\n",
            "Epoch 63/100\n",
            "2/2 [==============================] - 0s 9ms/step - loss: 7.2895 - mae: 7.2895\n",
            "Epoch 64/100\n",
            "2/2 [==============================] - 0s 9ms/step - loss: 12.4753 - mae: 12.4753\n",
            "Epoch 65/100\n",
            "2/2 [==============================] - 0s 9ms/step - loss: 10.5540 - mae: 10.5540\n",
            "Epoch 66/100\n",
            "2/2 [==============================] - 0s 9ms/step - loss: 15.5812 - mae: 15.5812\n",
            "Epoch 67/100\n",
            "2/2 [==============================] - 0s 10ms/step - loss: 9.9972 - mae: 9.9972\n",
            "Epoch 68/100\n",
            "2/2 [==============================] - 0s 10ms/step - loss: 8.7266 - mae: 8.7266\n",
            "Epoch 69/100\n",
            "2/2 [==============================] - 0s 9ms/step - loss: 13.4587 - mae: 13.4587\n",
            "Epoch 70/100\n",
            "2/2 [==============================] - 0s 10ms/step - loss: 7.4880 - mae: 7.4880\n",
            "Epoch 71/100\n",
            "2/2 [==============================] - 0s 18ms/step - loss: 12.2809 - mae: 12.2809\n",
            "Epoch 72/100\n",
            "2/2 [==============================] - 0s 9ms/step - loss: 8.5264 - mae: 8.5264\n",
            "Epoch 73/100\n",
            "2/2 [==============================] - 0s 9ms/step - loss: 7.0545 - mae: 7.0545\n",
            "Epoch 74/100\n",
            "2/2 [==============================] - 0s 8ms/step - loss: 9.9038 - mae: 9.9038\n",
            "Epoch 75/100\n",
            "2/2 [==============================] - 0s 11ms/step - loss: 9.9795 - mae: 9.9795\n",
            "Epoch 76/100\n",
            "2/2 [==============================] - 0s 11ms/step - loss: 10.1397 - mae: 10.1397\n",
            "Epoch 77/100\n",
            "2/2 [==============================] - 0s 12ms/step - loss: 13.0096 - mae: 13.0096\n",
            "Epoch 78/100\n",
            "2/2 [==============================] - 0s 13ms/step - loss: 10.9084 - mae: 10.9084\n",
            "Epoch 79/100\n",
            "2/2 [==============================] - 0s 11ms/step - loss: 15.3815 - mae: 15.3815\n",
            "Epoch 80/100\n",
            "2/2 [==============================] - 0s 11ms/step - loss: 11.7525 - mae: 11.7525\n",
            "Epoch 81/100\n",
            "2/2 [==============================] - 0s 11ms/step - loss: 9.2578 - mae: 9.2578\n",
            "Epoch 82/100\n",
            "2/2 [==============================] - 0s 13ms/step - loss: 12.7497 - mae: 12.7497\n",
            "Epoch 83/100\n",
            "2/2 [==============================] - 0s 9ms/step - loss: 8.3037 - mae: 8.3037\n",
            "Epoch 84/100\n",
            "2/2 [==============================] - 0s 12ms/step - loss: 7.3219 - mae: 7.3219\n",
            "Epoch 85/100\n",
            "2/2 [==============================] - 0s 10ms/step - loss: 10.4777 - mae: 10.4777\n",
            "Epoch 86/100\n",
            "2/2 [==============================] - 0s 11ms/step - loss: 9.1528 - mae: 9.1528\n",
            "Epoch 87/100\n",
            "2/2 [==============================] - 0s 11ms/step - loss: 11.8602 - mae: 11.8602\n",
            "Epoch 88/100\n",
            "2/2 [==============================] - 0s 9ms/step - loss: 10.4699 - mae: 10.4699\n",
            "Epoch 89/100\n",
            "2/2 [==============================] - 0s 9ms/step - loss: 6.9875 - mae: 6.9875\n",
            "Epoch 90/100\n",
            "2/2 [==============================] - 0s 8ms/step - loss: 13.7929 - mae: 13.7929\n",
            "Epoch 91/100\n",
            "2/2 [==============================] - 0s 8ms/step - loss: 7.8789 - mae: 7.8789\n",
            "Epoch 92/100\n",
            "2/2 [==============================] - 0s 13ms/step - loss: 7.9332 - mae: 7.9332\n",
            "Epoch 93/100\n",
            "2/2 [==============================] - 0s 8ms/step - loss: 9.4286 - mae: 9.4286\n",
            "Epoch 94/100\n",
            "2/2 [==============================] - 0s 11ms/step - loss: 8.7493 - mae: 8.7493\n",
            "Epoch 95/100\n",
            "2/2 [==============================] - 0s 11ms/step - loss: 9.8668 - mae: 9.8668\n",
            "Epoch 96/100\n",
            "2/2 [==============================] - 0s 16ms/step - loss: 7.3570 - mae: 7.3570\n",
            "Epoch 97/100\n",
            "2/2 [==============================] - 0s 12ms/step - loss: 6.8716 - mae: 6.8716\n",
            "Epoch 98/100\n",
            "2/2 [==============================] - 0s 13ms/step - loss: 7.2647 - mae: 7.2647\n",
            "Epoch 99/100\n",
            "2/2 [==============================] - 0s 9ms/step - loss: 7.4171 - mae: 7.4171\n",
            "Epoch 100/100\n",
            "2/2 [==============================] - 0s 11ms/step - loss: 11.1185 - mae: 11.1185\n"
          ]
        },
        {
          "output_type": "execute_result",
          "data": {
            "text/plain": [
              "<keras.src.callbacks.History at 0x7cd74c4e0a90>"
            ]
          },
          "metadata": {},
          "execution_count": 35
        }
      ]
    },
    {
      "cell_type": "code",
      "source": [
        "# Make and plot predictions for model_1\n",
        "y_pred_1 = model_1.predict(X_test)\n",
        "plot_predictions(predictions=y_pred_1)"
      ],
      "metadata": {
        "colab": {
          "base_uri": "https://localhost:8080/",
          "height": 655
        },
        "id": "o4wtqbl5GyzO",
        "outputId": "ac9ca510-d4f5-4257-b3a2-fa42bf510d87"
      },
      "execution_count": 36,
      "outputs": [
        {
          "output_type": "stream",
          "name": "stderr",
          "text": [
            "WARNING:tensorflow:5 out of the last 5 calls to <function Model.make_predict_function.<locals>.predict_function at 0x7cd7541f3490> triggered tf.function retracing. Tracing is expensive and the excessive number of tracings could be due to (1) creating @tf.function repeatedly in a loop, (2) passing tensors with different shapes, (3) passing Python objects instead of tensors. For (1), please define your @tf.function outside of the loop. For (2), @tf.function has reduce_retracing=True option that can avoid unnecessary retracing. For (3), please refer to https://www.tensorflow.org/guide/function#controlling_retracing and https://www.tensorflow.org/api_docs/python/tf/function for  more details.\n"
          ]
        },
        {
          "output_type": "stream",
          "name": "stdout",
          "text": [
            "1/1 [==============================] - 0s 57ms/step\n"
          ]
        },
        {
          "output_type": "display_data",
          "data": {
            "text/plain": [
              "<Figure size 1000x700 with 1 Axes>"
            ],
            "image/png": "[encoded data removed]"
          },
          "metadata": {}
        }
      ]
    },
    {
      "cell_type": "code",
      "source": [
        "# Calculate model_1 evaluation metrics\n",
        "mae_1 = mae(y_test, tf.squeeze(y_pred_1))\n",
        "mse_1 = mse(y_test, tf.squeeze(y_pred_1))\n",
        "\n",
        "mae_1, mse_1"
      ],
      "metadata": {
        "colab": {
          "base_uri": "https://localhost:8080/"
        },
        "id": "nAtWmn2CHRcv",
        "outputId": "d0b0d11f-55cd-4303-be10-4a17218eb38e"
      },
      "execution_count": 37,
      "outputs": [
        {
          "output_type": "execute_result",
          "data": {
            "text/plain": [
              "(<tf.Tensor: shape=(), dtype=float32, numpy=21.31547>,\n",
              " <tf.Tensor: shape=(), dtype=float32, numpy=457.7967>)"
            ]
          },
          "metadata": {},
          "execution_count": 37
        }
      ]
    },
    {
      "cell_type": "code",
      "source": [
        "# Create model_2\n",
        "model_2 = tf.keras.Sequential([\n",
        "    tf.keras.layers.Dense(128),\n",
        "    tf.keras.layers.Dense(1)\n",
        "])\n",
        "\n",
        "model_2.compile(loss=tf.keras.losses.mae,\n",
        "                optimizer=tf.keras.optimizers.Adam(),\n",
        "                metrics=['mae'])\n",
        "\n",
        "model_2.fit(tf.expand_dims(X_train, axis=1), y_train, epochs=500)"
      ],
      "metadata": {
        "colab": {
          "base_uri": "https://localhost:8080/"
        },
        "id": "hvhLV639Hl9f",
        "outputId": "389e31f9-8cc7-4034-8685-edd40330887f"
      },
      "execution_count": 38,
      "outputs": [
        {
          "output_type": "stream",
          "name": "stdout",
          "text": [
            "Epoch 1/500\n",
            "2/2 [==============================] - 1s 15ms/step - loss: 29.4071 - mae: 29.4071\n",
            "Epoch 2/500\n",
            "2/2 [==============================] - 0s 9ms/step - loss: 27.0339 - mae: 27.0339\n",
            "Epoch 3/500\n",
            "2/2 [==============================] - 0s 8ms/step - loss: 24.7485 - mae: 24.7485\n",
            "Epoch 4/500\n",
            "2/2 [==============================] - 0s 9ms/step - loss: 22.4378 - mae: 22.4378\n",
            "Epoch 5/500\n",
            "2/2 [==============================] - 0s 8ms/step - loss: 20.1732 - mae: 20.1732\n",
            "Epoch 6/500\n",
            "2/2 [==============================] - 0s 12ms/step - loss: 17.9421 - mae: 17.9421\n",
            "Epoch 7/500\n",
            "2/2 [==============================] - 0s 12ms/step - loss: 15.7147 - mae: 15.7147\n",
            "Epoch 8/500\n",
            "2/2 [==============================] - 0s 12ms/step - loss: 13.4550 - mae: 13.4550\n",
            "Epoch 9/500\n",
            "2/2 [==============================] - 0s 10ms/step - loss: 11.4321 - mae: 11.4321\n",
            "Epoch 10/500\n",
            "2/2 [==============================] - 0s 12ms/step - loss: 9.6577 - mae: 9.6577\n",
            "Epoch 11/500\n",
            "2/2 [==============================] - 0s 8ms/step - loss: 8.2391 - mae: 8.2391\n",
            "Epoch 12/500\n",
            "2/2 [==============================] - 0s 9ms/step - loss: 7.7444 - mae: 7.7444\n",
            "Epoch 13/500\n",
            "2/2 [==============================] - 0s 8ms/step - loss: 8.3873 - mae: 8.3873\n",
            "Epoch 14/500\n",
            "2/2 [==============================] - 0s 8ms/step - loss: 8.8179 - mae: 8.8179\n",
            "Epoch 15/500\n",
            "2/2 [==============================] - 0s 10ms/step - loss: 8.9805 - mae: 8.9805\n",
            "Epoch 16/500\n",
            "2/2 [==============================] - 0s 9ms/step - loss: 8.9448 - mae: 8.9448\n",
            "Epoch 17/500\n",
            "2/2 [==============================] - 0s 9ms/step - loss: 8.7774 - mae: 8.7774\n",
            "Epoch 18/500\n",
            "2/2 [==============================] - 0s 8ms/step - loss: 8.3959 - mae: 8.3959\n",
            "Epoch 19/500\n",
            "2/2 [==============================] - 0s 8ms/step - loss: 7.9714 - mae: 7.9714\n",
            "Epoch 20/500\n",
            "2/2 [==============================] - 0s 11ms/step - loss: 7.5180 - mae: 7.5180\n",
            "Epoch 21/500\n",
            "2/2 [==============================] - 0s 12ms/step - loss: 7.4830 - mae: 7.4830\n",
            "Epoch 22/500\n",
            "2/2 [==============================] - 0s 9ms/step - loss: 7.6471 - mae: 7.6471\n",
            "Epoch 23/500\n",
            "2/2 [==============================] - 0s 9ms/step - loss: 7.7448 - mae: 7.7448\n",
            "Epoch 24/500\n",
            "2/2 [==============================] - 0s 9ms/step - loss: 7.7288 - mae: 7.7288\n",
            "Epoch 25/500\n",
            "2/2 [==============================] - 0s 10ms/step - loss: 7.5865 - mae: 7.5865\n",
            "Epoch 26/500\n",
            "2/2 [==============================] - 0s 11ms/step - loss: 7.3825 - mae: 7.3825\n",
            "Epoch 27/500\n",
            "2/2 [==============================] - 0s 12ms/step - loss: 7.2778 - mae: 7.2778\n",
            "Epoch 28/500\n",
            "2/2 [==============================] - 0s 10ms/step - loss: 7.3191 - mae: 7.3191\n",
            "Epoch 29/500\n",
            "2/2 [==============================] - 0s 10ms/step - loss: 7.3637 - mae: 7.3637\n",
            "Epoch 30/500\n",
            "2/2 [==============================] - 0s 9ms/step - loss: 7.2601 - mae: 7.2601\n",
            "Epoch 31/500\n",
            "2/2 [==============================] - 0s 10ms/step - loss: 7.1458 - mae: 7.1458\n",
            "Epoch 32/500\n",
            "2/2 [==============================] - 0s 12ms/step - loss: 7.1954 - mae: 7.1954\n",
            "Epoch 33/500\n",
            "2/2 [==============================] - 0s 10ms/step - loss: 7.3971 - mae: 7.3971\n",
            "Epoch 34/500\n",
            "2/2 [==============================] - 0s 8ms/step - loss: 7.4601 - mae: 7.4601\n",
            "Epoch 35/500\n",
            "2/2 [==============================] - 0s 10ms/step - loss: 7.4122 - mae: 7.4122\n",
            "Epoch 36/500\n",
            "2/2 [==============================] - 0s 8ms/step - loss: 7.2802 - mae: 7.2802\n",
            "Epoch 37/500\n",
            "2/2 [==============================] - 0s 11ms/step - loss: 7.1601 - mae: 7.1601\n",
            "Epoch 38/500\n",
            "2/2 [==============================] - 0s 9ms/step - loss: 7.0324 - mae: 7.0324\n",
            "Epoch 39/500\n",
            "2/2 [==============================] - 0s 8ms/step - loss: 6.9961 - mae: 6.9961\n",
            "Epoch 40/500\n",
            "2/2 [==============================] - 0s 9ms/step - loss: 6.9755 - mae: 6.9755\n",
            "Epoch 41/500\n",
            "2/2 [==============================] - 0s 12ms/step - loss: 6.9759 - mae: 6.9759\n",
            "Epoch 42/500\n",
            "2/2 [==============================] - 0s 10ms/step - loss: 6.9589 - mae: 6.9589\n",
            "Epoch 43/500\n",
            "2/2 [==============================] - 0s 9ms/step - loss: 6.9180 - mae: 6.9180\n",
            "Epoch 44/500\n",
            "2/2 [==============================] - 0s 11ms/step - loss: 6.8514 - mae: 6.8514\n",
            "Epoch 45/500\n",
            "2/2 [==============================] - 0s 9ms/step - loss: 6.8316 - mae: 6.8316\n",
            "Epoch 46/500\n",
            "2/2 [==============================] - 0s 9ms/step - loss: 6.8675 - mae: 6.8675\n",
            "Epoch 47/500\n",
            "2/2 [==============================] - 0s 11ms/step - loss: 6.9335 - mae: 6.9335\n",
            "Epoch 48/500\n",
            "2/2 [==============================] - 0s 12ms/step - loss: 6.9588 - mae: 6.9588\n",
            "Epoch 49/500\n",
            "2/2 [==============================] - 0s 10ms/step - loss: 6.9096 - mae: 6.9096\n",
            "Epoch 50/500\n",
            "2/2 [==============================] - 0s 9ms/step - loss: 6.8019 - mae: 6.8019\n",
            "Epoch 51/500\n",
            "2/2 [==============================] - 0s 11ms/step - loss: 6.6930 - mae: 6.6930\n",
            "Epoch 52/500\n",
            "2/2 [==============================] - 0s 14ms/step - loss: 6.6912 - mae: 6.6912\n",
            "Epoch 53/500\n",
            "2/2 [==============================] - 0s 13ms/step - loss: 6.6863 - mae: 6.6863\n",
            "Epoch 54/500\n",
            "2/2 [==============================] - 0s 12ms/step - loss: 6.6034 - mae: 6.6034\n",
            "Epoch 55/500\n",
            "2/2 [==============================] - 0s 12ms/step - loss: 6.5885 - mae: 6.5885\n",
            "Epoch 56/500\n",
            "2/2 [==============================] - 0s 12ms/step - loss: 6.6102 - mae: 6.6102\n",
            "Epoch 57/500\n",
            "2/2 [==============================] - 0s 11ms/step - loss: 6.5603 - mae: 6.5603\n",
            "Epoch 58/500\n",
            "2/2 [==============================] - 0s 9ms/step - loss: 6.5199 - mae: 6.5199\n",
            "Epoch 59/500\n",
            "2/2 [==============================] - 0s 9ms/step - loss: 6.5020 - mae: 6.5020\n",
            "Epoch 60/500\n",
            "2/2 [==============================] - 0s 10ms/step - loss: 6.4974 - mae: 6.4974\n",
            "Epoch 61/500\n",
            "2/2 [==============================] - 0s 9ms/step - loss: 6.4626 - mae: 6.4626\n",
            "Epoch 62/500\n",
            "2/2 [==============================] - 0s 10ms/step - loss: 6.4152 - mae: 6.4152\n",
            "Epoch 63/500\n",
            "2/2 [==============================] - 0s 11ms/step - loss: 6.3722 - mae: 6.3722\n",
            "Epoch 64/500\n",
            "2/2 [==============================] - 0s 12ms/step - loss: 6.3915 - mae: 6.3915\n",
            "Epoch 65/500\n",
            "2/2 [==============================] - 0s 12ms/step - loss: 6.3699 - mae: 6.3699\n",
            "Epoch 66/500\n",
            "2/2 [==============================] - 0s 10ms/step - loss: 6.3211 - mae: 6.3211\n",
            "Epoch 67/500\n",
            "2/2 [==============================] - 0s 9ms/step - loss: 6.2704 - mae: 6.2704\n",
            "Epoch 68/500\n",
            "2/2 [==============================] - 0s 10ms/step - loss: 6.2717 - mae: 6.2717\n",
            "Epoch 69/500\n",
            "2/2 [==============================] - 0s 10ms/step - loss: 6.2665 - mae: 6.2665\n",
            "Epoch 70/500\n",
            "2/2 [==============================] - 0s 9ms/step - loss: 6.2306 - mae: 6.2306\n",
            "Epoch 71/500\n",
            "2/2 [==============================] - 0s 10ms/step - loss: 6.1746 - mae: 6.1746\n",
            "Epoch 72/500\n",
            "2/2 [==============================] - 0s 11ms/step - loss: 6.1437 - mae: 6.1437\n",
            "Epoch 73/500\n",
            "2/2 [==============================] - 0s 11ms/step - loss: 6.1153 - mae: 6.1153\n",
            "Epoch 74/500\n",
            "2/2 [==============================] - 0s 11ms/step - loss: 6.1031 - mae: 6.1031\n",
            "Epoch 75/500\n",
            "2/2 [==============================] - 0s 11ms/step - loss: 6.1022 - mae: 6.1022\n",
            "Epoch 76/500\n",
            "2/2 [==============================] - 0s 12ms/step - loss: 6.0615 - mae: 6.0615\n",
            "Epoch 77/500\n",
            "2/2 [==============================] - 0s 11ms/step - loss: 5.9955 - mae: 5.9955\n",
            "Epoch 78/500\n",
            "2/2 [==============================] - 0s 16ms/step - loss: 5.9914 - mae: 5.9914\n",
            "Epoch 79/500\n",
            "2/2 [==============================] - 0s 9ms/step - loss: 6.0068 - mae: 6.0068\n",
            "Epoch 80/500\n",
            "2/2 [==============================] - 0s 8ms/step - loss: 5.9503 - mae: 5.9503\n",
            "Epoch 81/500\n",
            "2/2 [==============================] - 0s 8ms/step - loss: 5.8912 - mae: 5.8912\n",
            "Epoch 82/500\n",
            "2/2 [==============================] - 0s 7ms/step - loss: 5.8963 - mae: 5.8963\n",
            "Epoch 83/500\n",
            "2/2 [==============================] - 0s 7ms/step - loss: 5.8998 - mae: 5.8998\n",
            "Epoch 84/500\n",
            "2/2 [==============================] - 0s 7ms/step - loss: 5.8602 - mae: 5.8602\n",
            "Epoch 85/500\n",
            "2/2 [==============================] - 0s 8ms/step - loss: 5.7786 - mae: 5.7786\n",
            "Epoch 86/500\n",
            "2/2 [==============================] - 0s 8ms/step - loss: 5.7641 - mae: 5.7641\n",
            "Epoch 87/500\n",
            "2/2 [==============================] - 0s 9ms/step - loss: 5.7392 - mae: 5.7392\n",
            "Epoch 88/500\n",
            "2/2 [==============================] - 0s 8ms/step - loss: 5.6889 - mae: 5.6889\n",
            "Epoch 89/500\n",
            "2/2 [==============================] - 0s 8ms/step - loss: 5.7195 - mae: 5.7195\n",
            "Epoch 90/500\n",
            "2/2 [==============================] - 0s 8ms/step - loss: 5.7414 - mae: 5.7414\n",
            "Epoch 91/500\n",
            "2/2 [==============================] - 0s 11ms/step - loss: 5.6561 - mae: 5.6561\n",
            "Epoch 92/500\n",
            "2/2 [==============================] - 0s 9ms/step - loss: 5.5651 - mae: 5.5651\n",
            "Epoch 93/500\n",
            "2/2 [==============================] - 0s 9ms/step - loss: 5.5955 - mae: 5.5955\n",
            "Epoch 94/500\n",
            "2/2 [==============================] - 0s 8ms/step - loss: 5.6049 - mae: 5.6049\n",
            "Epoch 95/500\n",
            "2/2 [==============================] - 0s 8ms/step - loss: 5.5619 - mae: 5.5619\n",
            "Epoch 96/500\n",
            "2/2 [==============================] - 0s 8ms/step - loss: 5.4587 - mae: 5.4587\n",
            "Epoch 97/500\n",
            "2/2 [==============================] - 0s 10ms/step - loss: 5.4398 - mae: 5.4398\n",
            "Epoch 98/500\n",
            "2/2 [==============================] - 0s 10ms/step - loss: 5.4566 - mae: 5.4566\n",
            "Epoch 99/500\n",
            "2/2 [==============================] - 0s 10ms/step - loss: 5.4382 - mae: 5.4382\n",
            "Epoch 100/500\n",
            "2/2 [==============================] - 0s 11ms/step - loss: 5.3577 - mae: 5.3577\n",
            "Epoch 101/500\n",
            "2/2 [==============================] - 0s 10ms/step - loss: 5.3136 - mae: 5.3136\n",
            "Epoch 102/500\n",
            "2/2 [==============================] - 0s 8ms/step - loss: 5.2770 - mae: 5.2770\n",
            "Epoch 103/500\n",
            "2/2 [==============================] - 0s 8ms/step - loss: 5.2445 - mae: 5.2445\n",
            "Epoch 104/500\n",
            "2/2 [==============================] - 0s 8ms/step - loss: 5.2123 - mae: 5.2123\n",
            "Epoch 105/500\n",
            "2/2 [==============================] - 0s 8ms/step - loss: 5.1783 - mae: 5.1783\n",
            "Epoch 106/500\n",
            "2/2 [==============================] - 0s 7ms/step - loss: 5.1433 - mae: 5.1433\n",
            "Epoch 107/500\n",
            "2/2 [==============================] - 0s 13ms/step - loss: 5.1106 - mae: 5.1106\n",
            "Epoch 108/500\n",
            "2/2 [==============================] - 0s 8ms/step - loss: 5.0779 - mae: 5.0779\n",
            "Epoch 109/500\n",
            "2/2 [==============================] - 0s 8ms/step - loss: 5.0439 - mae: 5.0439\n",
            "Epoch 110/500\n",
            "2/2 [==============================] - 0s 9ms/step - loss: 5.0212 - mae: 5.0212\n",
            "Epoch 111/500\n",
            "2/2 [==============================] - 0s 9ms/step - loss: 4.9914 - mae: 4.9914\n",
            "Epoch 112/500\n",
            "2/2 [==============================] - 0s 9ms/step - loss: 4.9420 - mae: 4.9420\n",
            "Epoch 113/500\n",
            "2/2 [==============================] - 0s 8ms/step - loss: 4.9472 - mae: 4.9472\n",
            "Epoch 114/500\n",
            "2/2 [==============================] - 0s 8ms/step - loss: 4.9076 - mae: 4.9076\n",
            "Epoch 115/500\n",
            "2/2 [==============================] - 0s 7ms/step - loss: 4.8672 - mae: 4.8672\n",
            "Epoch 116/500\n",
            "2/2 [==============================] - 0s 9ms/step - loss: 4.8515 - mae: 4.8515\n",
            "Epoch 117/500\n",
            "2/2 [==============================] - 0s 8ms/step - loss: 4.8171 - mae: 4.8171\n",
            "Epoch 118/500\n",
            "2/2 [==============================] - 0s 8ms/step - loss: 4.7375 - mae: 4.7375\n",
            "Epoch 119/500\n",
            "2/2 [==============================] - 0s 8ms/step - loss: 4.7192 - mae: 4.7192\n",
            "Epoch 120/500\n",
            "2/2 [==============================] - 0s 9ms/step - loss: 4.7007 - mae: 4.7007\n",
            "Epoch 121/500\n",
            "2/2 [==============================] - 0s 8ms/step - loss: 4.6566 - mae: 4.6566\n",
            "Epoch 122/500\n",
            "2/2 [==============================] - 0s 7ms/step - loss: 4.6203 - mae: 4.6203\n",
            "Epoch 123/500\n",
            "2/2 [==============================] - 0s 8ms/step - loss: 4.5641 - mae: 4.5641\n",
            "Epoch 124/500\n",
            "2/2 [==============================] - 0s 9ms/step - loss: 4.5336 - mae: 4.5336\n",
            "Epoch 125/500\n",
            "2/2 [==============================] - 0s 7ms/step - loss: 4.5015 - mae: 4.5015\n",
            "Epoch 126/500\n",
            "2/2 [==============================] - 0s 8ms/step - loss: 4.4677 - mae: 4.4677\n",
            "Epoch 127/500\n",
            "2/2 [==============================] - 0s 9ms/step - loss: 4.4194 - mae: 4.4194\n",
            "Epoch 128/500\n",
            "2/2 [==============================] - 0s 9ms/step - loss: 4.4283 - mae: 4.4283\n",
            "Epoch 129/500\n",
            "2/2 [==============================] - 0s 9ms/step - loss: 4.4675 - mae: 4.4675\n",
            "Epoch 130/500\n",
            "2/2 [==============================] - 0s 9ms/step - loss: 4.3869 - mae: 4.3869\n",
            "Epoch 131/500\n",
            "2/2 [==============================] - 0s 8ms/step - loss: 4.2800 - mae: 4.2800\n",
            "Epoch 132/500\n",
            "2/2 [==============================] - 0s 8ms/step - loss: 4.3059 - mae: 4.3059\n",
            "Epoch 133/500\n",
            "2/2 [==============================] - 0s 9ms/step - loss: 4.2045 - mae: 4.2045\n",
            "Epoch 134/500\n",
            "2/2 [==============================] - 0s 8ms/step - loss: 4.1762 - mae: 4.1762\n",
            "Epoch 135/500\n",
            "2/2 [==============================] - 0s 8ms/step - loss: 4.2330 - mae: 4.2330\n",
            "Epoch 136/500\n",
            "2/2 [==============================] - 0s 8ms/step - loss: 4.1420 - mae: 4.1420\n",
            "Epoch 137/500\n",
            "2/2 [==============================] - 0s 8ms/step - loss: 4.0179 - mae: 4.0179\n",
            "Epoch 138/500\n",
            "2/2 [==============================] - 0s 9ms/step - loss: 4.0939 - mae: 4.0939\n",
            "Epoch 139/500\n",
            "2/2 [==============================] - 0s 8ms/step - loss: 4.0542 - mae: 4.0542\n",
            "Epoch 140/500\n",
            "2/2 [==============================] - 0s 8ms/step - loss: 3.9562 - mae: 3.9562\n",
            "Epoch 141/500\n",
            "2/2 [==============================] - 0s 8ms/step - loss: 3.9144 - mae: 3.9144\n",
            "Epoch 142/500\n",
            "2/2 [==============================] - 0s 8ms/step - loss: 3.8867 - mae: 3.8867\n",
            "Epoch 143/500\n",
            "2/2 [==============================] - 0s 8ms/step - loss: 3.7959 - mae: 3.7959\n",
            "Epoch 144/500\n",
            "2/2 [==============================] - 0s 10ms/step - loss: 3.7837 - mae: 3.7837\n",
            "Epoch 145/500\n",
            "2/2 [==============================] - 0s 8ms/step - loss: 3.7231 - mae: 3.7231\n",
            "Epoch 146/500\n",
            "2/2 [==============================] - 0s 8ms/step - loss: 3.6737 - mae: 3.6737\n",
            "Epoch 147/500\n",
            "2/2 [==============================] - 0s 8ms/step - loss: 3.6398 - mae: 3.6398\n",
            "Epoch 148/500\n",
            "2/2 [==============================] - 0s 9ms/step - loss: 3.5940 - mae: 3.5940\n",
            "Epoch 149/500\n",
            "2/2 [==============================] - 0s 8ms/step - loss: 3.5662 - mae: 3.5662\n",
            "Epoch 150/500\n",
            "2/2 [==============================] - 0s 8ms/step - loss: 3.4991 - mae: 3.4991\n",
            "Epoch 151/500\n",
            "2/2 [==============================] - 0s 8ms/step - loss: 3.4388 - mae: 3.4388\n",
            "Epoch 152/500\n",
            "2/2 [==============================] - 0s 8ms/step - loss: 3.4065 - mae: 3.4065\n",
            "Epoch 153/500\n",
            "2/2 [==============================] - 0s 13ms/step - loss: 3.3464 - mae: 3.3464\n",
            "Epoch 154/500\n",
            "2/2 [==============================] - 0s 10ms/step - loss: 3.3194 - mae: 3.3194\n",
            "Epoch 155/500\n",
            "2/2 [==============================] - 0s 11ms/step - loss: 3.2655 - mae: 3.2655\n",
            "Epoch 156/500\n",
            "2/2 [==============================] - 0s 9ms/step - loss: 3.1997 - mae: 3.1997\n",
            "Epoch 157/500\n",
            "2/2 [==============================] - 0s 8ms/step - loss: 3.2003 - mae: 3.2003\n",
            "Epoch 158/500\n",
            "2/2 [==============================] - 0s 9ms/step - loss: 3.1360 - mae: 3.1360\n",
            "Epoch 159/500\n",
            "2/2 [==============================] - 0s 9ms/step - loss: 3.1241 - mae: 3.1241\n",
            "Epoch 160/500\n",
            "2/2 [==============================] - 0s 8ms/step - loss: 3.0432 - mae: 3.0432\n",
            "Epoch 161/500\n",
            "2/2 [==============================] - 0s 10ms/step - loss: 2.9609 - mae: 2.9609\n",
            "Epoch 162/500\n",
            "2/2 [==============================] - 0s 8ms/step - loss: 2.9646 - mae: 2.9646\n",
            "Epoch 163/500\n",
            "2/2 [==============================] - 0s 9ms/step - loss: 2.8803 - mae: 2.8803\n",
            "Epoch 164/500\n",
            "2/2 [==============================] - 0s 9ms/step - loss: 2.8765 - mae: 2.8765\n",
            "Epoch 165/500\n",
            "2/2 [==============================] - 0s 8ms/step - loss: 2.8070 - mae: 2.8070\n",
            "Epoch 166/500\n",
            "2/2 [==============================] - 0s 9ms/step - loss: 2.7973 - mae: 2.7973\n",
            "Epoch 167/500\n",
            "2/2 [==============================] - 0s 8ms/step - loss: 2.7887 - mae: 2.7887\n",
            "Epoch 168/500\n",
            "2/2 [==============================] - 0s 8ms/step - loss: 2.6194 - mae: 2.6194\n",
            "Epoch 169/500\n",
            "2/2 [==============================] - 0s 11ms/step - loss: 2.5728 - mae: 2.5728\n",
            "Epoch 170/500\n",
            "2/2 [==============================] - 0s 9ms/step - loss: 2.5353 - mae: 2.5353\n",
            "Epoch 171/500\n",
            "2/2 [==============================] - 0s 8ms/step - loss: 2.4595 - mae: 2.4595\n",
            "Epoch 172/500\n",
            "2/2 [==============================] - 0s 9ms/step - loss: 2.4218 - mae: 2.4218\n",
            "Epoch 173/500\n",
            "2/2 [==============================] - 0s 8ms/step - loss: 2.3616 - mae: 2.3616\n",
            "Epoch 174/500\n",
            "2/2 [==============================] - 0s 8ms/step - loss: 2.2981 - mae: 2.2981\n",
            "Epoch 175/500\n",
            "2/2 [==============================] - 0s 9ms/step - loss: 2.2573 - mae: 2.2573\n",
            "Epoch 176/500\n",
            "2/2 [==============================] - 0s 8ms/step - loss: 2.2604 - mae: 2.2604\n",
            "Epoch 177/500\n",
            "2/2 [==============================] - 0s 9ms/step - loss: 2.2624 - mae: 2.2624\n",
            "Epoch 178/500\n",
            "2/2 [==============================] - 0s 8ms/step - loss: 2.1012 - mae: 2.1012\n",
            "Epoch 179/500\n",
            "2/2 [==============================] - 0s 11ms/step - loss: 2.1746 - mae: 2.1746\n",
            "Epoch 180/500\n",
            "2/2 [==============================] - 0s 8ms/step - loss: 2.2273 - mae: 2.2273\n",
            "Epoch 181/500\n",
            "2/2 [==============================] - 0s 8ms/step - loss: 1.9545 - mae: 1.9545\n",
            "Epoch 182/500\n",
            "2/2 [==============================] - 0s 8ms/step - loss: 2.1653 - mae: 2.1653\n",
            "Epoch 183/500\n",
            "2/2 [==============================] - 0s 8ms/step - loss: 2.1322 - mae: 2.1322\n",
            "Epoch 184/500\n",
            "2/2 [==============================] - 0s 9ms/step - loss: 1.7679 - mae: 1.7679\n",
            "Epoch 185/500\n",
            "2/2 [==============================] - 0s 8ms/step - loss: 2.0269 - mae: 2.0269\n",
            "Epoch 186/500\n",
            "2/2 [==============================] - 0s 8ms/step - loss: 1.8746 - mae: 1.8746\n",
            "Epoch 187/500\n",
            "2/2 [==============================] - 0s 8ms/step - loss: 1.6649 - mae: 1.6649\n",
            "Epoch 188/500\n",
            "2/2 [==============================] - 0s 7ms/step - loss: 1.6195 - mae: 1.6195\n",
            "Epoch 189/500\n",
            "2/2 [==============================] - 0s 8ms/step - loss: 1.4976 - mae: 1.4976\n",
            "Epoch 190/500\n",
            "2/2 [==============================] - 0s 8ms/step - loss: 1.4001 - mae: 1.4001\n",
            "Epoch 191/500\n",
            "2/2 [==============================] - 0s 8ms/step - loss: 1.3914 - mae: 1.3914\n",
            "Epoch 192/500\n",
            "2/2 [==============================] - 0s 8ms/step - loss: 1.3071 - mae: 1.3071\n",
            "Epoch 193/500\n",
            "2/2 [==============================] - 0s 9ms/step - loss: 1.2184 - mae: 1.2184\n",
            "Epoch 194/500\n",
            "2/2 [==============================] - 0s 8ms/step - loss: 1.1483 - mae: 1.1483\n",
            "Epoch 195/500\n",
            "2/2 [==============================] - 0s 9ms/step - loss: 1.1142 - mae: 1.1142\n",
            "Epoch 196/500\n",
            "2/2 [==============================] - 0s 10ms/step - loss: 1.0132 - mae: 1.0132\n",
            "Epoch 197/500\n",
            "2/2 [==============================] - 0s 9ms/step - loss: 1.0853 - mae: 1.0853\n",
            "Epoch 198/500\n",
            "2/2 [==============================] - 0s 9ms/step - loss: 0.9286 - mae: 0.9286\n",
            "Epoch 199/500\n",
            "2/2 [==============================] - 0s 9ms/step - loss: 0.8863 - mae: 0.8863\n",
            "Epoch 200/500\n",
            "2/2 [==============================] - 0s 10ms/step - loss: 0.8940 - mae: 0.8940\n",
            "Epoch 201/500\n",
            "2/2 [==============================] - 0s 10ms/step - loss: 0.8390 - mae: 0.8390\n",
            "Epoch 202/500\n",
            "2/2 [==============================] - 0s 9ms/step - loss: 0.8847 - mae: 0.8847\n",
            "Epoch 203/500\n",
            "2/2 [==============================] - 0s 8ms/step - loss: 0.8161 - mae: 0.8161\n",
            "Epoch 204/500\n",
            "2/2 [==============================] - 0s 9ms/step - loss: 0.8443 - mae: 0.8443\n",
            "Epoch 205/500\n",
            "2/2 [==============================] - 0s 9ms/step - loss: 1.0479 - mae: 1.0479\n",
            "Epoch 206/500\n",
            "2/2 [==============================] - 0s 9ms/step - loss: 0.5706 - mae: 0.5706\n",
            "Epoch 207/500\n",
            "2/2 [==============================] - 0s 9ms/step - loss: 0.4465 - mae: 0.4465\n",
            "Epoch 208/500\n",
            "2/2 [==============================] - 0s 10ms/step - loss: 0.3685 - mae: 0.3685\n",
            "Epoch 209/500\n",
            "2/2 [==============================] - 0s 10ms/step - loss: 0.2816 - mae: 0.2816\n",
            "Epoch 210/500\n",
            "2/2 [==============================] - 0s 10ms/step - loss: 0.1846 - mae: 0.1846\n",
            "Epoch 211/500\n",
            "2/2 [==============================] - 0s 9ms/step - loss: 0.1369 - mae: 0.1369\n",
            "Epoch 212/500\n",
            "2/2 [==============================] - 0s 9ms/step - loss: 0.1009 - mae: 0.1009\n",
            "Epoch 213/500\n",
            "2/2 [==============================] - 0s 9ms/step - loss: 0.2354 - mae: 0.2354\n",
            "Epoch 214/500\n",
            "2/2 [==============================] - 0s 8ms/step - loss: 0.1363 - mae: 0.1363\n",
            "Epoch 215/500\n",
            "2/2 [==============================] - 0s 9ms/step - loss: 0.1440 - mae: 0.1440\n",
            "Epoch 216/500\n",
            "2/2 [==============================] - 0s 9ms/step - loss: 0.5054 - mae: 0.5054\n",
            "Epoch 217/500\n",
            "2/2 [==============================] - 0s 12ms/step - loss: 0.2922 - mae: 0.2922\n",
            "Epoch 218/500\n",
            "2/2 [==============================] - 0s 9ms/step - loss: 0.3385 - mae: 0.3385\n",
            "Epoch 219/500\n",
            "2/2 [==============================] - 0s 8ms/step - loss: 0.4656 - mae: 0.4656\n",
            "Epoch 220/500\n",
            "2/2 [==============================] - 0s 9ms/step - loss: 0.1829 - mae: 0.1829\n",
            "Epoch 221/500\n",
            "2/2 [==============================] - 0s 9ms/step - loss: 0.1622 - mae: 0.1622\n",
            "Epoch 222/500\n",
            "2/2 [==============================] - 0s 9ms/step - loss: 0.2016 - mae: 0.2016\n",
            "Epoch 223/500\n",
            "2/2 [==============================] - 0s 9ms/step - loss: 0.4188 - mae: 0.4188\n",
            "Epoch 224/500\n",
            "2/2 [==============================] - 0s 8ms/step - loss: 0.2503 - mae: 0.2503\n",
            "Epoch 225/500\n",
            "2/2 [==============================] - 0s 9ms/step - loss: 0.0228 - mae: 0.0228\n",
            "Epoch 226/500\n",
            "2/2 [==============================] - 0s 10ms/step - loss: 0.2558 - mae: 0.2558\n",
            "Epoch 227/500\n",
            "2/2 [==============================] - 0s 9ms/step - loss: 0.2428 - mae: 0.2428\n",
            "Epoch 228/500\n",
            "2/2 [==============================] - 0s 8ms/step - loss: 0.1265 - mae: 0.1265\n",
            "Epoch 229/500\n",
            "2/2 [==============================] - 0s 10ms/step - loss: 0.5764 - mae: 0.5764\n",
            "Epoch 230/500\n",
            "2/2 [==============================] - 0s 10ms/step - loss: 0.0843 - mae: 0.0843\n",
            "Epoch 231/500\n",
            "2/2 [==============================] - 0s 9ms/step - loss: 0.0595 - mae: 0.0595\n",
            "Epoch 232/500\n",
            "2/2 [==============================] - 0s 9ms/step - loss: 0.1363 - mae: 0.1363\n",
            "Epoch 233/500\n",
            "2/2 [==============================] - 0s 10ms/step - loss: 0.4467 - mae: 0.4467\n",
            "Epoch 234/500\n",
            "2/2 [==============================] - 0s 10ms/step - loss: 0.2937 - mae: 0.2937\n",
            "Epoch 235/500\n",
            "2/2 [==============================] - 0s 11ms/step - loss: 0.3151 - mae: 0.3151\n",
            "Epoch 236/500\n",
            "2/2 [==============================] - 0s 9ms/step - loss: 0.2888 - mae: 0.2888\n",
            "Epoch 237/500\n",
            "2/2 [==============================] - 0s 10ms/step - loss: 0.2103 - mae: 0.2103\n",
            "Epoch 238/500\n",
            "2/2 [==============================] - 0s 9ms/step - loss: 0.3924 - mae: 0.3924\n",
            "Epoch 239/500\n",
            "2/2 [==============================] - 0s 9ms/step - loss: 0.1966 - mae: 0.1966\n",
            "Epoch 240/500\n",
            "2/2 [==============================] - 0s 9ms/step - loss: 0.1411 - mae: 0.1411\n",
            "Epoch 241/500\n",
            "2/2 [==============================] - 0s 9ms/step - loss: 0.5099 - mae: 0.5099\n",
            "Epoch 242/500\n",
            "2/2 [==============================] - 0s 9ms/step - loss: 0.1064 - mae: 0.1064\n",
            "Epoch 243/500\n",
            "2/2 [==============================] - 0s 9ms/step - loss: 0.0324 - mae: 0.0324\n",
            "Epoch 244/500\n",
            "2/2 [==============================] - 0s 9ms/step - loss: 0.1413 - mae: 0.1413\n",
            "Epoch 245/500\n",
            "2/2 [==============================] - 0s 9ms/step - loss: 0.1857 - mae: 0.1857\n",
            "Epoch 246/500\n",
            "2/2 [==============================] - 0s 9ms/step - loss: 0.0821 - mae: 0.0821\n",
            "Epoch 247/500\n",
            "2/2 [==============================] - 0s 10ms/step - loss: 0.1838 - mae: 0.1838\n",
            "Epoch 248/500\n",
            "2/2 [==============================] - 0s 10ms/step - loss: 0.3317 - mae: 0.3317\n",
            "Epoch 249/500\n",
            "2/2 [==============================] - 0s 10ms/step - loss: 0.1887 - mae: 0.1887\n",
            "Epoch 250/500\n",
            "2/2 [==============================] - 0s 10ms/step - loss: 0.0313 - mae: 0.0313\n",
            "Epoch 251/500\n",
            "2/2 [==============================] - 0s 9ms/step - loss: 0.0912 - mae: 0.0912\n",
            "Epoch 252/500\n",
            "2/2 [==============================] - 0s 10ms/step - loss: 0.5573 - mae: 0.5573\n",
            "Epoch 253/500\n",
            "2/2 [==============================] - 0s 11ms/step - loss: 0.5259 - mae: 0.5259\n",
            "Epoch 254/500\n",
            "2/2 [==============================] - 0s 8ms/step - loss: 0.4522 - mae: 0.4522\n",
            "Epoch 255/500\n",
            "2/2 [==============================] - 0s 9ms/step - loss: 0.5157 - mae: 0.5157\n",
            "Epoch 256/500\n",
            "2/2 [==============================] - 0s 10ms/step - loss: 0.3875 - mae: 0.3875\n",
            "Epoch 257/500\n",
            "2/2 [==============================] - 0s 9ms/step - loss: 0.4927 - mae: 0.4927\n",
            "Epoch 258/500\n",
            "2/2 [==============================] - 0s 13ms/step - loss: 0.3420 - mae: 0.3420\n",
            "Epoch 259/500\n",
            "2/2 [==============================] - 0s 10ms/step - loss: 0.3076 - mae: 0.3076\n",
            "Epoch 260/500\n",
            "2/2 [==============================] - 0s 10ms/step - loss: 0.6768 - mae: 0.6768\n",
            "Epoch 261/500\n",
            "2/2 [==============================] - 0s 9ms/step - loss: 1.0098 - mae: 1.0098\n",
            "Epoch 262/500\n",
            "2/2 [==============================] - 0s 10ms/step - loss: 0.4045 - mae: 0.4045\n",
            "Epoch 263/500\n",
            "2/2 [==============================] - 0s 10ms/step - loss: 0.5654 - mae: 0.5654\n",
            "Epoch 264/500\n",
            "2/2 [==============================] - 0s 8ms/step - loss: 0.3547 - mae: 0.3547\n",
            "Epoch 265/500\n",
            "2/2 [==============================] - 0s 9ms/step - loss: 0.2674 - mae: 0.2674\n",
            "Epoch 266/500\n",
            "2/2 [==============================] - 0s 9ms/step - loss: 0.0427 - mae: 0.0427\n",
            "Epoch 267/500\n",
            "2/2 [==============================] - 0s 9ms/step - loss: 0.0701 - mae: 0.0701\n",
            "Epoch 268/500\n",
            "2/2 [==============================] - 0s 15ms/step - loss: 0.1145 - mae: 0.1145\n",
            "Epoch 269/500\n",
            "2/2 [==============================] - 0s 9ms/step - loss: 0.1880 - mae: 0.1880\n",
            "Epoch 270/500\n",
            "2/2 [==============================] - 0s 9ms/step - loss: 0.1616 - mae: 0.1616\n",
            "Epoch 271/500\n",
            "2/2 [==============================] - 0s 8ms/step - loss: 0.0916 - mae: 0.0916\n",
            "Epoch 272/500\n",
            "2/2 [==============================] - 0s 11ms/step - loss: 0.0871 - mae: 0.0871\n",
            "Epoch 273/500\n",
            "2/2 [==============================] - 0s 16ms/step - loss: 0.1654 - mae: 0.1654\n",
            "Epoch 274/500\n",
            "2/2 [==============================] - 0s 9ms/step - loss: 0.1856 - mae: 0.1856\n",
            "Epoch 275/500\n",
            "2/2 [==============================] - 0s 9ms/step - loss: 0.1303 - mae: 0.1303\n",
            "Epoch 276/500\n",
            "2/2 [==============================] - 0s 9ms/step - loss: 0.0778 - mae: 0.0778\n",
            "Epoch 277/500\n",
            "2/2 [==============================] - 0s 9ms/step - loss: 0.1433 - mae: 0.1433\n",
            "Epoch 278/500\n",
            "2/2 [==============================] - 0s 9ms/step - loss: 0.3514 - mae: 0.3514\n",
            "Epoch 279/500\n",
            "2/2 [==============================] - 0s 9ms/step - loss: 0.0979 - mae: 0.0979\n",
            "Epoch 280/500\n",
            "2/2 [==============================] - 0s 9ms/step - loss: 0.0594 - mae: 0.0594\n",
            "Epoch 281/500\n",
            "2/2 [==============================] - 0s 9ms/step - loss: 0.0830 - mae: 0.0830\n",
            "Epoch 282/500\n",
            "2/2 [==============================] - 0s 9ms/step - loss: 0.0678 - mae: 0.0678\n",
            "Epoch 283/500\n",
            "2/2 [==============================] - 0s 10ms/step - loss: 0.0867 - mae: 0.0867\n",
            "Epoch 284/500\n",
            "2/2 [==============================] - 0s 9ms/step - loss: 0.1711 - mae: 0.1711\n",
            "Epoch 285/500\n",
            "2/2 [==============================] - 0s 10ms/step - loss: 0.0831 - mae: 0.0831\n",
            "Epoch 286/500\n",
            "2/2 [==============================] - 0s 9ms/step - loss: 0.1623 - mae: 0.1623\n",
            "Epoch 287/500\n",
            "2/2 [==============================] - 0s 9ms/step - loss: 0.0230 - mae: 0.0230\n",
            "Epoch 288/500\n",
            "2/2 [==============================] - 0s 9ms/step - loss: 0.1953 - mae: 0.1953\n",
            "Epoch 289/500\n",
            "2/2 [==============================] - 0s 9ms/step - loss: 0.0347 - mae: 0.0347\n",
            "Epoch 290/500\n",
            "2/2 [==============================] - 0s 10ms/step - loss: 0.1277 - mae: 0.1277\n",
            "Epoch 291/500\n",
            "2/2 [==============================] - 0s 9ms/step - loss: 0.2349 - mae: 0.2349\n",
            "Epoch 292/500\n",
            "2/2 [==============================] - 0s 10ms/step - loss: 0.1052 - mae: 0.1052\n",
            "Epoch 293/500\n",
            "2/2 [==============================] - 0s 9ms/step - loss: 0.4890 - mae: 0.4890\n",
            "Epoch 294/500\n",
            "2/2 [==============================] - 0s 10ms/step - loss: 0.1406 - mae: 0.1406\n",
            "Epoch 295/500\n",
            "2/2 [==============================] - 0s 10ms/step - loss: 0.8050 - mae: 0.8050\n",
            "Epoch 296/500\n",
            "2/2 [==============================] - 0s 9ms/step - loss: 0.5820 - mae: 0.5820\n",
            "Epoch 297/500\n",
            "2/2 [==============================] - 0s 9ms/step - loss: 0.3888 - mae: 0.3888\n",
            "Epoch 298/500\n",
            "2/2 [==============================] - 0s 9ms/step - loss: 0.4822 - mae: 0.4822\n",
            "Epoch 299/500\n",
            "2/2 [==============================] - 0s 9ms/step - loss: 0.2549 - mae: 0.2549\n",
            "Epoch 300/500\n",
            "2/2 [==============================] - 0s 9ms/step - loss: 0.2734 - mae: 0.2734\n",
            "Epoch 301/500\n",
            "2/2 [==============================] - 0s 10ms/step - loss: 0.5076 - mae: 0.5076\n",
            "Epoch 302/500\n",
            "2/2 [==============================] - 0s 9ms/step - loss: 0.6018 - mae: 0.6018\n",
            "Epoch 303/500\n",
            "2/2 [==============================] - 0s 9ms/step - loss: 0.1114 - mae: 0.1114\n",
            "Epoch 304/500\n",
            "2/2 [==============================] - 0s 9ms/step - loss: 0.1696 - mae: 0.1696\n",
            "Epoch 305/500\n",
            "2/2 [==============================] - 0s 9ms/step - loss: 0.1157 - mae: 0.1157\n",
            "Epoch 306/500\n",
            "2/2 [==============================] - 0s 10ms/step - loss: 0.0458 - mae: 0.0458\n",
            "Epoch 307/500\n",
            "2/2 [==============================] - 0s 10ms/step - loss: 0.0661 - mae: 0.0661\n",
            "Epoch 308/500\n",
            "2/2 [==============================] - 0s 11ms/step - loss: 0.0956 - mae: 0.0956\n",
            "Epoch 309/500\n",
            "2/2 [==============================] - 0s 9ms/step - loss: 0.2571 - mae: 0.2571\n",
            "Epoch 310/500\n",
            "2/2 [==============================] - 0s 9ms/step - loss: 0.1056 - mae: 0.1056\n",
            "Epoch 311/500\n",
            "2/2 [==============================] - 0s 9ms/step - loss: 0.5673 - mae: 0.5673\n",
            "Epoch 312/500\n",
            "2/2 [==============================] - 0s 9ms/step - loss: 0.2491 - mae: 0.2491\n",
            "Epoch 313/500\n",
            "2/2 [==============================] - 0s 9ms/step - loss: 0.4094 - mae: 0.4094\n",
            "Epoch 314/500\n",
            "2/2 [==============================] - 0s 11ms/step - loss: 0.1683 - mae: 0.1683\n",
            "Epoch 315/500\n",
            "2/2 [==============================] - 0s 10ms/step - loss: 0.3159 - mae: 0.3159\n",
            "Epoch 316/500\n",
            "2/2 [==============================] - 0s 10ms/step - loss: 0.2063 - mae: 0.2063\n",
            "Epoch 317/500\n",
            "2/2 [==============================] - 0s 10ms/step - loss: 0.1542 - mae: 0.1542\n",
            "Epoch 318/500\n",
            "2/2 [==============================] - 0s 9ms/step - loss: 0.3298 - mae: 0.3298\n",
            "Epoch 319/500\n",
            "2/2 [==============================] - 0s 9ms/step - loss: 0.1493 - mae: 0.1493\n",
            "Epoch 320/500\n",
            "2/2 [==============================] - 0s 17ms/step - loss: 0.1056 - mae: 0.1056\n",
            "Epoch 321/500\n",
            "2/2 [==============================] - 0s 10ms/step - loss: 0.4170 - mae: 0.4170\n",
            "Epoch 322/500\n",
            "2/2 [==============================] - 0s 10ms/step - loss: 0.1207 - mae: 0.1207\n",
            "Epoch 323/500\n",
            "2/2 [==============================] - 0s 9ms/step - loss: 0.5939 - mae: 0.5939\n",
            "Epoch 324/500\n",
            "2/2 [==============================] - 0s 10ms/step - loss: 0.2800 - mae: 0.2800\n",
            "Epoch 325/500\n",
            "2/2 [==============================] - 0s 11ms/step - loss: 0.3385 - mae: 0.3385\n",
            "Epoch 326/500\n",
            "2/2 [==============================] - 0s 10ms/step - loss: 0.1267 - mae: 0.1267\n",
            "Epoch 327/500\n",
            "2/2 [==============================] - 0s 10ms/step - loss: 0.5057 - mae: 0.5057\n",
            "Epoch 328/500\n",
            "2/2 [==============================] - 0s 11ms/step - loss: 0.1988 - mae: 0.1988\n",
            "Epoch 329/500\n",
            "2/2 [==============================] - 0s 10ms/step - loss: 0.3957 - mae: 0.3957\n",
            "Epoch 330/500\n",
            "2/2 [==============================] - 0s 10ms/step - loss: 0.1560 - mae: 0.1560\n",
            "Epoch 331/500\n",
            "2/2 [==============================] - 0s 9ms/step - loss: 0.3894 - mae: 0.3894\n",
            "Epoch 332/500\n",
            "2/2 [==============================] - 0s 10ms/step - loss: 0.0752 - mae: 0.0752\n",
            "Epoch 333/500\n",
            "2/2 [==============================] - 0s 10ms/step - loss: 0.1297 - mae: 0.1297\n",
            "Epoch 334/500\n",
            "2/2 [==============================] - 0s 9ms/step - loss: 0.2410 - mae: 0.2410\n",
            "Epoch 335/500\n",
            "2/2 [==============================] - 0s 10ms/step - loss: 0.1979 - mae: 0.1979\n",
            "Epoch 336/500\n",
            "2/2 [==============================] - 0s 9ms/step - loss: 0.0851 - mae: 0.0851\n",
            "Epoch 337/500\n",
            "2/2 [==============================] - 0s 10ms/step - loss: 0.3020 - mae: 0.3020\n",
            "Epoch 338/500\n",
            "2/2 [==============================] - 0s 9ms/step - loss: 0.2657 - mae: 0.2657\n",
            "Epoch 339/500\n",
            "2/2 [==============================] - 0s 9ms/step - loss: 0.2308 - mae: 0.2308\n",
            "Epoch 340/500\n",
            "2/2 [==============================] - 0s 10ms/step - loss: 0.2992 - mae: 0.2992\n",
            "Epoch 341/500\n",
            "2/2 [==============================] - 0s 10ms/step - loss: 0.1315 - mae: 0.1315\n",
            "Epoch 342/500\n",
            "2/2 [==============================] - 0s 9ms/step - loss: 0.5768 - mae: 0.5768\n",
            "Epoch 343/500\n",
            "2/2 [==============================] - 0s 11ms/step - loss: 0.4093 - mae: 0.4093\n",
            "Epoch 344/500\n",
            "2/2 [==============================] - 0s 9ms/step - loss: 0.3797 - mae: 0.3797\n",
            "Epoch 345/500\n",
            "2/2 [==============================] - 0s 9ms/step - loss: 0.3388 - mae: 0.3388\n",
            "Epoch 346/500\n",
            "2/2 [==============================] - 0s 10ms/step - loss: 0.4670 - mae: 0.4670\n",
            "Epoch 347/500\n",
            "2/2 [==============================] - 0s 8ms/step - loss: 0.5651 - mae: 0.5651\n",
            "Epoch 348/500\n",
            "2/2 [==============================] - 0s 8ms/step - loss: 0.0838 - mae: 0.0838\n",
            "Epoch 349/500\n",
            "2/2 [==============================] - 0s 10ms/step - loss: 0.2256 - mae: 0.2256\n",
            "Epoch 350/500\n",
            "2/2 [==============================] - 0s 12ms/step - loss: 0.2921 - mae: 0.2921\n",
            "Epoch 351/500\n",
            "2/2 [==============================] - 0s 11ms/step - loss: 0.1820 - mae: 0.1820\n",
            "Epoch 352/500\n",
            "2/2 [==============================] - 0s 9ms/step - loss: 0.3683 - mae: 0.3683\n",
            "Epoch 353/500\n",
            "2/2 [==============================] - 0s 10ms/step - loss: 0.1345 - mae: 0.1345\n",
            "Epoch 354/500\n",
            "2/2 [==============================] - 0s 10ms/step - loss: 0.5091 - mae: 0.5091\n",
            "Epoch 355/500\n",
            "2/2 [==============================] - 0s 12ms/step - loss: 0.2155 - mae: 0.2155\n",
            "Epoch 356/500\n",
            "2/2 [==============================] - 0s 10ms/step - loss: 0.5091 - mae: 0.5091\n",
            "Epoch 357/500\n",
            "2/2 [==============================] - 0s 11ms/step - loss: 0.2457 - mae: 0.2457\n",
            "Epoch 358/500\n",
            "2/2 [==============================] - 0s 10ms/step - loss: 0.1627 - mae: 0.1627\n",
            "Epoch 359/500\n",
            "2/2 [==============================] - 0s 9ms/step - loss: 0.2576 - mae: 0.2576\n",
            "Epoch 360/500\n",
            "2/2 [==============================] - 0s 9ms/step - loss: 0.1552 - mae: 0.1552\n",
            "Epoch 361/500\n",
            "2/2 [==============================] - 0s 9ms/step - loss: 0.3764 - mae: 0.3764\n",
            "Epoch 362/500\n",
            "2/2 [==============================] - 0s 10ms/step - loss: 0.1448 - mae: 0.1448\n",
            "Epoch 363/500\n",
            "2/2 [==============================] - 0s 9ms/step - loss: 0.4422 - mae: 0.4422\n",
            "Epoch 364/500\n",
            "2/2 [==============================] - 0s 9ms/step - loss: 0.1220 - mae: 0.1220\n",
            "Epoch 365/500\n",
            "2/2 [==============================] - 0s 13ms/step - loss: 0.7667 - mae: 0.7667\n",
            "Epoch 366/500\n",
            "2/2 [==============================] - 0s 9ms/step - loss: 0.5941 - mae: 0.5941\n",
            "Epoch 367/500\n",
            "2/2 [==============================] - 0s 9ms/step - loss: 0.2045 - mae: 0.2045\n",
            "Epoch 368/500\n",
            "2/2 [==============================] - 0s 9ms/step - loss: 0.5113 - mae: 0.5113\n",
            "Epoch 369/500\n",
            "2/2 [==============================] - 0s 9ms/step - loss: 0.1650 - mae: 0.1650\n",
            "Epoch 370/500\n",
            "2/2 [==============================] - 0s 9ms/step - loss: 0.5599 - mae: 0.5599\n",
            "Epoch 371/500\n",
            "2/2 [==============================] - 0s 8ms/step - loss: 0.3094 - mae: 0.3094\n",
            "Epoch 372/500\n",
            "2/2 [==============================] - 0s 8ms/step - loss: 0.2785 - mae: 0.2785\n",
            "Epoch 373/500\n",
            "2/2 [==============================] - 0s 9ms/step - loss: 0.1106 - mae: 0.1106\n",
            "Epoch 374/500\n",
            "2/2 [==============================] - 0s 9ms/step - loss: 0.5632 - mae: 0.5632\n",
            "Epoch 375/500\n",
            "2/2 [==============================] - 0s 9ms/step - loss: 0.3157 - mae: 0.3157\n",
            "Epoch 376/500\n",
            "2/2 [==============================] - 0s 9ms/step - loss: 0.4835 - mae: 0.4835\n",
            "Epoch 377/500\n",
            "2/2 [==============================] - 0s 9ms/step - loss: 0.6762 - mae: 0.6762\n",
            "Epoch 378/500\n",
            "2/2 [==============================] - 0s 9ms/step - loss: 0.2279 - mae: 0.2279\n",
            "Epoch 379/500\n",
            "2/2 [==============================] - 0s 8ms/step - loss: 0.4438 - mae: 0.4438\n",
            "Epoch 380/500\n",
            "2/2 [==============================] - 0s 8ms/step - loss: 0.1827 - mae: 0.1827\n",
            "Epoch 381/500\n",
            "2/2 [==============================] - 0s 8ms/step - loss: 0.5124 - mae: 0.5124\n",
            "Epoch 382/500\n",
            "2/2 [==============================] - 0s 8ms/step - loss: 0.2761 - mae: 0.2761\n",
            "Epoch 383/500\n",
            "2/2 [==============================] - 0s 8ms/step - loss: 0.1940 - mae: 0.1940\n",
            "Epoch 384/500\n",
            "2/2 [==============================] - 0s 8ms/step - loss: 0.0108 - mae: 0.0108\n",
            "Epoch 385/500\n",
            "2/2 [==============================] - 0s 8ms/step - loss: 0.0539 - mae: 0.0539\n",
            "Epoch 386/500\n",
            "2/2 [==============================] - 0s 8ms/step - loss: 0.0641 - mae: 0.0641\n",
            "Epoch 387/500\n",
            "2/2 [==============================] - 0s 8ms/step - loss: 0.2426 - mae: 0.2426\n",
            "Epoch 388/500\n",
            "2/2 [==============================] - 0s 10ms/step - loss: 0.2378 - mae: 0.2378\n",
            "Epoch 389/500\n",
            "2/2 [==============================] - 0s 9ms/step - loss: 0.2048 - mae: 0.2048\n",
            "Epoch 390/500\n",
            "2/2 [==============================] - 0s 8ms/step - loss: 0.0748 - mae: 0.0748\n",
            "Epoch 391/500\n",
            "2/2 [==============================] - 0s 8ms/step - loss: 0.0685 - mae: 0.0685\n",
            "Epoch 392/500\n",
            "2/2 [==============================] - 0s 8ms/step - loss: 0.1747 - mae: 0.1747\n",
            "Epoch 393/500\n",
            "2/2 [==============================] - 0s 8ms/step - loss: 0.3466 - mae: 0.3466\n",
            "Epoch 394/500\n",
            "2/2 [==============================] - 0s 10ms/step - loss: 0.3316 - mae: 0.3316\n",
            "Epoch 395/500\n",
            "2/2 [==============================] - 0s 12ms/step - loss: 0.3497 - mae: 0.3497\n",
            "Epoch 396/500\n",
            "2/2 [==============================] - 0s 10ms/step - loss: 0.4691 - mae: 0.4691\n",
            "Epoch 397/500\n",
            "2/2 [==============================] - 0s 8ms/step - loss: 0.0996 - mae: 0.0996\n",
            "Epoch 398/500\n",
            "2/2 [==============================] - 0s 9ms/step - loss: 0.1260 - mae: 0.1260\n",
            "Epoch 399/500\n",
            "2/2 [==============================] - 0s 8ms/step - loss: 0.1831 - mae: 0.1831\n",
            "Epoch 400/500\n",
            "2/2 [==============================] - 0s 9ms/step - loss: 0.2738 - mae: 0.2738\n",
            "Epoch 401/500\n",
            "2/2 [==============================] - 0s 9ms/step - loss: 0.2548 - mae: 0.2548\n",
            "Epoch 402/500\n",
            "2/2 [==============================] - 0s 9ms/step - loss: 0.3739 - mae: 0.3739\n",
            "Epoch 403/500\n",
            "2/2 [==============================] - 0s 8ms/step - loss: 0.4625 - mae: 0.4625\n",
            "Epoch 404/500\n",
            "2/2 [==============================] - 0s 8ms/step - loss: 0.1317 - mae: 0.1317\n",
            "Epoch 405/500\n",
            "2/2 [==============================] - 0s 8ms/step - loss: 0.2018 - mae: 0.2018\n",
            "Epoch 406/500\n",
            "2/2 [==============================] - 0s 9ms/step - loss: 0.3630 - mae: 0.3630\n",
            "Epoch 407/500\n",
            "2/2 [==============================] - 0s 9ms/step - loss: 0.3737 - mae: 0.3737\n",
            "Epoch 408/500\n",
            "2/2 [==============================] - 0s 9ms/step - loss: 0.2733 - mae: 0.2733\n",
            "Epoch 409/500\n",
            "2/2 [==============================] - 0s 9ms/step - loss: 0.3470 - mae: 0.3470\n",
            "Epoch 410/500\n",
            "2/2 [==============================] - 0s 9ms/step - loss: 0.2379 - mae: 0.2379\n",
            "Epoch 411/500\n",
            "2/2 [==============================] - 0s 10ms/step - loss: 0.2314 - mae: 0.2314\n",
            "Epoch 412/500\n",
            "2/2 [==============================] - 0s 9ms/step - loss: 0.3983 - mae: 0.3983\n",
            "Epoch 413/500\n",
            "2/2 [==============================] - 0s 8ms/step - loss: 0.5136 - mae: 0.5136\n",
            "Epoch 414/500\n",
            "2/2 [==============================] - 0s 10ms/step - loss: 0.0872 - mae: 0.0872\n",
            "Epoch 415/500\n",
            "2/2 [==============================] - 0s 10ms/step - loss: 0.8295 - mae: 0.8295\n",
            "Epoch 416/500\n",
            "2/2 [==============================] - 0s 9ms/step - loss: 0.6941 - mae: 0.6941\n",
            "Epoch 417/500\n",
            "2/2 [==============================] - 0s 9ms/step - loss: 0.0796 - mae: 0.0796\n",
            "Epoch 418/500\n",
            "2/2 [==============================] - 0s 10ms/step - loss: 0.3345 - mae: 0.3345\n",
            "Epoch 419/500\n",
            "2/2 [==============================] - 0s 9ms/step - loss: 0.0771 - mae: 0.0771\n",
            "Epoch 420/500\n",
            "2/2 [==============================] - 0s 10ms/step - loss: 0.0213 - mae: 0.0213\n",
            "Epoch 421/500\n",
            "2/2 [==============================] - 0s 10ms/step - loss: 0.1170 - mae: 0.1170\n",
            "Epoch 422/500\n",
            "2/2 [==============================] - 0s 11ms/step - loss: 0.1783 - mae: 0.1783\n",
            "Epoch 423/500\n",
            "2/2 [==============================] - 0s 10ms/step - loss: 0.0676 - mae: 0.0676\n",
            "Epoch 424/500\n",
            "2/2 [==============================] - 0s 9ms/step - loss: 0.3781 - mae: 0.3781\n",
            "Epoch 425/500\n",
            "2/2 [==============================] - 0s 10ms/step - loss: 0.0867 - mae: 0.0867\n",
            "Epoch 426/500\n",
            "2/2 [==============================] - 0s 9ms/step - loss: 0.4746 - mae: 0.4746\n",
            "Epoch 427/500\n",
            "2/2 [==============================] - 0s 10ms/step - loss: 0.1818 - mae: 0.1818\n",
            "Epoch 428/500\n",
            "2/2 [==============================] - 0s 9ms/step - loss: 0.4295 - mae: 0.4295\n",
            "Epoch 429/500\n",
            "2/2 [==============================] - 0s 11ms/step - loss: 0.1911 - mae: 0.1911\n",
            "Epoch 430/500\n",
            "2/2 [==============================] - 0s 10ms/step - loss: 0.3252 - mae: 0.3252\n",
            "Epoch 431/500\n",
            "2/2 [==============================] - 0s 10ms/step - loss: 0.0561 - mae: 0.0561\n",
            "Epoch 432/500\n",
            "2/2 [==============================] - 0s 8ms/step - loss: 0.0978 - mae: 0.0978\n",
            "Epoch 433/500\n",
            "2/2 [==============================] - 0s 8ms/step - loss: 0.2265 - mae: 0.2265\n",
            "Epoch 434/500\n",
            "2/2 [==============================] - 0s 9ms/step - loss: 0.2365 - mae: 0.2365\n",
            "Epoch 435/500\n",
            "2/2 [==============================] - 0s 9ms/step - loss: 0.2366 - mae: 0.2366\n",
            "Epoch 436/500\n",
            "2/2 [==============================] - 0s 10ms/step - loss: 0.3942 - mae: 0.3942\n",
            "Epoch 437/500\n",
            "2/2 [==============================] - 0s 10ms/step - loss: 0.6083 - mae: 0.6083\n",
            "Epoch 438/500\n",
            "2/2 [==============================] - 0s 8ms/step - loss: 0.2097 - mae: 0.2097\n",
            "Epoch 439/500\n",
            "2/2 [==============================] - 0s 9ms/step - loss: 0.2363 - mae: 0.2363\n",
            "Epoch 440/500\n",
            "2/2 [==============================] - 0s 8ms/step - loss: 0.1754 - mae: 0.1754\n",
            "Epoch 441/500\n",
            "2/2 [==============================] - 0s 8ms/step - loss: 0.1460 - mae: 0.1460\n",
            "Epoch 442/500\n",
            "2/2 [==============================] - 0s 8ms/step - loss: 0.1201 - mae: 0.1201\n",
            "Epoch 443/500\n",
            "2/2 [==============================] - 0s 7ms/step - loss: 0.2443 - mae: 0.2443\n",
            "Epoch 444/500\n",
            "2/2 [==============================] - 0s 10ms/step - loss: 0.1191 - mae: 0.1191\n",
            "Epoch 445/500\n",
            "2/2 [==============================] - 0s 10ms/step - loss: 0.4586 - mae: 0.4586\n",
            "Epoch 446/500\n",
            "2/2 [==============================] - 0s 8ms/step - loss: 0.2387 - mae: 0.2387\n",
            "Epoch 447/500\n",
            "2/2 [==============================] - 0s 8ms/step - loss: 0.1922 - mae: 0.1922\n",
            "Epoch 448/500\n",
            "2/2 [==============================] - 0s 8ms/step - loss: 0.0558 - mae: 0.0558\n",
            "Epoch 449/500\n",
            "2/2 [==============================] - 0s 8ms/step - loss: 0.1426 - mae: 0.1426\n",
            "Epoch 450/500\n",
            "2/2 [==============================] - 0s 11ms/step - loss: 0.0641 - mae: 0.0641\n",
            "Epoch 451/500\n",
            "2/2 [==============================] - 0s 10ms/step - loss: 0.1458 - mae: 0.1458\n",
            "Epoch 452/500\n",
            "2/2 [==============================] - 0s 9ms/step - loss: 0.1116 - mae: 0.1116\n",
            "Epoch 453/500\n",
            "2/2 [==============================] - 0s 9ms/step - loss: 0.0188 - mae: 0.0188\n",
            "Epoch 454/500\n",
            "2/2 [==============================] - 0s 9ms/step - loss: 0.1277 - mae: 0.1277\n",
            "Epoch 455/500\n",
            "2/2 [==============================] - 0s 8ms/step - loss: 0.0832 - mae: 0.0832\n",
            "Epoch 456/500\n",
            "2/2 [==============================] - 0s 8ms/step - loss: 0.0566 - mae: 0.0566\n",
            "Epoch 457/500\n",
            "2/2 [==============================] - 0s 8ms/step - loss: 0.1750 - mae: 0.1750\n",
            "Epoch 458/500\n",
            "2/2 [==============================] - 0s 10ms/step - loss: 0.0206 - mae: 0.0206\n",
            "Epoch 459/500\n",
            "2/2 [==============================] - 0s 13ms/step - loss: 0.2154 - mae: 0.2154\n",
            "Epoch 460/500\n",
            "2/2 [==============================] - 0s 11ms/step - loss: 0.1068 - mae: 0.1068\n",
            "Epoch 461/500\n",
            "2/2 [==============================] - 0s 10ms/step - loss: 0.3820 - mae: 0.3820\n",
            "Epoch 462/500\n",
            "2/2 [==============================] - 0s 10ms/step - loss: 0.1489 - mae: 0.1489\n",
            "Epoch 463/500\n",
            "2/2 [==============================] - 0s 10ms/step - loss: 0.2936 - mae: 0.2936\n",
            "Epoch 464/500\n",
            "2/2 [==============================] - 0s 10ms/step - loss: 0.0946 - mae: 0.0946\n",
            "Epoch 465/500\n",
            "2/2 [==============================] - 0s 11ms/step - loss: 0.0690 - mae: 0.0690\n",
            "Epoch 466/500\n",
            "2/2 [==============================] - 0s 9ms/step - loss: 0.1969 - mae: 0.1969\n",
            "Epoch 467/500\n",
            "2/2 [==============================] - 0s 8ms/step - loss: 0.2699 - mae: 0.2699\n",
            "Epoch 468/500\n",
            "2/2 [==============================] - 0s 8ms/step - loss: 0.2363 - mae: 0.2363\n",
            "Epoch 469/500\n",
            "2/2 [==============================] - 0s 8ms/step - loss: 0.4222 - mae: 0.4222\n",
            "Epoch 470/500\n",
            "2/2 [==============================] - 0s 10ms/step - loss: 0.5581 - mae: 0.5581\n",
            "Epoch 471/500\n",
            "2/2 [==============================] - 0s 8ms/step - loss: 0.1122 - mae: 0.1122\n",
            "Epoch 472/500\n",
            "2/2 [==============================] - 0s 10ms/step - loss: 0.8788 - mae: 0.8788\n",
            "Epoch 473/500\n",
            "2/2 [==============================] - 0s 8ms/step - loss: 0.9069 - mae: 0.9069\n",
            "Epoch 474/500\n",
            "2/2 [==============================] - 0s 7ms/step - loss: 0.3171 - mae: 0.3171\n",
            "Epoch 475/500\n",
            "2/2 [==============================] - 0s 8ms/step - loss: 0.5765 - mae: 0.5765\n",
            "Epoch 476/500\n",
            "2/2 [==============================] - 0s 9ms/step - loss: 0.5880 - mae: 0.5880\n",
            "Epoch 477/500\n",
            "2/2 [==============================] - 0s 8ms/step - loss: 0.1302 - mae: 0.1302\n",
            "Epoch 478/500\n",
            "2/2 [==============================] - 0s 9ms/step - loss: 0.8484 - mae: 0.8484\n",
            "Epoch 479/500\n",
            "2/2 [==============================] - 0s 8ms/step - loss: 0.8445 - mae: 0.8445\n",
            "Epoch 480/500\n",
            "2/2 [==============================] - 0s 8ms/step - loss: 0.2851 - mae: 0.2851\n",
            "Epoch 481/500\n",
            "2/2 [==============================] - 0s 8ms/step - loss: 0.5616 - mae: 0.5616\n",
            "Epoch 482/500\n",
            "2/2 [==============================] - 0s 8ms/step - loss: 0.4834 - mae: 0.4834\n",
            "Epoch 483/500\n",
            "2/2 [==============================] - 0s 8ms/step - loss: 0.2202 - mae: 0.2202\n",
            "Epoch 484/500\n",
            "2/2 [==============================] - 0s 8ms/step - loss: 0.3056 - mae: 0.3056\n",
            "Epoch 485/500\n",
            "2/2 [==============================] - 0s 8ms/step - loss: 0.2616 - mae: 0.2616\n",
            "Epoch 486/500\n",
            "2/2 [==============================] - 0s 8ms/step - loss: 0.3083 - mae: 0.3083\n",
            "Epoch 487/500\n",
            "2/2 [==============================] - 0s 9ms/step - loss: 0.2484 - mae: 0.2484\n",
            "Epoch 488/500\n",
            "2/2 [==============================] - 0s 8ms/step - loss: 0.1949 - mae: 0.1949\n",
            "Epoch 489/500\n",
            "2/2 [==============================] - 0s 10ms/step - loss: 0.2865 - mae: 0.2865\n",
            "Epoch 490/500\n",
            "2/2 [==============================] - 0s 7ms/step - loss: 0.1297 - mae: 0.1297\n",
            "Epoch 491/500\n",
            "2/2 [==============================] - 0s 7ms/step - loss: 0.2577 - mae: 0.2577\n",
            "Epoch 492/500\n",
            "2/2 [==============================] - 0s 8ms/step - loss: 0.1215 - mae: 0.1215\n",
            "Epoch 493/500\n",
            "2/2 [==============================] - 0s 9ms/step - loss: 0.0879 - mae: 0.0879\n",
            "Epoch 494/500\n",
            "2/2 [==============================] - 0s 8ms/step - loss: 0.3220 - mae: 0.3220\n",
            "Epoch 495/500\n",
            "2/2 [==============================] - 0s 9ms/step - loss: 0.0726 - mae: 0.0726\n",
            "Epoch 496/500\n",
            "2/2 [==============================] - 0s 11ms/step - loss: 0.5693 - mae: 0.5693\n",
            "Epoch 497/500\n",
            "2/2 [==============================] - 0s 8ms/step - loss: 0.3501 - mae: 0.3501\n",
            "Epoch 498/500\n",
            "2/2 [==============================] - 0s 8ms/step - loss: 0.4400 - mae: 0.4400\n",
            "Epoch 499/500\n",
            "2/2 [==============================] - 0s 9ms/step - loss: 0.6823 - mae: 0.6823\n",
            "Epoch 500/500\n",
            "2/2 [==============================] - 0s 11ms/step - loss: 0.2431 - mae: 0.2431\n"
          ]
        },
        {
          "output_type": "execute_result",
          "data": {
            "text/plain": [
              "<keras.src.callbacks.History at 0x7cd74c2389d0>"
            ]
          },
          "metadata": {},
          "execution_count": 38
        }
      ]
    },
    {
      "cell_type": "code",
      "source": [
        "# Make and plot predictions for model_2\n",
        "y_pred_2 = model_2.predict(X_test)\n",
        "plot_predictions(predictions=y_pred_2)"
      ],
      "metadata": {
        "colab": {
          "base_uri": "https://localhost:8080/",
          "height": 655
        },
        "id": "xWYO97WDIj1J",
        "outputId": "8fad3847-3740-4aa5-9bf2-f17614309121"
      },
      "execution_count": 39,
      "outputs": [
        {
          "output_type": "stream",
          "name": "stderr",
          "text": [
            "WARNING:tensorflow:6 out of the last 6 calls to <function Model.make_predict_function.<locals>.predict_function at 0x7cd74c235c60> triggered tf.function retracing. Tracing is expensive and the excessive number of tracings could be due to (1) creating @tf.function repeatedly in a loop, (2) passing tensors with different shapes, (3) passing Python objects instead of tensors. For (1), please define your @tf.function outside of the loop. For (2), @tf.function has reduce_retracing=True option that can avoid unnecessary retracing. For (3), please refer to https://www.tensorflow.org/guide/function#controlling_retracing and https://www.tensorflow.org/api_docs/python/tf/function for  more details.\n"
          ]
        },
        {
          "output_type": "stream",
          "name": "stdout",
          "text": [
            "1/1 [==============================] - 0s 45ms/step\n"
          ]
        },
        {
          "output_type": "display_data",
          "data": {
            "text/plain": [
              "<Figure size 1000x700 with 1 Axes>"
            ],
            "image/png": "[encoded data removed]"
          },
          "metadata": {}
        }
      ]
    },
    {
      "cell_type": "code",
      "source": [
        "# Calculate model_1 evaluation metrics\n",
        "mae_2 = mae(y_test, tf.squeeze(y_pred_2))\n",
        "mse_2 = mse(y_test, tf.squeeze(y_pred_2))\n",
        "\n",
        "mae_2, mse_2"
      ],
      "metadata": {
        "colab": {
          "base_uri": "https://localhost:8080/"
        },
        "id": "iWmbNh3CIwE7",
        "outputId": "fd9c57a8-93f4-49f0-ec87-7af2e279bfee"
      },
      "execution_count": 40,
      "outputs": [
        {
          "output_type": "execute_result",
          "data": {
            "text/plain": [
              "(<tf.Tensor: shape=(), dtype=float32, numpy=0.26347047>,\n",
              " <tf.Tensor: shape=(), dtype=float32, numpy=0.07106709>)"
            ]
          },
          "metadata": {},
          "execution_count": 40
        }
      ]
    },
    {
      "cell_type": "code",
      "source": [
        "model_2.predict([200.]) # Looks like it's working good without overfitting"
      ],
      "metadata": {
        "colab": {
          "base_uri": "https://localhost:8080/"
        },
        "id": "ejNbCTR7I3fl",
        "outputId": "c0950449-678b-47dc-e33c-72520109ee9f"
      },
      "execution_count": 41,
      "outputs": [
        {
          "output_type": "stream",
          "name": "stdout",
          "text": [
            "1/1 [==============================] - 0s 71ms/step\n"
          ]
        },
        {
          "output_type": "execute_result",
          "data": {
            "text/plain": [
              "array([[210.69485]], dtype=float32)"
            ]
          },
          "metadata": {},
          "execution_count": 41
        }
      ]
    },
    {
      "cell_type": "markdown",
      "source": [
        "## Compare the results of our experiments\n",
        "\n",
        "We've run a few experiments now. Let's compare the results.\n",
        "\n",
        "You want to start with small experiments (small models) and make sure they work and then increase their scale."
      ],
      "metadata": {
        "id": "M82OFpH4MFyp"
      }
    },
    {
      "cell_type": "code",
      "source": [
        "# Let's compare our models results using a pandas DataFrame\n",
        "import pandas as pd\n",
        "\n",
        "model_results = [[\"model_1\", mae_1.numpy(), mse_1.numpy()],\n",
        "                 [\"model_2\", mae_2.numpy(), mse_2.numpy()]]\n",
        "\n",
        "all_results = pd.DataFrame(model_results, columns=[\"model\", \"mae\", \"mse\"])\n",
        "all_results"
      ],
      "metadata": {
        "colab": {
          "base_uri": "https://localhost:8080/",
          "height": 112
        },
        "id": "q8aj6s3xMl-m",
        "outputId": "b59c331e-dfa0-4ea5-8412-6c1166176336"
      },
      "execution_count": 42,
      "outputs": [
        {
          "output_type": "execute_result",
          "data": {
            "text/plain": [
              "     model       mae         mse\n",
              "0  model_1  21.31547  457.796692\n",
              "1  model_2   0.26347    0.071067"
            ],
            "text/html": [
              "\n",
              "  <div id=\"df-5850bfc2-c562-491d-b769-0481ffefc282\" class=\"colab-df-container\">\n",
              "    <div>\n",
              "<style scoped>\n",
              "    .dataframe tbody tr th:only-of-type {\n",
              "        vertical-align: middle;\n",
              "    }\n",
              "\n",
              "    .dataframe tbody tr th {\n",
              "        vertical-align: top;\n",
              "    }\n",
              "\n",
              "    .dataframe thead th {\n",
              "        text-align: right;\n",
              "    }\n",
              "</style>\n",
              "<table border=\"1\" class=\"dataframe\">\n",
              "  <thead>\n",
              "    <tr style=\"text-align: right;\">\n",
              "      <th></th>\n",
              "      <th>model</th>\n",
              "      <th>mae</th>\n",
              "      <th>mse</th>\n",
              "    </tr>\n",
              "  </thead>\n",
              "  <tbody>\n",
              "    <tr>\n",
              "      <th>0</th>\n",
              "      <td>model_1</td>\n",
              "      <td>21.31547</td>\n",
              "      <td>457.796692</td>\n",
              "    </tr>\n",
              "    <tr>\n",
              "      <th>1</th>\n",
              "      <td>model_2</td>\n",
              "      <td>0.26347</td>\n",
              "      <td>0.071067</td>\n",
              "    </tr>\n",
              "  </tbody>\n",
              "</table>\n",
              "</div>\n",
              "    <div class=\"colab-df-buttons\">\n",
              "\n",
              "  <div class=\"colab-df-container\">\n",
              "    <button class=\"colab-df-convert\" onclick=\"convertToInteractive('df-5850bfc2-c562-491d-b769-0481ffefc282')\"\n",
              "            title=\"Convert this dataframe to an interactive table.\"\n",
              "            style=\"display:none;\">\n",
              "\n",
              "  <svg xmlns=\"http://www.w3.org/2000/svg\" height=\"24px\" viewBox=\"0 -960 960 960\">\n",
              "    <path d=\"M120-120v-720h720v720H120Zm60-500h600v-160H180v160Zm220 220h160v-160H400v160Zm0 220h160v-160H400v160ZM180-400h160v-160H180v160Zm440 0h160v-160H620v160ZM180-180h160v-160H180v160Zm440 0h160v-160H620v160Z\"/>\n",
              "  </svg>\n",
              "    </button>\n",
              "\n",
              "  <style>\n",
              "    .colab-df-container {\n",
              "      display:flex;\n",
              "      gap: 12px;\n",
              "    }\n",
              "\n",
              "    .colab-df-convert {\n",
              "      background-color: #E8F0FE;\n",
              "      border: none;\n",
              "      border-radius: 50%;\n",
              "      cursor: pointer;\n",
              "      display: none;\n",
              "      fill: #1967D2;\n",
              "      height: 32px;\n",
              "      padding: 0 0 0 0;\n",
              "      width: 32px;\n",
              "    }\n",
              "\n",
              "    .colab-df-convert:hover {\n",
              "      background-color: #E2EBFA;\n",
              "      box-shadow: 0px 1px 2px rgba(60, 64, 67, 0.3), 0px 1px 3px 1px rgba(60, 64, 67, 0.15);\n",
              "      fill: #174EA6;\n",
              "    }\n",
              "\n",
              "    .colab-df-buttons div {\n",
              "      margin-bottom: 4px;\n",
              "    }\n",
              "\n",
              "    [theme=dark] .colab-df-convert {\n",
              "      background-color: #3B4455;\n",
              "      fill: #D2E3FC;\n",
              "    }\n",
              "\n",
              "    [theme=dark] .colab-df-convert:hover {\n",
              "      background-color: #434B5C;\n",
              "      box-shadow: 0px 1px 3px 1px rgba(0, 0, 0, 0.15);\n",
              "      filter: drop-shadow(0px 1px 2px rgba(0, 0, 0, 0.3));\n",
              "      fill: #FFFFFF;\n",
              "    }\n",
              "  </style>\n",
              "\n",
              "    <script>\n",
              "      const buttonEl =\n",
              "        document.querySelector('#df-5850bfc2-c562-491d-b769-0481ffefc282 button.colab-df-convert');\n",
              "      buttonEl.style.display =\n",
              "        google.colab.kernel.accessAllowed ? 'block' : 'none';\n",
              "\n",
              "      async function convertToInteractive(key) {\n",
              "        const element = document.querySelector('#df-5850bfc2-c562-491d-b769-0481ffefc282');\n",
              "        const dataTable =\n",
              "          await google.colab.kernel.invokeFunction('convertToInteractive',\n",
              "                                                    [key], {});\n",
              "        if (!dataTable) return;\n",
              "\n",
              "        const docLinkHtml = 'Like what you see? Visit the ' +\n",
              "          '<a target=\"_blank\" href=https://colab.research.google.com/notebooks/data_table.ipynb>data table notebook</a>'\n",
              "          + ' to learn more about interactive tables.';\n",
              "        element.innerHTML = '';\n",
              "        dataTable['output_type'] = 'display_data';\n",
              "        await google.colab.output.renderOutput(dataTable, element);\n",
              "        const docLink = document.createElement('div');\n",
              "        docLink.innerHTML = docLinkHtml;\n",
              "        element.appendChild(docLink);\n",
              "      }\n",
              "    </script>\n",
              "  </div>\n",
              "\n",
              "\n",
              "<div id=\"df-f7d8139f-78af-41c2-8bea-322431c36076\">\n",
              "  <button class=\"colab-df-quickchart\" onclick=\"quickchart('df-f7d8139f-78af-41c2-8bea-322431c36076')\"\n",
              "            title=\"Suggest charts\"\n",
              "            style=\"display:none;\">\n",
              "\n",
              "<svg xmlns=\"http://www.w3.org/2000/svg\" height=\"24px\"viewBox=\"0 0 24 24\"\n",
              "     width=\"24px\">\n",
              "    <g>\n",
              "        <path d=\"M19 3H5c-1.1 0-2 .9-2 2v14c0 1.1.9 2 2 2h14c1.1 0 2-.9 2-2V5c0-1.1-.9-2-2-2zM9 17H7v-7h2v7zm4 0h-2V7h2v10zm4 0h-2v-4h2v4z\"/>\n",
              "    </g>\n",
              "</svg>\n",
              "  </button>\n",
              "\n",
              "<style>\n",
              "  .colab-df-quickchart {\n",
              "      --bg-color: #E8F0FE;\n",
              "      --fill-color: #1967D2;\n",
              "      --hover-bg-color: #E2EBFA;\n",
              "      --hover-fill-color: #174EA6;\n",
              "      --disabled-fill-color: #AAA;\n",
              "      --disabled-bg-color: #DDD;\n",
              "  }\n",
              "\n",
              "  [theme=dark] .colab-df-quickchart {\n",
              "      --bg-color: #3B4455;\n",
              "      --fill-color: #D2E3FC;\n",
              "      --hover-bg-color: #434B5C;\n",
              "      --hover-fill-color: #FFFFFF;\n",
              "      --disabled-bg-color: #3B4455;\n",
              "      --disabled-fill-color: #666;\n",
              "  }\n",
              "\n",
              "  .colab-df-quickchart {\n",
              "    background-color: var(--bg-color);\n",
              "    border: none;\n",
              "    border-radius: 50%;\n",
              "    cursor: pointer;\n",
              "    display: none;\n",
              "    fill: var(--fill-color);\n",
              "    height: 32px;\n",
              "    padding: 0;\n",
              "    width: 32px;\n",
              "  }\n",
              "\n",
              "  .colab-df-quickchart:hover {\n",
              "    background-color: var(--hover-bg-color);\n",
              "    box-shadow: 0 1px 2px rgba(60, 64, 67, 0.3), 0 1px 3px 1px rgba(60, 64, 67, 0.15);\n",
              "    fill: var(--button-hover-fill-color);\n",
              "  }\n",
              "\n",
              "  .colab-df-quickchart-complete:disabled,\n",
              "  .colab-df-quickchart-complete:disabled:hover {\n",
              "    background-color: var(--disabled-bg-color);\n",
              "    fill: var(--disabled-fill-color);\n",
              "    box-shadow: none;\n",
              "  }\n",
              "\n",
              "  .colab-df-spinner {\n",
              "    border: 2px solid var(--fill-color);\n",
              "    border-color: transparent;\n",
              "    border-bottom-color: var(--fill-color);\n",
              "    animation:\n",
              "      spin 1s steps(1) infinite;\n",
              "  }\n",
              "\n",
              "  @keyframes spin {\n",
              "    0% {\n",
              "      border-color: transparent;\n",
              "      border-bottom-color: var(--fill-color);\n",
              "      border-left-color: var(--fill-color);\n",
              "    }\n",
              "    20% {\n",
              "      border-color: transparent;\n",
              "      border-left-color: var(--fill-color);\n",
              "      border-top-color: var(--fill-color);\n",
              "    }\n",
              "    30% {\n",
              "      border-color: transparent;\n",
              "      border-left-color: var(--fill-color);\n",
              "      border-top-color: var(--fill-color);\n",
              "      border-right-color: var(--fill-color);\n",
              "    }\n",
              "    40% {\n",
              "      border-color: transparent;\n",
              "      border-right-color: var(--fill-color);\n",
              "      border-top-color: var(--fill-color);\n",
              "    }\n",
              "    60% {\n",
              "      border-color: transparent;\n",
              "      border-right-color: var(--fill-color);\n",
              "    }\n",
              "    80% {\n",
              "      border-color: transparent;\n",
              "      border-right-color: var(--fill-color);\n",
              "      border-bottom-color: var(--fill-color);\n",
              "    }\n",
              "    90% {\n",
              "      border-color: transparent;\n",
              "      border-bottom-color: var(--fill-color);\n",
              "    }\n",
              "  }\n",
              "</style>\n",
              "\n",
              "  <script>\n",
              "    async function quickchart(key) {\n",
              "      const quickchartButtonEl =\n",
              "        document.querySelector('#' + key + ' button');\n",
              "      quickchartButtonEl.disabled = true;  // To prevent multiple clicks.\n",
              "      quickchartButtonEl.classList.add('colab-df-spinner');\n",
              "      try {\n",
              "        const charts = await google.colab.kernel.invokeFunction(\n",
              "            'suggestCharts', [key], {});\n",
              "      } catch (error) {\n",
              "        console.error('Error during call to suggestCharts:', error);\n",
              "      }\n",
              "      quickchartButtonEl.classList.remove('colab-df-spinner');\n",
              "      quickchartButtonEl.classList.add('colab-df-quickchart-complete');\n",
              "    }\n",
              "    (() => {\n",
              "      let quickchartButtonEl =\n",
              "        document.querySelector('#df-f7d8139f-78af-41c2-8bea-322431c36076 button');\n",
              "      quickchartButtonEl.style.display =\n",
              "        google.colab.kernel.accessAllowed ? 'block' : 'none';\n",
              "    })();\n",
              "  </script>\n",
              "</div>\n",
              "    </div>\n",
              "  </div>\n"
            ],
            "application/vnd.google.colaboratory.intrinsic+json": {
              "type": "dataframe",
              "variable_name": "all_results",
              "summary": "{\n  \"name\": \"all_results\",\n  \"rows\": 2,\n  \"fields\": [\n    {\n      \"column\": \"model\",\n      \"properties\": {\n        \"dtype\": \"string\",\n        \"num_unique_values\": 2,\n        \"samples\": [\n          \"model_2\",\n          \"model_1\"\n        ],\n        \"semantic_type\": \"\",\n        \"description\": \"\"\n      }\n    },\n    {\n      \"column\": \"mae\",\n      \"properties\": {\n        \"dtype\": \"float32\",\n        \"num_unique_values\": 2,\n        \"samples\": [\n          0.26347047090530396,\n          21.31546974182129\n        ],\n        \"semantic_type\": \"\",\n        \"description\": \"\"\n      }\n    },\n    {\n      \"column\": \"mse\",\n      \"properties\": {\n        \"dtype\": \"float32\",\n        \"num_unique_values\": 2,\n        \"samples\": [\n          0.07106708735227585,\n          457.79669189453125\n        ],\n        \"semantic_type\": \"\",\n        \"description\": \"\"\n      }\n    }\n  ]\n}"
            }
          },
          "metadata": {},
          "execution_count": 42
        }
      ]
    },
    {
      "cell_type": "code",
      "source": [
        "model_2.summary()"
      ],
      "metadata": {
        "colab": {
          "base_uri": "https://localhost:8080/"
        },
        "id": "23k9xdkgnQ-7",
        "outputId": "8502db45-29b9-4b57-ce23-4f46ce448c93"
      },
      "execution_count": 43,
      "outputs": [
        {
          "output_type": "stream",
          "name": "stdout",
          "text": [
            "Model: \"sequential_5\"\n",
            "_________________________________________________________________\n",
            " Layer (type)                Output Shape              Param #   \n",
            "=================================================================\n",
            " dense_8 (Dense)             (None, 128)               256       \n",
            "                                                                 \n",
            " dense_9 (Dense)             (None, 1)                 129       \n",
            "                                                                 \n",
            "=================================================================\n",
            "Total params: 385 (1.50 KB)\n",
            "Trainable params: 385 (1.50 KB)\n",
            "Non-trainable params: 0 (0.00 Byte)\n",
            "_________________________________________________________________\n"
          ]
        }
      ]
    },
    {
      "cell_type": "markdown",
      "source": [
        "> **Note:** one of our goals would be to minimize the time between our eyperiments. The more experiments you do, the more things you'll figure out which don't work and in turn, get closer to figuring our what does work.\n",
        "\"Experiment, experiment, experiment\""
      ],
      "metadata": {
        "id": "hc_doX84ndq1"
      }
    },
    {
      "cell_type": "markdown",
      "source": [
        "## Tracking your experiments\n",
        "\n",
        "One really good habit in ML modelling is to track the results of your experiments.\n",
        "\n",
        "When doing so, it can be tedious if you're running lots of experiments.\n",
        "Luckily, there are tools to help us.\n",
        "\n",
        "**Resources:**\n",
        "* As you build more models, you'll want to look into using:\n",
        "* TensorBoard - component of the Tensorflow library to help track modelling experiments (we'll see this one later)\n",
        "* Weights and biases - a tool for tracking all kinds of ML experiments (plugs straight into TensorBoard)"
      ],
      "metadata": {
        "id": "F9XE693EoF1t"
      }
    },
    {
      "cell_type": "markdown",
      "source": [
        "## Saving our models\n",
        "\n",
        "Saving our models allows us to use them outside of Google Colab such as in a web application or a mobile app.\n",
        "\n",
        "There are 2 main formats we can save our models to:\n",
        "1. The SavedModel format\n",
        "2. HDF5 format"
      ],
      "metadata": {
        "id": "qpWhxibcoPJh"
      }
    },
    {
      "cell_type": "code",
      "source": [
        "# We saw that model_2 works best and we want to save it using SavedModel format\n",
        "model_2.save('best_model_SavedModel_format')"
      ],
      "metadata": {
        "id": "XLHPZ3Z4o7tR"
      },
      "execution_count": 44,
      "outputs": []
    },
    {
      "cell_type": "code",
      "source": [
        "# Save it into HDF5 format\n",
        "model_2.save('model_2.h5')"
      ],
      "metadata": {
        "colab": {
          "base_uri": "https://localhost:8080/"
        },
        "id": "A1X5Z_-sp369",
        "outputId": "321ea8dc-45df-4e2e-fb2e-efb21dcab8b3"
      },
      "execution_count": 45,
      "outputs": [
        {
          "output_type": "stream",
          "name": "stderr",
          "text": [
            "/usr/local/lib/python3.10/dist-packages/keras/src/engine/training.py:3103: UserWarning: You are saving your model as an HDF5 file via `model.save()`. This file format is considered legacy. We recommend using instead the native Keras format, e.g. `model.save('my_model.keras')`.\n",
            "  saving_api.save_model(\n"
          ]
        }
      ]
    },
    {
      "cell_type": "code",
      "source": [
        "# Load a saved model format\n",
        "saved_model = tf.keras.models.load_model('best_model_SavedModel_format')\n",
        "saved_model.predict([200.0])"
      ],
      "metadata": {
        "colab": {
          "base_uri": "https://localhost:8080/"
        },
        "id": "IvagmPWWqRYG",
        "outputId": "b2ea6d4f-43ad-4412-a999-35c2c1f3857a"
      },
      "execution_count": 46,
      "outputs": [
        {
          "output_type": "stream",
          "name": "stdout",
          "text": [
            "1/1 [==============================] - 0s 59ms/step\n"
          ]
        },
        {
          "output_type": "execute_result",
          "data": {
            "text/plain": [
              "array([[210.69485]], dtype=float32)"
            ]
          },
          "metadata": {},
          "execution_count": 46
        }
      ]
    },
    {
      "cell_type": "code",
      "source": [
        "# Load a HDF5 model format\n",
        "h5_model = tf.keras.models.load_model('model_2.h5')\n",
        "h5_model.predict([200.0])"
      ],
      "metadata": {
        "colab": {
          "base_uri": "https://localhost:8080/"
        },
        "id": "13oUmarpqiZi",
        "outputId": "d50f4bda-e9e7-46a4-8497-c147dc366f8b"
      },
      "execution_count": 47,
      "outputs": [
        {
          "output_type": "stream",
          "name": "stdout",
          "text": [
            "1/1 [==============================] - 0s 61ms/step\n"
          ]
        },
        {
          "output_type": "execute_result",
          "data": {
            "text/plain": [
              "array([[210.69485]], dtype=float32)"
            ]
          },
          "metadata": {},
          "execution_count": 47
        }
      ]
    },
    {
      "cell_type": "code",
      "source": [
        "model_2.predict([200.0])"
      ],
      "metadata": {
        "colab": {
          "base_uri": "https://localhost:8080/"
        },
        "id": "mSUUE7pmrqvm",
        "outputId": "fdb02a78-5bd3-4517-f417-4acd709ba265"
      },
      "execution_count": 48,
      "outputs": [
        {
          "output_type": "stream",
          "name": "stdout",
          "text": [
            "1/1 [==============================] - 0s 32ms/step\n"
          ]
        },
        {
          "output_type": "execute_result",
          "data": {
            "text/plain": [
              "array([[210.69485]], dtype=float32)"
            ]
          },
          "metadata": {},
          "execution_count": 48
        }
      ]
    },
    {
      "cell_type": "code",
      "source": [
        "h5_model.summary()"
      ],
      "metadata": {
        "colab": {
          "base_uri": "https://localhost:8080/"
        },
        "id": "G8_OL7Z8qsZk",
        "outputId": "13a1a5ce-6b51-4a29-f54c-6b430ccfca62"
      },
      "execution_count": 49,
      "outputs": [
        {
          "output_type": "stream",
          "name": "stdout",
          "text": [
            "Model: \"sequential_5\"\n",
            "_________________________________________________________________\n",
            " Layer (type)                Output Shape              Param #   \n",
            "=================================================================\n",
            " dense_8 (Dense)             (None, 128)               256       \n",
            "                                                                 \n",
            " dense_9 (Dense)             (None, 1)                 129       \n",
            "                                                                 \n",
            "=================================================================\n",
            "Total params: 385 (1.50 KB)\n",
            "Trainable params: 385 (1.50 KB)\n",
            "Non-trainable params: 0 (0.00 Byte)\n",
            "_________________________________________________________________\n"
          ]
        }
      ]
    },
    {
      "cell_type": "code",
      "source": [
        "# Assertion does not throw error so the models are the same\n",
        "assert saved_model.predict([200.0]) == h5_model.predict([200.0]) == model_2.predict([200.0])"
      ],
      "metadata": {
        "colab": {
          "base_uri": "https://localhost:8080/"
        },
        "id": "bBD-1SCKqyiJ",
        "outputId": "e8f6d31e-ea6a-4a4a-d5a4-9fe0cfad413f"
      },
      "execution_count": 50,
      "outputs": [
        {
          "output_type": "stream",
          "name": "stdout",
          "text": [
            "1/1 [==============================] - 0s 32ms/step\n",
            "1/1 [==============================] - 0s 31ms/step\n",
            "1/1 [==============================] - 0s 31ms/step\n"
          ]
        }
      ]
    },
    {
      "cell_type": "markdown",
      "source": [
        "## Download the model (or any other file) from Google Colab\n",
        "\n",
        "If you want to download your files from Google Colab:\n",
        "1. Go to the files tab and right click on the file and click download\n",
        "2. Use code (see the cell below)\n",
        "3. Save it to Google Drive by connecting Drive and copy it there (second code cell)"
      ],
      "metadata": {
        "id": "tKm1ZuoUr0Cv"
      }
    },
    {
      "cell_type": "code",
      "source": [
        "# Download a file from Colab\n",
        "from google.colab import files\n",
        "files.download(\"/content/model_2.h5\")"
      ],
      "metadata": {
        "colab": {
          "base_uri": "https://localhost:8080/",
          "height": 17
        },
        "id": "UjJ8W6owB4VD",
        "outputId": "1c511358-9deb-4a86-ce85-f902bc4e96ff"
      },
      "execution_count": 51,
      "outputs": [
        {
          "output_type": "display_data",
          "data": {
            "text/plain": [
              "<IPython.core.display.Javascript object>"
            ],
            "application/javascript": [
              "\n",
              "    async function download(id, filename, size) {\n",
              "      if (!google.colab.kernel.accessAllowed) {\n",
              "        return;\n",
              "      }\n",
              "      const div = document.createElement('div');\n",
              "      const label = document.createElement('label');\n",
              "      label.textContent = `Downloading \"${filename}\": `;\n",
              "      div.appendChild(label);\n",
              "      const progress = document.createElement('progress');\n",
              "      progress.max = size;\n",
              "      div.appendChild(progress);\n",
              "      document.body.appendChild(div);\n",
              "\n",
              "      const buffers = [];\n",
              "      let downloaded = 0;\n",
              "\n",
              "      const channel = await google.colab.kernel.comms.open(id);\n",
              "      // Send a message to notify the kernel that we're ready.\n",
              "      channel.send({})\n",
              "\n",
              "      for await (const message of channel.messages) {\n",
              "        // Send a message to notify the kernel that we're ready.\n",
              "        channel.send({})\n",
              "        if (message.buffers) {\n",
              "          for (const buffer of message.buffers) {\n",
              "            buffers.push(buffer);\n",
              "            downloaded += buffer.byteLength;\n",
              "            progress.value = downloaded;\n",
              "          }\n",
              "        }\n",
              "      }\n",
              "      const blob = new Blob(buffers, {type: 'application/binary'});\n",
              "      const a = document.createElement('a');\n",
              "      a.href = window.URL.createObjectURL(blob);\n",
              "      a.download = filename;\n",
              "      div.appendChild(a);\n",
              "      a.click();\n",
              "      div.remove();\n",
              "    }\n",
              "  "
            ]
          },
          "metadata": {}
        },
        {
          "output_type": "display_data",
          "data": {
            "text/plain": [
              "<IPython.core.display.Javascript object>"
            ],
            "application/javascript": [
              "download(\"download_2fd28874-5961-4716-b51d-88c443c09eba\", \"model_2.h5\", 30296)"
            ]
          },
          "metadata": {}
        }
      ]
    },
    {
      "cell_type": "code",
      "source": [
        "# !cp /content/model_2.h5 /content/drive/MyDrive..."
      ],
      "metadata": {
        "id": "4aSfHxB_CXxE"
      },
      "execution_count": 52,
      "outputs": []
    },
    {
      "cell_type": "markdown",
      "source": [
        "## A larger example"
      ],
      "metadata": {
        "id": "W67cRTh3DKwQ"
      }
    },
    {
      "cell_type": "code",
      "source": [
        "X_train, y_train"
      ],
      "metadata": {
        "colab": {
          "base_uri": "https://localhost:8080/"
        },
        "id": "7u9ASiLVDMO-",
        "outputId": "6a4fb84e-a0df-4422-a34f-3279a89dc09f"
      },
      "execution_count": 53,
      "outputs": [
        {
          "output_type": "execute_result",
          "data": {
            "text/plain": [
              "(<tf.Tensor: shape=(40,), dtype=int32, numpy=\n",
              " array([-100,  -96,  -92,  -88,  -84,  -80,  -76,  -72,  -68,  -64,  -60,\n",
              "         -56,  -52,  -48,  -44,  -40,  -36,  -32,  -28,  -24,  -20,  -16,\n",
              "         -12,   -8,   -4,    0,    4,    8,   12,   16,   20,   24,   28,\n",
              "          32,   36,   40,   44,   48,   52,   56], dtype=int32)>,\n",
              " <tf.Tensor: shape=(40,), dtype=int32, numpy=\n",
              " array([-90, -86, -82, -78, -74, -70, -66, -62, -58, -54, -50, -46, -42,\n",
              "        -38, -34, -30, -26, -22, -18, -14, -10,  -6,  -2,   2,   6,  10,\n",
              "         14,  18,  22,  26,  30,  34,  38,  42,  46,  50,  54,  58,  62,\n",
              "         66], dtype=int32)>)"
            ]
          },
          "metadata": {},
          "execution_count": 53
        }
      ]
    },
    {
      "cell_type": "code",
      "source": [
        "# Import required libraries\n",
        "import tensorflow as tf\n",
        "import pandas as pd\n",
        "import matplotlib.pyplot as plt"
      ],
      "metadata": {
        "id": "jpd8Q34dDXLU"
      },
      "execution_count": 54,
      "outputs": []
    },
    {
      "cell_type": "code",
      "source": [
        "# Read in the insurance dataset\n",
        "data_url = 'https://raw.githubusercontent.com/stedy/Machine-Learning-with-R-datasets/master/insurance.csv'\n",
        "insurance = pd.read_csv(data_url)\n",
        "\n",
        "insurance.head()"
      ],
      "metadata": {
        "colab": {
          "base_uri": "https://localhost:8080/",
          "height": 206
        },
        "id": "RftU0LFREDge",
        "outputId": "503b40aa-0080-4b5f-f449-bb46e9740a5e"
      },
      "execution_count": 55,
      "outputs": [
        {
          "output_type": "execute_result",
          "data": {
            "text/plain": [
              "   age     sex     bmi  children smoker     region      charges\n",
              "0   19  female  27.900         0    yes  southwest  16884.92400\n",
              "1   18    male  33.770         1     no  southeast   1725.55230\n",
              "2   28    male  33.000         3     no  southeast   4449.46200\n",
              "3   33    male  22.705         0     no  northwest  21984.47061\n",
              "4   32    male  28.880         0     no  northwest   3866.85520"
            ],
            "text/html": [
              "\n",
              "  <div id=\"df-b1ac1ecd-b267-49fb-9a67-b3ed69c27d9b\" class=\"colab-df-container\">\n",
              "    <div>\n",
              "<style scoped>\n",
              "    .dataframe tbody tr th:only-of-type {\n",
              "        vertical-align: middle;\n",
              "    }\n",
              "\n",
              "    .dataframe tbody tr th {\n",
              "        vertical-align: top;\n",
              "    }\n",
              "\n",
              "    .dataframe thead th {\n",
              "        text-align: right;\n",
              "    }\n",
              "</style>\n",
              "<table border=\"1\" class=\"dataframe\">\n",
              "  <thead>\n",
              "    <tr style=\"text-align: right;\">\n",
              "      <th></th>\n",
              "      <th>age</th>\n",
              "      <th>sex</th>\n",
              "      <th>bmi</th>\n",
              "      <th>children</th>\n",
              "      <th>smoker</th>\n",
              "      <th>region</th>\n",
              "      <th>charges</th>\n",
              "    </tr>\n",
              "  </thead>\n",
              "  <tbody>\n",
              "    <tr>\n",
              "      <th>0</th>\n",
              "      <td>19</td>\n",
              "      <td>female</td>\n",
              "      <td>27.900</td>\n",
              "      <td>0</td>\n",
              "      <td>yes</td>\n",
              "      <td>southwest</td>\n",
              "      <td>16884.92400</td>\n",
              "    </tr>\n",
              "    <tr>\n",
              "      <th>1</th>\n",
              "      <td>18</td>\n",
              "      <td>male</td>\n",
              "      <td>33.770</td>\n",
              "      <td>1</td>\n",
              "      <td>no</td>\n",
              "      <td>southeast</td>\n",
              "      <td>1725.55230</td>\n",
              "    </tr>\n",
              "    <tr>\n",
              "      <th>2</th>\n",
              "      <td>28</td>\n",
              "      <td>male</td>\n",
              "      <td>33.000</td>\n",
              "      <td>3</td>\n",
              "      <td>no</td>\n",
              "      <td>southeast</td>\n",
              "      <td>4449.46200</td>\n",
              "    </tr>\n",
              "    <tr>\n",
              "      <th>3</th>\n",
              "      <td>33</td>\n",
              "      <td>male</td>\n",
              "      <td>22.705</td>\n",
              "      <td>0</td>\n",
              "      <td>no</td>\n",
              "      <td>northwest</td>\n",
              "      <td>21984.47061</td>\n",
              "    </tr>\n",
              "    <tr>\n",
              "      <th>4</th>\n",
              "      <td>32</td>\n",
              "      <td>male</td>\n",
              "      <td>28.880</td>\n",
              "      <td>0</td>\n",
              "      <td>no</td>\n",
              "      <td>northwest</td>\n",
              "      <td>3866.85520</td>\n",
              "    </tr>\n",
              "  </tbody>\n",
              "</table>\n",
              "</div>\n",
              "    <div class=\"colab-df-buttons\">\n",
              "\n",
              "  <div class=\"colab-df-container\">\n",
              "    <button class=\"colab-df-convert\" onclick=\"convertToInteractive('df-b1ac1ecd-b267-49fb-9a67-b3ed69c27d9b')\"\n",
              "            title=\"Convert this dataframe to an interactive table.\"\n",
              "            style=\"display:none;\">\n",
              "\n",
              "  <svg xmlns=\"http://www.w3.org/2000/svg\" height=\"24px\" viewBox=\"0 -960 960 960\">\n",
              "    <path d=\"M120-120v-720h720v720H120Zm60-500h600v-160H180v160Zm220 220h160v-160H400v160Zm0 220h160v-160H400v160ZM180-400h160v-160H180v160Zm440 0h160v-160H620v160ZM180-180h160v-160H180v160Zm440 0h160v-160H620v160Z\"/>\n",
              "  </svg>\n",
              "    </button>\n",
              "\n",
              "  <style>\n",
              "    .colab-df-container {\n",
              "      display:flex;\n",
              "      gap: 12px;\n",
              "    }\n",
              "\n",
              "    .colab-df-convert {\n",
              "      background-color: #E8F0FE;\n",
              "      border: none;\n",
              "      border-radius: 50%;\n",
              "      cursor: pointer;\n",
              "      display: none;\n",
              "      fill: #1967D2;\n",
              "      height: 32px;\n",
              "      padding: 0 0 0 0;\n",
              "      width: 32px;\n",
              "    }\n",
              "\n",
              "    .colab-df-convert:hover {\n",
              "      background-color: #E2EBFA;\n",
              "      box-shadow: 0px 1px 2px rgba(60, 64, 67, 0.3), 0px 1px 3px 1px rgba(60, 64, 67, 0.15);\n",
              "      fill: #174EA6;\n",
              "    }\n",
              "\n",
              "    .colab-df-buttons div {\n",
              "      margin-bottom: 4px;\n",
              "    }\n",
              "\n",
              "    [theme=dark] .colab-df-convert {\n",
              "      background-color: #3B4455;\n",
              "      fill: #D2E3FC;\n",
              "    }\n",
              "\n",
              "    [theme=dark] .colab-df-convert:hover {\n",
              "      background-color: #434B5C;\n",
              "      box-shadow: 0px 1px 3px 1px rgba(0, 0, 0, 0.15);\n",
              "      filter: drop-shadow(0px 1px 2px rgba(0, 0, 0, 0.3));\n",
              "      fill: #FFFFFF;\n",
              "    }\n",
              "  </style>\n",
              "\n",
              "    <script>\n",
              "      const buttonEl =\n",
              "        document.querySelector('#df-b1ac1ecd-b267-49fb-9a67-b3ed69c27d9b button.colab-df-convert');\n",
              "      buttonEl.style.display =\n",
              "        google.colab.kernel.accessAllowed ? 'block' : 'none';\n",
              "\n",
              "      async function convertToInteractive(key) {\n",
              "        const element = document.querySelector('#df-b1ac1ecd-b267-49fb-9a67-b3ed69c27d9b');\n",
              "        const dataTable =\n",
              "          await google.colab.kernel.invokeFunction('convertToInteractive',\n",
              "                                                    [key], {});\n",
              "        if (!dataTable) return;\n",
              "\n",
              "        const docLinkHtml = 'Like what you see? Visit the ' +\n",
              "          '<a target=\"_blank\" href=https://colab.research.google.com/notebooks/data_table.ipynb>data table notebook</a>'\n",
              "          + ' to learn more about interactive tables.';\n",
              "        element.innerHTML = '';\n",
              "        dataTable['output_type'] = 'display_data';\n",
              "        await google.colab.output.renderOutput(dataTable, element);\n",
              "        const docLink = document.createElement('div');\n",
              "        docLink.innerHTML = docLinkHtml;\n",
              "        element.appendChild(docLink);\n",
              "      }\n",
              "    </script>\n",
              "  </div>\n",
              "\n",
              "\n",
              "<div id=\"df-fc17eaa9-e032-4cb7-bebe-377aac9f7dcd\">\n",
              "  <button class=\"colab-df-quickchart\" onclick=\"quickchart('df-fc17eaa9-e032-4cb7-bebe-377aac9f7dcd')\"\n",
              "            title=\"Suggest charts\"\n",
              "            style=\"display:none;\">\n",
              "\n",
              "<svg xmlns=\"http://www.w3.org/2000/svg\" height=\"24px\"viewBox=\"0 0 24 24\"\n",
              "     width=\"24px\">\n",
              "    <g>\n",
              "        <path d=\"M19 3H5c-1.1 0-2 .9-2 2v14c0 1.1.9 2 2 2h14c1.1 0 2-.9 2-2V5c0-1.1-.9-2-2-2zM9 17H7v-7h2v7zm4 0h-2V7h2v10zm4 0h-2v-4h2v4z\"/>\n",
              "    </g>\n",
              "</svg>\n",
              "  </button>\n",
              "\n",
              "<style>\n",
              "  .colab-df-quickchart {\n",
              "      --bg-color: #E8F0FE;\n",
              "      --fill-color: #1967D2;\n",
              "      --hover-bg-color: #E2EBFA;\n",
              "      --hover-fill-color: #174EA6;\n",
              "      --disabled-fill-color: #AAA;\n",
              "      --disabled-bg-color: #DDD;\n",
              "  }\n",
              "\n",
              "  [theme=dark] .colab-df-quickchart {\n",
              "      --bg-color: #3B4455;\n",
              "      --fill-color: #D2E3FC;\n",
              "      --hover-bg-color: #434B5C;\n",
              "      --hover-fill-color: #FFFFFF;\n",
              "      --disabled-bg-color: #3B4455;\n",
              "      --disabled-fill-color: #666;\n",
              "  }\n",
              "\n",
              "  .colab-df-quickchart {\n",
              "    background-color: var(--bg-color);\n",
              "    border: none;\n",
              "    border-radius: 50%;\n",
              "    cursor: pointer;\n",
              "    display: none;\n",
              "    fill: var(--fill-color);\n",
              "    height: 32px;\n",
              "    padding: 0;\n",
              "    width: 32px;\n",
              "  }\n",
              "\n",
              "  .colab-df-quickchart:hover {\n",
              "    background-color: var(--hover-bg-color);\n",
              "    box-shadow: 0 1px 2px rgba(60, 64, 67, 0.3), 0 1px 3px 1px rgba(60, 64, 67, 0.15);\n",
              "    fill: var(--button-hover-fill-color);\n",
              "  }\n",
              "\n",
              "  .colab-df-quickchart-complete:disabled,\n",
              "  .colab-df-quickchart-complete:disabled:hover {\n",
              "    background-color: var(--disabled-bg-color);\n",
              "    fill: var(--disabled-fill-color);\n",
              "    box-shadow: none;\n",
              "  }\n",
              "\n",
              "  .colab-df-spinner {\n",
              "    border: 2px solid var(--fill-color);\n",
              "    border-color: transparent;\n",
              "    border-bottom-color: var(--fill-color);\n",
              "    animation:\n",
              "      spin 1s steps(1) infinite;\n",
              "  }\n",
              "\n",
              "  @keyframes spin {\n",
              "    0% {\n",
              "      border-color: transparent;\n",
              "      border-bottom-color: var(--fill-color);\n",
              "      border-left-color: var(--fill-color);\n",
              "    }\n",
              "    20% {\n",
              "      border-color: transparent;\n",
              "      border-left-color: var(--fill-color);\n",
              "      border-top-color: var(--fill-color);\n",
              "    }\n",
              "    30% {\n",
              "      border-color: transparent;\n",
              "      border-left-color: var(--fill-color);\n",
              "      border-top-color: var(--fill-color);\n",
              "      border-right-color: var(--fill-color);\n",
              "    }\n",
              "    40% {\n",
              "      border-color: transparent;\n",
              "      border-right-color: var(--fill-color);\n",
              "      border-top-color: var(--fill-color);\n",
              "    }\n",
              "    60% {\n",
              "      border-color: transparent;\n",
              "      border-right-color: var(--fill-color);\n",
              "    }\n",
              "    80% {\n",
              "      border-color: transparent;\n",
              "      border-right-color: var(--fill-color);\n",
              "      border-bottom-color: var(--fill-color);\n",
              "    }\n",
              "    90% {\n",
              "      border-color: transparent;\n",
              "      border-bottom-color: var(--fill-color);\n",
              "    }\n",
              "  }\n",
              "</style>\n",
              "\n",
              "  <script>\n",
              "    async function quickchart(key) {\n",
              "      const quickchartButtonEl =\n",
              "        document.querySelector('#' + key + ' button');\n",
              "      quickchartButtonEl.disabled = true;  // To prevent multiple clicks.\n",
              "      quickchartButtonEl.classList.add('colab-df-spinner');\n",
              "      try {\n",
              "        const charts = await google.colab.kernel.invokeFunction(\n",
              "            'suggestCharts', [key], {});\n",
              "      } catch (error) {\n",
              "        console.error('Error during call to suggestCharts:', error);\n",
              "      }\n",
              "      quickchartButtonEl.classList.remove('colab-df-spinner');\n",
              "      quickchartButtonEl.classList.add('colab-df-quickchart-complete');\n",
              "    }\n",
              "    (() => {\n",
              "      let quickchartButtonEl =\n",
              "        document.querySelector('#df-fc17eaa9-e032-4cb7-bebe-377aac9f7dcd button');\n",
              "      quickchartButtonEl.style.display =\n",
              "        google.colab.kernel.accessAllowed ? 'block' : 'none';\n",
              "    })();\n",
              "  </script>\n",
              "</div>\n",
              "    </div>\n",
              "  </div>\n"
            ],
            "application/vnd.google.colaboratory.intrinsic+json": {
              "type": "dataframe",
              "variable_name": "insurance",
              "summary": "{\n  \"name\": \"insurance\",\n  \"rows\": 1338,\n  \"fields\": [\n    {\n      \"column\": \"age\",\n      \"properties\": {\n        \"dtype\": \"number\",\n        \"std\": 14,\n        \"min\": 18,\n        \"max\": 64,\n        \"num_unique_values\": 47,\n        \"samples\": [\n          21,\n          45,\n          36\n        ],\n        \"semantic_type\": \"\",\n        \"description\": \"\"\n      }\n    },\n    {\n      \"column\": \"sex\",\n      \"properties\": {\n        \"dtype\": \"category\",\n        \"num_unique_values\": 2,\n        \"samples\": [\n          \"male\",\n          \"female\"\n        ],\n        \"semantic_type\": \"\",\n        \"description\": \"\"\n      }\n    },\n    {\n      \"column\": \"bmi\",\n      \"properties\": {\n        \"dtype\": \"number\",\n        \"std\": 6.098186911679014,\n        \"min\": 15.96,\n        \"max\": 53.13,\n        \"num_unique_values\": 548,\n        \"samples\": [\n          23.18,\n          26.885\n        ],\n        \"semantic_type\": \"\",\n        \"description\": \"\"\n      }\n    },\n    {\n      \"column\": \"children\",\n      \"properties\": {\n        \"dtype\": \"number\",\n        \"std\": 1,\n        \"min\": 0,\n        \"max\": 5,\n        \"num_unique_values\": 6,\n        \"samples\": [\n          0,\n          1\n        ],\n        \"semantic_type\": \"\",\n        \"description\": \"\"\n      }\n    },\n    {\n      \"column\": \"smoker\",\n      \"properties\": {\n        \"dtype\": \"category\",\n        \"num_unique_values\": 2,\n        \"samples\": [\n          \"no\",\n          \"yes\"\n        ],\n        \"semantic_type\": \"\",\n        \"description\": \"\"\n      }\n    },\n    {\n      \"column\": \"region\",\n      \"properties\": {\n        \"dtype\": \"category\",\n        \"num_unique_values\": 4,\n        \"samples\": [\n          \"southeast\",\n          \"northeast\"\n        ],\n        \"semantic_type\": \"\",\n        \"description\": \"\"\n      }\n    },\n    {\n      \"column\": \"charges\",\n      \"properties\": {\n        \"dtype\": \"number\",\n        \"std\": 12110.011236694001,\n        \"min\": 1121.8739,\n        \"max\": 63770.42801,\n        \"num_unique_values\": 1337,\n        \"samples\": [\n          8688.85885,\n          5708.867\n        ],\n        \"semantic_type\": \"\",\n        \"description\": \"\"\n      }\n    }\n  ]\n}"
            }
          },
          "metadata": {},
          "execution_count": 55
        }
      ]
    },
    {
      "cell_type": "code",
      "source": [
        "# Let's try one-hot encode our dataframe\n",
        "df = pd.get_dummies(insurance)\n",
        "df.head()"
      ],
      "metadata": {
        "colab": {
          "base_uri": "https://localhost:8080/",
          "height": 226
        },
        "id": "vTwufYAUEKGZ",
        "outputId": "dae85102-ef85-4bdc-9cb3-baf4ad477589"
      },
      "execution_count": 56,
      "outputs": [
        {
          "output_type": "execute_result",
          "data": {
            "text/plain": [
              "   age     bmi  children      charges  sex_female  sex_male  smoker_no  \\\n",
              "0   19  27.900         0  16884.92400        True     False      False   \n",
              "1   18  33.770         1   1725.55230       False      True       True   \n",
              "2   28  33.000         3   4449.46200       False      True       True   \n",
              "3   33  22.705         0  21984.47061       False      True       True   \n",
              "4   32  28.880         0   3866.85520       False      True       True   \n",
              "\n",
              "   smoker_yes  region_northeast  region_northwest  region_southeast  \\\n",
              "0        True             False             False             False   \n",
              "1       False             False             False              True   \n",
              "2       False             False             False              True   \n",
              "3       False             False              True             False   \n",
              "4       False             False              True             False   \n",
              "\n",
              "   region_southwest  \n",
              "0              True  \n",
              "1             False  \n",
              "2             False  \n",
              "3             False  \n",
              "4             False  "
            ],
            "text/html": [
              "\n",
              "  <div id=\"df-f113c9d7-1964-4920-bed8-0d37fde2fe88\" class=\"colab-df-container\">\n",
              "    <div>\n",
              "<style scoped>\n",
              "    .dataframe tbody tr th:only-of-type {\n",
              "        vertical-align: middle;\n",
              "    }\n",
              "\n",
              "    .dataframe tbody tr th {\n",
              "        vertical-align: top;\n",
              "    }\n",
              "\n",
              "    .dataframe thead th {\n",
              "        text-align: right;\n",
              "    }\n",
              "</style>\n",
              "<table border=\"1\" class=\"dataframe\">\n",
              "  <thead>\n",
              "    <tr style=\"text-align: right;\">\n",
              "      <th></th>\n",
              "      <th>age</th>\n",
              "      <th>bmi</th>\n",
              "      <th>children</th>\n",
              "      <th>charges</th>\n",
              "      <th>sex_female</th>\n",
              "      <th>sex_male</th>\n",
              "      <th>smoker_no</th>\n",
              "      <th>smoker_yes</th>\n",
              "      <th>region_northeast</th>\n",
              "      <th>region_northwest</th>\n",
              "      <th>region_southeast</th>\n",
              "      <th>region_southwest</th>\n",
              "    </tr>\n",
              "  </thead>\n",
              "  <tbody>\n",
              "    <tr>\n",
              "      <th>0</th>\n",
              "      <td>19</td>\n",
              "      <td>27.900</td>\n",
              "      <td>0</td>\n",
              "      <td>16884.92400</td>\n",
              "      <td>True</td>\n",
              "      <td>False</td>\n",
              "      <td>False</td>\n",
              "      <td>True</td>\n",
              "      <td>False</td>\n",
              "      <td>False</td>\n",
              "      <td>False</td>\n",
              "      <td>True</td>\n",
              "    </tr>\n",
              "    <tr>\n",
              "      <th>1</th>\n",
              "      <td>18</td>\n",
              "      <td>33.770</td>\n",
              "      <td>1</td>\n",
              "      <td>1725.55230</td>\n",
              "      <td>False</td>\n",
              "      <td>True</td>\n",
              "      <td>True</td>\n",
              "      <td>False</td>\n",
              "      <td>False</td>\n",
              "      <td>False</td>\n",
              "      <td>True</td>\n",
              "      <td>False</td>\n",
              "    </tr>\n",
              "    <tr>\n",
              "      <th>2</th>\n",
              "      <td>28</td>\n",
              "      <td>33.000</td>\n",
              "      <td>3</td>\n",
              "      <td>4449.46200</td>\n",
              "      <td>False</td>\n",
              "      <td>True</td>\n",
              "      <td>True</td>\n",
              "      <td>False</td>\n",
              "      <td>False</td>\n",
              "      <td>False</td>\n",
              "      <td>True</td>\n",
              "      <td>False</td>\n",
              "    </tr>\n",
              "    <tr>\n",
              "      <th>3</th>\n",
              "      <td>33</td>\n",
              "      <td>22.705</td>\n",
              "      <td>0</td>\n",
              "      <td>21984.47061</td>\n",
              "      <td>False</td>\n",
              "      <td>True</td>\n",
              "      <td>True</td>\n",
              "      <td>False</td>\n",
              "      <td>False</td>\n",
              "      <td>True</td>\n",
              "      <td>False</td>\n",
              "      <td>False</td>\n",
              "    </tr>\n",
              "    <tr>\n",
              "      <th>4</th>\n",
              "      <td>32</td>\n",
              "      <td>28.880</td>\n",
              "      <td>0</td>\n",
              "      <td>3866.85520</td>\n",
              "      <td>False</td>\n",
              "      <td>True</td>\n",
              "      <td>True</td>\n",
              "      <td>False</td>\n",
              "      <td>False</td>\n",
              "      <td>True</td>\n",
              "      <td>False</td>\n",
              "      <td>False</td>\n",
              "    </tr>\n",
              "  </tbody>\n",
              "</table>\n",
              "</div>\n",
              "    <div class=\"colab-df-buttons\">\n",
              "\n",
              "  <div class=\"colab-df-container\">\n",
              "    <button class=\"colab-df-convert\" onclick=\"convertToInteractive('df-f113c9d7-1964-4920-bed8-0d37fde2fe88')\"\n",
              "            title=\"Convert this dataframe to an interactive table.\"\n",
              "            style=\"display:none;\">\n",
              "\n",
              "  <svg xmlns=\"http://www.w3.org/2000/svg\" height=\"24px\" viewBox=\"0 -960 960 960\">\n",
              "    <path d=\"M120-120v-720h720v720H120Zm60-500h600v-160H180v160Zm220 220h160v-160H400v160Zm0 220h160v-160H400v160ZM180-400h160v-160H180v160Zm440 0h160v-160H620v160ZM180-180h160v-160H180v160Zm440 0h160v-160H620v160Z\"/>\n",
              "  </svg>\n",
              "    </button>\n",
              "\n",
              "  <style>\n",
              "    .colab-df-container {\n",
              "      display:flex;\n",
              "      gap: 12px;\n",
              "    }\n",
              "\n",
              "    .colab-df-convert {\n",
              "      background-color: #E8F0FE;\n",
              "      border: none;\n",
              "      border-radius: 50%;\n",
              "      cursor: pointer;\n",
              "      display: none;\n",
              "      fill: #1967D2;\n",
              "      height: 32px;\n",
              "      padding: 0 0 0 0;\n",
              "      width: 32px;\n",
              "    }\n",
              "\n",
              "    .colab-df-convert:hover {\n",
              "      background-color: #E2EBFA;\n",
              "      box-shadow: 0px 1px 2px rgba(60, 64, 67, 0.3), 0px 1px 3px 1px rgba(60, 64, 67, 0.15);\n",
              "      fill: #174EA6;\n",
              "    }\n",
              "\n",
              "    .colab-df-buttons div {\n",
              "      margin-bottom: 4px;\n",
              "    }\n",
              "\n",
              "    [theme=dark] .colab-df-convert {\n",
              "      background-color: #3B4455;\n",
              "      fill: #D2E3FC;\n",
              "    }\n",
              "\n",
              "    [theme=dark] .colab-df-convert:hover {\n",
              "      background-color: #434B5C;\n",
              "      box-shadow: 0px 1px 3px 1px rgba(0, 0, 0, 0.15);\n",
              "      filter: drop-shadow(0px 1px 2px rgba(0, 0, 0, 0.3));\n",
              "      fill: #FFFFFF;\n",
              "    }\n",
              "  </style>\n",
              "\n",
              "    <script>\n",
              "      const buttonEl =\n",
              "        document.querySelector('#df-f113c9d7-1964-4920-bed8-0d37fde2fe88 button.colab-df-convert');\n",
              "      buttonEl.style.display =\n",
              "        google.colab.kernel.accessAllowed ? 'block' : 'none';\n",
              "\n",
              "      async function convertToInteractive(key) {\n",
              "        const element = document.querySelector('#df-f113c9d7-1964-4920-bed8-0d37fde2fe88');\n",
              "        const dataTable =\n",
              "          await google.colab.kernel.invokeFunction('convertToInteractive',\n",
              "                                                    [key], {});\n",
              "        if (!dataTable) return;\n",
              "\n",
              "        const docLinkHtml = 'Like what you see? Visit the ' +\n",
              "          '<a target=\"_blank\" href=https://colab.research.google.com/notebooks/data_table.ipynb>data table notebook</a>'\n",
              "          + ' to learn more about interactive tables.';\n",
              "        element.innerHTML = '';\n",
              "        dataTable['output_type'] = 'display_data';\n",
              "        await google.colab.output.renderOutput(dataTable, element);\n",
              "        const docLink = document.createElement('div');\n",
              "        docLink.innerHTML = docLinkHtml;\n",
              "        element.appendChild(docLink);\n",
              "      }\n",
              "    </script>\n",
              "  </div>\n",
              "\n",
              "\n",
              "<div id=\"df-fa0996a4-9c5e-405e-9c59-b084038e4ec9\">\n",
              "  <button class=\"colab-df-quickchart\" onclick=\"quickchart('df-fa0996a4-9c5e-405e-9c59-b084038e4ec9')\"\n",
              "            title=\"Suggest charts\"\n",
              "            style=\"display:none;\">\n",
              "\n",
              "<svg xmlns=\"http://www.w3.org/2000/svg\" height=\"24px\"viewBox=\"0 0 24 24\"\n",
              "     width=\"24px\">\n",
              "    <g>\n",
              "        <path d=\"M19 3H5c-1.1 0-2 .9-2 2v14c0 1.1.9 2 2 2h14c1.1 0 2-.9 2-2V5c0-1.1-.9-2-2-2zM9 17H7v-7h2v7zm4 0h-2V7h2v10zm4 0h-2v-4h2v4z\"/>\n",
              "    </g>\n",
              "</svg>\n",
              "  </button>\n",
              "\n",
              "<style>\n",
              "  .colab-df-quickchart {\n",
              "      --bg-color: #E8F0FE;\n",
              "      --fill-color: #1967D2;\n",
              "      --hover-bg-color: #E2EBFA;\n",
              "      --hover-fill-color: #174EA6;\n",
              "      --disabled-fill-color: #AAA;\n",
              "      --disabled-bg-color: #DDD;\n",
              "  }\n",
              "\n",
              "  [theme=dark] .colab-df-quickchart {\n",
              "      --bg-color: #3B4455;\n",
              "      --fill-color: #D2E3FC;\n",
              "      --hover-bg-color: #434B5C;\n",
              "      --hover-fill-color: #FFFFFF;\n",
              "      --disabled-bg-color: #3B4455;\n",
              "      --disabled-fill-color: #666;\n",
              "  }\n",
              "\n",
              "  .colab-df-quickchart {\n",
              "    background-color: var(--bg-color);\n",
              "    border: none;\n",
              "    border-radius: 50%;\n",
              "    cursor: pointer;\n",
              "    display: none;\n",
              "    fill: var(--fill-color);\n",
              "    height: 32px;\n",
              "    padding: 0;\n",
              "    width: 32px;\n",
              "  }\n",
              "\n",
              "  .colab-df-quickchart:hover {\n",
              "    background-color: var(--hover-bg-color);\n",
              "    box-shadow: 0 1px 2px rgba(60, 64, 67, 0.3), 0 1px 3px 1px rgba(60, 64, 67, 0.15);\n",
              "    fill: var(--button-hover-fill-color);\n",
              "  }\n",
              "\n",
              "  .colab-df-quickchart-complete:disabled,\n",
              "  .colab-df-quickchart-complete:disabled:hover {\n",
              "    background-color: var(--disabled-bg-color);\n",
              "    fill: var(--disabled-fill-color);\n",
              "    box-shadow: none;\n",
              "  }\n",
              "\n",
              "  .colab-df-spinner {\n",
              "    border: 2px solid var(--fill-color);\n",
              "    border-color: transparent;\n",
              "    border-bottom-color: var(--fill-color);\n",
              "    animation:\n",
              "      spin 1s steps(1) infinite;\n",
              "  }\n",
              "\n",
              "  @keyframes spin {\n",
              "    0% {\n",
              "      border-color: transparent;\n",
              "      border-bottom-color: var(--fill-color);\n",
              "      border-left-color: var(--fill-color);\n",
              "    }\n",
              "    20% {\n",
              "      border-color: transparent;\n",
              "      border-left-color: var(--fill-color);\n",
              "      border-top-color: var(--fill-color);\n",
              "    }\n",
              "    30% {\n",
              "      border-color: transparent;\n",
              "      border-left-color: var(--fill-color);\n",
              "      border-top-color: var(--fill-color);\n",
              "      border-right-color: var(--fill-color);\n",
              "    }\n",
              "    40% {\n",
              "      border-color: transparent;\n",
              "      border-right-color: var(--fill-color);\n",
              "      border-top-color: var(--fill-color);\n",
              "    }\n",
              "    60% {\n",
              "      border-color: transparent;\n",
              "      border-right-color: var(--fill-color);\n",
              "    }\n",
              "    80% {\n",
              "      border-color: transparent;\n",
              "      border-right-color: var(--fill-color);\n",
              "      border-bottom-color: var(--fill-color);\n",
              "    }\n",
              "    90% {\n",
              "      border-color: transparent;\n",
              "      border-bottom-color: var(--fill-color);\n",
              "    }\n",
              "  }\n",
              "</style>\n",
              "\n",
              "  <script>\n",
              "    async function quickchart(key) {\n",
              "      const quickchartButtonEl =\n",
              "        document.querySelector('#' + key + ' button');\n",
              "      quickchartButtonEl.disabled = true;  // To prevent multiple clicks.\n",
              "      quickchartButtonEl.classList.add('colab-df-spinner');\n",
              "      try {\n",
              "        const charts = await google.colab.kernel.invokeFunction(\n",
              "            'suggestCharts', [key], {});\n",
              "      } catch (error) {\n",
              "        console.error('Error during call to suggestCharts:', error);\n",
              "      }\n",
              "      quickchartButtonEl.classList.remove('colab-df-spinner');\n",
              "      quickchartButtonEl.classList.add('colab-df-quickchart-complete');\n",
              "    }\n",
              "    (() => {\n",
              "      let quickchartButtonEl =\n",
              "        document.querySelector('#df-fa0996a4-9c5e-405e-9c59-b084038e4ec9 button');\n",
              "      quickchartButtonEl.style.display =\n",
              "        google.colab.kernel.accessAllowed ? 'block' : 'none';\n",
              "    })();\n",
              "  </script>\n",
              "</div>\n",
              "    </div>\n",
              "  </div>\n"
            ],
            "application/vnd.google.colaboratory.intrinsic+json": {
              "type": "dataframe",
              "variable_name": "df",
              "summary": "{\n  \"name\": \"df\",\n  \"rows\": 1338,\n  \"fields\": [\n    {\n      \"column\": \"age\",\n      \"properties\": {\n        \"dtype\": \"number\",\n        \"std\": 14,\n        \"min\": 18,\n        \"max\": 64,\n        \"num_unique_values\": 47,\n        \"samples\": [\n          21,\n          45,\n          36\n        ],\n        \"semantic_type\": \"\",\n        \"description\": \"\"\n      }\n    },\n    {\n      \"column\": \"bmi\",\n      \"properties\": {\n        \"dtype\": \"number\",\n        \"std\": 6.098186911679014,\n        \"min\": 15.96,\n        \"max\": 53.13,\n        \"num_unique_values\": 548,\n        \"samples\": [\n          23.18,\n          26.885,\n          29.26\n        ],\n        \"semantic_type\": \"\",\n        \"description\": \"\"\n      }\n    },\n    {\n      \"column\": \"children\",\n      \"properties\": {\n        \"dtype\": \"number\",\n        \"std\": 1,\n        \"min\": 0,\n        \"max\": 5,\n        \"num_unique_values\": 6,\n        \"samples\": [\n          0,\n          1,\n          4\n        ],\n        \"semantic_type\": \"\",\n        \"description\": \"\"\n      }\n    },\n    {\n      \"column\": \"charges\",\n      \"properties\": {\n        \"dtype\": \"number\",\n        \"std\": 12110.011236694001,\n        \"min\": 1121.8739,\n        \"max\": 63770.42801,\n        \"num_unique_values\": 1337,\n        \"samples\": [\n          8688.85885,\n          5708.867,\n          11436.73815\n        ],\n        \"semantic_type\": \"\",\n        \"description\": \"\"\n      }\n    },\n    {\n      \"column\": \"sex_female\",\n      \"properties\": {\n        \"dtype\": \"boolean\",\n        \"num_unique_values\": 2,\n        \"samples\": [\n          false,\n          true\n        ],\n        \"semantic_type\": \"\",\n        \"description\": \"\"\n      }\n    },\n    {\n      \"column\": \"sex_male\",\n      \"properties\": {\n        \"dtype\": \"boolean\",\n        \"num_unique_values\": 2,\n        \"samples\": [\n          true,\n          false\n        ],\n        \"semantic_type\": \"\",\n        \"description\": \"\"\n      }\n    },\n    {\n      \"column\": \"smoker_no\",\n      \"properties\": {\n        \"dtype\": \"boolean\",\n        \"num_unique_values\": 2,\n        \"samples\": [\n          true,\n          false\n        ],\n        \"semantic_type\": \"\",\n        \"description\": \"\"\n      }\n    },\n    {\n      \"column\": \"smoker_yes\",\n      \"properties\": {\n        \"dtype\": \"boolean\",\n        \"num_unique_values\": 2,\n        \"samples\": [\n          false,\n          true\n        ],\n        \"semantic_type\": \"\",\n        \"description\": \"\"\n      }\n    },\n    {\n      \"column\": \"region_northeast\",\n      \"properties\": {\n        \"dtype\": \"boolean\",\n        \"num_unique_values\": 2,\n        \"samples\": [\n          true,\n          false\n        ],\n        \"semantic_type\": \"\",\n        \"description\": \"\"\n      }\n    },\n    {\n      \"column\": \"region_northwest\",\n      \"properties\": {\n        \"dtype\": \"boolean\",\n        \"num_unique_values\": 2,\n        \"samples\": [\n          true,\n          false\n        ],\n        \"semantic_type\": \"\",\n        \"description\": \"\"\n      }\n    },\n    {\n      \"column\": \"region_southeast\",\n      \"properties\": {\n        \"dtype\": \"boolean\",\n        \"num_unique_values\": 2,\n        \"samples\": [\n          true,\n          false\n        ],\n        \"semantic_type\": \"\",\n        \"description\": \"\"\n      }\n    },\n    {\n      \"column\": \"region_southwest\",\n      \"properties\": {\n        \"dtype\": \"boolean\",\n        \"num_unique_values\": 2,\n        \"samples\": [\n          false,\n          true\n        ],\n        \"semantic_type\": \"\",\n        \"description\": \"\"\n      }\n    }\n  ]\n}"
            }
          },
          "metadata": {},
          "execution_count": 56
        }
      ]
    },
    {
      "cell_type": "code",
      "source": [
        "X = np.asarray(df.drop('charges', axis=1)).astype(np.float32)\n",
        "y = np.asarray(df['charges']).astype(np.float32)"
      ],
      "metadata": {
        "id": "n5BT3Oy7Yl0q"
      },
      "execution_count": 57,
      "outputs": []
    },
    {
      "cell_type": "code",
      "source": [
        "# Create training and test sets\n",
        "from sklearn.model_selection import train_test_split\n",
        "\n",
        "X_train, X_test, y_train, y_test = train_test_split(X,\n",
        "                                                    y,\n",
        "                                                    test_size=0.2,\n",
        "                                                    random_state=42)\n",
        "\n",
        "len(X_train), len(X_test)"
      ],
      "metadata": {
        "colab": {
          "base_uri": "https://localhost:8080/"
        },
        "id": "eDr2JltXUk1_",
        "outputId": "4b467e26-1edd-44fd-de25-0ee6d7605c57"
      },
      "execution_count": 58,
      "outputs": [
        {
          "output_type": "execute_result",
          "data": {
            "text/plain": [
              "(1070, 268)"
            ]
          },
          "metadata": {},
          "execution_count": 58
        }
      ]
    },
    {
      "cell_type": "code",
      "source": [
        "X_train.shape, y_train.shape"
      ],
      "metadata": {
        "colab": {
          "base_uri": "https://localhost:8080/"
        },
        "id": "A2xUzHdPWqdV",
        "outputId": "e227d5cf-ca42-4fc1-87db-860971dd079b"
      },
      "execution_count": 59,
      "outputs": [
        {
          "output_type": "execute_result",
          "data": {
            "text/plain": [
              "((1070, 11), (1070,))"
            ]
          },
          "metadata": {},
          "execution_count": 59
        }
      ]
    },
    {
      "cell_type": "code",
      "source": [
        "# Build a neural network (sort of like model_2 above)\n",
        "tf.random.set_seed(42)\n",
        "\n",
        "insurance_model = tf.keras.Sequential([\n",
        "    tf.keras.layers.Dense(10),\n",
        "    tf.keras.layers.Dense(1)\n",
        "])\n",
        "\n",
        "insurance_model.compile(loss=tf.keras.losses.mae,\n",
        "                        optimizer=tf.keras.optimizers.SGD(),\n",
        "                        metrics=['mae'])\n",
        "\n",
        "insurance_model.fit(tf.expand_dims(X_train, axis=1), y_train, epochs=100)"
      ],
      "metadata": {
        "colab": {
          "base_uri": "https://localhost:8080/"
        },
        "id": "gSAhgj6sVhWq",
        "outputId": "8525db46-768f-4a4c-87c5-5a48518afc11"
      },
      "execution_count": 60,
      "outputs": [
        {
          "output_type": "stream",
          "name": "stdout",
          "text": [
            "Epoch 1/100\n",
            "34/34 [==============================] - 1s 5ms/step - loss: 9385.0049 - mae: 9385.0049\n",
            "Epoch 2/100\n",
            "34/34 [==============================] - 0s 5ms/step - loss: 8556.1104 - mae: 8556.1104\n",
            "Epoch 3/100\n",
            "34/34 [==============================] - 0s 6ms/step - loss: 8493.0967 - mae: 8493.0967\n",
            "Epoch 4/100\n",
            "34/34 [==============================] - 0s 5ms/step - loss: 8580.5742 - mae: 8580.5742\n",
            "Epoch 5/100\n",
            "34/34 [==============================] - 0s 5ms/step - loss: 8572.0156 - mae: 8572.0156\n",
            "Epoch 6/100\n",
            "34/34 [==============================] - 0s 5ms/step - loss: 8579.4180 - mae: 8579.4180\n",
            "Epoch 7/100\n",
            "34/34 [==============================] - 0s 5ms/step - loss: 8489.5449 - mae: 8489.5449\n",
            "Epoch 8/100\n",
            "34/34 [==============================] - 0s 4ms/step - loss: 8490.3994 - mae: 8490.3994\n",
            "Epoch 9/100\n",
            "34/34 [==============================] - 0s 5ms/step - loss: 8555.6738 - mae: 8555.6738\n",
            "Epoch 10/100\n",
            "34/34 [==============================] - 0s 5ms/step - loss: 8526.3486 - mae: 8526.3486\n",
            "Epoch 11/100\n",
            "34/34 [==============================] - 0s 6ms/step - loss: 8509.0781 - mae: 8509.0781\n",
            "Epoch 12/100\n",
            "34/34 [==============================] - 0s 5ms/step - loss: 8487.5400 - mae: 8487.5400\n",
            "Epoch 13/100\n",
            "34/34 [==============================] - 0s 6ms/step - loss: 8543.4443 - mae: 8543.4443\n",
            "Epoch 14/100\n",
            "34/34 [==============================] - 0s 6ms/step - loss: 8514.9160 - mae: 8514.9160\n",
            "Epoch 15/100\n",
            "34/34 [==============================] - 0s 6ms/step - loss: 8520.9199 - mae: 8520.9199\n",
            "Epoch 16/100\n",
            "34/34 [==============================] - 0s 5ms/step - loss: 8516.2100 - mae: 8516.2100\n",
            "Epoch 17/100\n",
            "34/34 [==============================] - 0s 4ms/step - loss: 8569.2822 - mae: 8569.2822\n",
            "Epoch 18/100\n",
            "34/34 [==============================] - 0s 4ms/step - loss: 8477.5098 - mae: 8477.5098\n",
            "Epoch 19/100\n",
            "34/34 [==============================] - 0s 4ms/step - loss: 8491.5342 - mae: 8491.5342\n",
            "Epoch 20/100\n",
            "34/34 [==============================] - 0s 3ms/step - loss: 8577.9766 - mae: 8577.9766\n",
            "Epoch 21/100\n",
            "34/34 [==============================] - 0s 4ms/step - loss: 8465.0000 - mae: 8465.0000\n",
            "Epoch 22/100\n",
            "34/34 [==============================] - 0s 4ms/step - loss: 8523.8291 - mae: 8523.8291\n",
            "Epoch 23/100\n",
            "34/34 [==============================] - 0s 4ms/step - loss: 8553.7500 - mae: 8553.7500\n",
            "Epoch 24/100\n",
            "34/34 [==============================] - 0s 3ms/step - loss: 8504.6006 - mae: 8504.6006\n",
            "Epoch 25/100\n",
            "34/34 [==============================] - 0s 4ms/step - loss: 8478.5830 - mae: 8478.5830\n",
            "Epoch 26/100\n",
            "34/34 [==============================] - 0s 3ms/step - loss: 8458.9180 - mae: 8458.9180\n",
            "Epoch 27/100\n",
            "34/34 [==============================] - 0s 3ms/step - loss: 8578.3037 - mae: 8578.3037\n",
            "Epoch 28/100\n",
            "34/34 [==============================] - 0s 3ms/step - loss: 8500.2900 - mae: 8500.2900\n",
            "Epoch 29/100\n",
            "34/34 [==============================] - 0s 4ms/step - loss: 8512.5469 - mae: 8512.5469\n",
            "Epoch 30/100\n",
            "34/34 [==============================] - 0s 4ms/step - loss: 8577.6865 - mae: 8577.6865\n",
            "Epoch 31/100\n",
            "34/34 [==============================] - 0s 4ms/step - loss: 8470.1758 - mae: 8470.1758\n",
            "Epoch 32/100\n",
            "34/34 [==============================] - 0s 3ms/step - loss: 8580.3838 - mae: 8580.3838\n",
            "Epoch 33/100\n",
            "34/34 [==============================] - 0s 4ms/step - loss: 8502.6250 - mae: 8502.6250\n",
            "Epoch 34/100\n",
            "34/34 [==============================] - 0s 3ms/step - loss: 8525.7139 - mae: 8525.7139\n",
            "Epoch 35/100\n",
            "34/34 [==============================] - 0s 3ms/step - loss: 8523.2812 - mae: 8523.2812\n",
            "Epoch 36/100\n",
            "34/34 [==============================] - 0s 4ms/step - loss: 8518.9180 - mae: 8518.9180\n",
            "Epoch 37/100\n",
            "34/34 [==============================] - 0s 4ms/step - loss: 8494.7080 - mae: 8494.7080\n",
            "Epoch 38/100\n",
            "34/34 [==============================] - 0s 3ms/step - loss: 8607.4248 - mae: 8607.4248\n",
            "Epoch 39/100\n",
            "34/34 [==============================] - 0s 4ms/step - loss: 8510.5361 - mae: 8510.5361\n",
            "Epoch 40/100\n",
            "34/34 [==============================] - 0s 3ms/step - loss: 8522.9453 - mae: 8522.9453\n",
            "Epoch 41/100\n",
            "34/34 [==============================] - 0s 3ms/step - loss: 8505.2861 - mae: 8505.2861\n",
            "Epoch 42/100\n",
            "34/34 [==============================] - 0s 3ms/step - loss: 8506.1094 - mae: 8506.1094\n",
            "Epoch 43/100\n",
            "34/34 [==============================] - 0s 4ms/step - loss: 8564.6475 - mae: 8564.6475\n",
            "Epoch 44/100\n",
            "34/34 [==============================] - 0s 4ms/step - loss: 8537.7617 - mae: 8537.7617\n",
            "Epoch 45/100\n",
            "34/34 [==============================] - 0s 4ms/step - loss: 8591.7637 - mae: 8591.7637\n",
            "Epoch 46/100\n",
            "34/34 [==============================] - 0s 4ms/step - loss: 8511.9287 - mae: 8511.9287\n",
            "Epoch 47/100\n",
            "34/34 [==============================] - 0s 3ms/step - loss: 8523.3486 - mae: 8523.3486\n",
            "Epoch 48/100\n",
            "34/34 [==============================] - 0s 3ms/step - loss: 8481.1807 - mae: 8481.1807\n",
            "Epoch 49/100\n",
            "34/34 [==============================] - 0s 3ms/step - loss: 8504.3809 - mae: 8504.3809\n",
            "Epoch 50/100\n",
            "34/34 [==============================] - 0s 4ms/step - loss: 8543.5342 - mae: 8543.5342\n",
            "Epoch 51/100\n",
            "34/34 [==============================] - 0s 4ms/step - loss: 8472.1377 - mae: 8472.1377\n",
            "Epoch 52/100\n",
            "34/34 [==============================] - 0s 3ms/step - loss: 8487.7266 - mae: 8487.7266\n",
            "Epoch 53/100\n",
            "34/34 [==============================] - 0s 4ms/step - loss: 8568.5527 - mae: 8568.5527\n",
            "Epoch 54/100\n",
            "34/34 [==============================] - 0s 4ms/step - loss: 8553.4023 - mae: 8553.4023\n",
            "Epoch 55/100\n",
            "34/34 [==============================] - 0s 3ms/step - loss: 8476.4561 - mae: 8476.4561\n",
            "Epoch 56/100\n",
            "34/34 [==============================] - 0s 3ms/step - loss: 8542.1924 - mae: 8542.1924\n",
            "Epoch 57/100\n",
            "34/34 [==============================] - 0s 4ms/step - loss: 8488.9893 - mae: 8488.9893\n",
            "Epoch 58/100\n",
            "34/34 [==============================] - 0s 4ms/step - loss: 8479.5137 - mae: 8479.5137\n",
            "Epoch 59/100\n",
            "34/34 [==============================] - 0s 3ms/step - loss: 8637.9502 - mae: 8637.9502\n",
            "Epoch 60/100\n",
            "34/34 [==============================] - 0s 3ms/step - loss: 8580.3252 - mae: 8580.3252\n",
            "Epoch 61/100\n",
            "34/34 [==============================] - 0s 4ms/step - loss: 8567.6807 - mae: 8567.6807\n",
            "Epoch 62/100\n",
            "34/34 [==============================] - 0s 4ms/step - loss: 8490.1709 - mae: 8490.1709\n",
            "Epoch 63/100\n",
            "34/34 [==============================] - 0s 3ms/step - loss: 8482.6162 - mae: 8482.6162\n",
            "Epoch 64/100\n",
            "34/34 [==============================] - 0s 3ms/step - loss: 8597.8652 - mae: 8597.8652\n",
            "Epoch 65/100\n",
            "34/34 [==============================] - 0s 4ms/step - loss: 8552.1182 - mae: 8552.1182\n",
            "Epoch 66/100\n",
            "34/34 [==============================] - 0s 3ms/step - loss: 8466.7793 - mae: 8466.7793\n",
            "Epoch 67/100\n",
            "34/34 [==============================] - 0s 3ms/step - loss: 8445.9443 - mae: 8445.9443\n",
            "Epoch 68/100\n",
            "34/34 [==============================] - 0s 4ms/step - loss: 8527.3145 - mae: 8527.3145\n",
            "Epoch 69/100\n",
            "34/34 [==============================] - 0s 4ms/step - loss: 8484.1914 - mae: 8484.1914\n",
            "Epoch 70/100\n",
            "34/34 [==============================] - 0s 4ms/step - loss: 8479.1465 - mae: 8479.1465\n",
            "Epoch 71/100\n",
            "34/34 [==============================] - 0s 4ms/step - loss: 8522.5410 - mae: 8522.5410\n",
            "Epoch 72/100\n",
            "34/34 [==============================] - 0s 3ms/step - loss: 8524.7158 - mae: 8524.7158\n",
            "Epoch 73/100\n",
            "34/34 [==============================] - 0s 3ms/step - loss: 8468.5859 - mae: 8468.5859\n",
            "Epoch 74/100\n",
            "34/34 [==============================] - 0s 3ms/step - loss: 8436.4238 - mae: 8436.4238\n",
            "Epoch 75/100\n",
            "34/34 [==============================] - 0s 3ms/step - loss: 8508.8477 - mae: 8508.8477\n",
            "Epoch 76/100\n",
            "34/34 [==============================] - 0s 3ms/step - loss: 8421.6230 - mae: 8421.6230\n",
            "Epoch 77/100\n",
            "34/34 [==============================] - 0s 4ms/step - loss: 8505.8496 - mae: 8505.8496\n",
            "Epoch 78/100\n",
            "34/34 [==============================] - 0s 4ms/step - loss: 8534.1318 - mae: 8534.1318\n",
            "Epoch 79/100\n",
            "34/34 [==============================] - 0s 3ms/step - loss: 8587.9424 - mae: 8587.9424\n",
            "Epoch 80/100\n",
            "34/34 [==============================] - 0s 4ms/step - loss: 8462.0049 - mae: 8462.0049\n",
            "Epoch 81/100\n",
            "34/34 [==============================] - 0s 3ms/step - loss: 8536.7061 - mae: 8536.7061\n",
            "Epoch 82/100\n",
            "34/34 [==============================] - 0s 3ms/step - loss: 8512.1279 - mae: 8512.1279\n",
            "Epoch 83/100\n",
            "34/34 [==============================] - 0s 3ms/step - loss: 8655.3984 - mae: 8655.3984\n",
            "Epoch 84/100\n",
            "34/34 [==============================] - 0s 3ms/step - loss: 8557.2998 - mae: 8557.2998\n",
            "Epoch 85/100\n",
            "34/34 [==============================] - 0s 4ms/step - loss: 8601.2461 - mae: 8601.2461\n",
            "Epoch 86/100\n",
            "34/34 [==============================] - 0s 4ms/step - loss: 8567.2842 - mae: 8567.2842\n",
            "Epoch 87/100\n",
            "34/34 [==============================] - 0s 3ms/step - loss: 8568.4912 - mae: 8568.4912\n",
            "Epoch 88/100\n",
            "34/34 [==============================] - 0s 3ms/step - loss: 8531.6768 - mae: 8531.6768\n",
            "Epoch 89/100\n",
            "34/34 [==============================] - 0s 3ms/step - loss: 8598.9834 - mae: 8598.9834\n",
            "Epoch 90/100\n",
            "34/34 [==============================] - 0s 3ms/step - loss: 8471.3418 - mae: 8471.3418\n",
            "Epoch 91/100\n",
            "34/34 [==============================] - 0s 4ms/step - loss: 8563.0186 - mae: 8563.0186\n",
            "Epoch 92/100\n",
            "34/34 [==============================] - 0s 3ms/step - loss: 8503.8271 - mae: 8503.8271\n",
            "Epoch 93/100\n",
            "34/34 [==============================] - 0s 3ms/step - loss: 8518.4336 - mae: 8518.4336\n",
            "Epoch 94/100\n",
            "34/34 [==============================] - 0s 4ms/step - loss: 8500.2412 - mae: 8500.2412\n",
            "Epoch 95/100\n",
            "34/34 [==============================] - 0s 4ms/step - loss: 8505.0938 - mae: 8505.0938\n",
            "Epoch 96/100\n",
            "34/34 [==============================] - 0s 5ms/step - loss: 8525.6387 - mae: 8525.6387\n",
            "Epoch 97/100\n",
            "34/34 [==============================] - 0s 5ms/step - loss: 8550.7197 - mae: 8550.7197\n",
            "Epoch 98/100\n",
            "34/34 [==============================] - 0s 5ms/step - loss: 8503.0664 - mae: 8503.0664\n",
            "Epoch 99/100\n",
            "34/34 [==============================] - 0s 5ms/step - loss: 8527.6191 - mae: 8527.6191\n",
            "Epoch 100/100\n",
            "34/34 [==============================] - 0s 6ms/step - loss: 8466.1846 - mae: 8466.1846\n"
          ]
        },
        {
          "output_type": "execute_result",
          "data": {
            "text/plain": [
              "<keras.src.callbacks.History at 0x7cd72dc6b4c0>"
            ]
          },
          "metadata": {},
          "execution_count": 60
        }
      ]
    },
    {
      "cell_type": "code",
      "source": [
        "# Check the results of the insurance model on the test data\n",
        "insurance_model.evaluate(X_test, y_test)"
      ],
      "metadata": {
        "colab": {
          "base_uri": "https://localhost:8080/"
        },
        "id": "HoHG_xBVWCRF",
        "outputId": "277531fa-d534-4c72-a8a3-6547be6f3f3e"
      },
      "execution_count": 61,
      "outputs": [
        {
          "output_type": "stream",
          "name": "stdout",
          "text": [
            "9/9 [==============================] - 0s 4ms/step - loss: 8680.0547 - mae: 8680.0547\n"
          ]
        },
        {
          "output_type": "execute_result",
          "data": {
            "text/plain": [
              "[8680.0546875, 8680.0546875]"
            ]
          },
          "metadata": {},
          "execution_count": 61
        }
      ]
    },
    {
      "cell_type": "code",
      "source": [
        "np.median(y_train), np.mean(y_train) # It's performing really bad considering the median and mean"
      ],
      "metadata": {
        "colab": {
          "base_uri": "https://localhost:8080/"
        },
        "id": "fks7nyavZcyC",
        "outputId": "2c9c6e71-0f73-4ec8-fcd2-d39894b9cc71"
      },
      "execution_count": 62,
      "outputs": [
        {
          "output_type": "execute_result",
          "data": {
            "text/plain": [
              "(9575.442, 13346.09)"
            ]
          },
          "metadata": {},
          "execution_count": 62
        }
      ]
    },
    {
      "cell_type": "code",
      "source": [
        "X_train.shape"
      ],
      "metadata": {
        "colab": {
          "base_uri": "https://localhost:8080/"
        },
        "id": "MKOOVXVRbKIH",
        "outputId": "5bf5c56c-bd1e-4211-e887-af3809405a36"
      },
      "execution_count": 63,
      "outputs": [
        {
          "output_type": "execute_result",
          "data": {
            "text/plain": [
              "(1070, 11)"
            ]
          },
          "metadata": {},
          "execution_count": 63
        }
      ]
    },
    {
      "cell_type": "code",
      "source": [
        "# Build a neural network (sort of like model_2 above)\n",
        "tf.random.set_seed(42)\n",
        "\n",
        "insurance_model = tf.keras.Sequential([\n",
        "    tf.keras.layers.Dense(100, activation='relu'),\n",
        "    tf.keras.layers.Dense(100, activation='relu'),\n",
        "    tf.keras.layers.Dense(100, activation='relu'),\n",
        "    tf.keras.layers.Dense(1)\n",
        "])\n",
        "\n",
        "insurance_model.compile(loss=tf.keras.losses.mae,\n",
        "                        optimizer=tf.keras.optimizers.Adam(learning_rate=0.01),\n",
        "                        metrics=['mae'])\n",
        "\n",
        "history = insurance_model.fit(X_train, y_train, epochs=50)"
      ],
      "metadata": {
        "colab": {
          "base_uri": "https://localhost:8080/"
        },
        "id": "eHCXA4N4Z1-l",
        "outputId": "9a352067-a62c-46f8-fb0b-da0f60e3715a"
      },
      "execution_count": 76,
      "outputs": [
        {
          "output_type": "stream",
          "name": "stdout",
          "text": [
            "Epoch 1/50\n",
            "34/34 [==============================] - 3s 6ms/step - loss: 9938.1748 - mae: 9938.1748\n",
            "Epoch 2/50\n",
            "34/34 [==============================] - 0s 6ms/step - loss: 7270.9868 - mae: 7270.9868\n",
            "Epoch 3/50\n",
            "34/34 [==============================] - 0s 7ms/step - loss: 6744.4351 - mae: 6744.4351\n",
            "Epoch 4/50\n",
            "34/34 [==============================] - 0s 6ms/step - loss: 6399.8950 - mae: 6399.8950\n",
            "Epoch 5/50\n",
            "34/34 [==============================] - 0s 6ms/step - loss: 6016.0742 - mae: 6016.0742\n",
            "Epoch 6/50\n",
            "34/34 [==============================] - 0s 7ms/step - loss: 5319.0391 - mae: 5319.0391\n",
            "Epoch 7/50\n",
            "34/34 [==============================] - 0s 6ms/step - loss: 4179.0767 - mae: 4179.0767\n",
            "Epoch 8/50\n",
            "34/34 [==============================] - 0s 7ms/step - loss: 3794.3293 - mae: 3794.3293\n",
            "Epoch 9/50\n",
            "34/34 [==============================] - 0s 7ms/step - loss: 3449.7913 - mae: 3449.7913\n",
            "Epoch 10/50\n",
            "34/34 [==============================] - 0s 6ms/step - loss: 3295.9866 - mae: 3295.9866\n",
            "Epoch 11/50\n",
            "34/34 [==============================] - 0s 7ms/step - loss: 3179.0554 - mae: 3179.0554\n",
            "Epoch 12/50\n",
            "34/34 [==============================] - 0s 7ms/step - loss: 3042.6975 - mae: 3042.6975\n",
            "Epoch 13/50\n",
            "34/34 [==============================] - 0s 7ms/step - loss: 3066.3838 - mae: 3066.3838\n",
            "Epoch 14/50\n",
            "34/34 [==============================] - 0s 6ms/step - loss: 3016.4951 - mae: 3016.4951\n",
            "Epoch 15/50\n",
            "34/34 [==============================] - 0s 5ms/step - loss: 3230.8855 - mae: 3230.8855\n",
            "Epoch 16/50\n",
            "34/34 [==============================] - 0s 5ms/step - loss: 3017.8413 - mae: 3017.8413\n",
            "Epoch 17/50\n",
            "34/34 [==============================] - 0s 5ms/step - loss: 2888.9646 - mae: 2888.9646\n",
            "Epoch 18/50\n",
            "34/34 [==============================] - 0s 5ms/step - loss: 2804.1433 - mae: 2804.1433\n",
            "Epoch 19/50\n",
            "34/34 [==============================] - 0s 5ms/step - loss: 2904.6660 - mae: 2904.6660\n",
            "Epoch 20/50\n",
            "34/34 [==============================] - 0s 5ms/step - loss: 2688.9905 - mae: 2688.9905\n",
            "Epoch 21/50\n",
            "34/34 [==============================] - 0s 5ms/step - loss: 2807.0576 - mae: 2807.0576\n",
            "Epoch 22/50\n",
            "34/34 [==============================] - 0s 6ms/step - loss: 2602.8381 - mae: 2602.8381\n",
            "Epoch 23/50\n",
            "34/34 [==============================] - 0s 5ms/step - loss: 2535.3406 - mae: 2535.3406\n",
            "Epoch 24/50\n",
            "34/34 [==============================] - 0s 6ms/step - loss: 2497.6824 - mae: 2497.6824\n",
            "Epoch 25/50\n",
            "34/34 [==============================] - 0s 6ms/step - loss: 2607.8496 - mae: 2607.8496\n",
            "Epoch 26/50\n",
            "34/34 [==============================] - 0s 4ms/step - loss: 2695.1101 - mae: 2695.1101\n",
            "Epoch 27/50\n",
            "34/34 [==============================] - 0s 4ms/step - loss: 2580.4189 - mae: 2580.4189\n",
            "Epoch 28/50\n",
            "34/34 [==============================] - 0s 4ms/step - loss: 2637.9026 - mae: 2637.9026\n",
            "Epoch 29/50\n",
            "34/34 [==============================] - 0s 4ms/step - loss: 2651.8848 - mae: 2651.8848\n",
            "Epoch 30/50\n",
            "34/34 [==============================] - 0s 4ms/step - loss: 2487.0781 - mae: 2487.0781\n",
            "Epoch 31/50\n",
            "34/34 [==============================] - 0s 3ms/step - loss: 2292.4597 - mae: 2292.4597\n",
            "Epoch 32/50\n",
            "34/34 [==============================] - 0s 4ms/step - loss: 2350.8499 - mae: 2350.8499\n",
            "Epoch 33/50\n",
            "34/34 [==============================] - 0s 4ms/step - loss: 2364.6060 - mae: 2364.6060\n",
            "Epoch 34/50\n",
            "34/34 [==============================] - 0s 4ms/step - loss: 2341.8472 - mae: 2341.8472\n",
            "Epoch 35/50\n",
            "34/34 [==============================] - 0s 4ms/step - loss: 2272.7065 - mae: 2272.7065\n",
            "Epoch 36/50\n",
            "34/34 [==============================] - 0s 4ms/step - loss: 2313.2295 - mae: 2313.2295\n",
            "Epoch 37/50\n",
            "34/34 [==============================] - 0s 4ms/step - loss: 2426.2874 - mae: 2426.2874\n",
            "Epoch 38/50\n",
            "34/34 [==============================] - 0s 4ms/step - loss: 2447.7634 - mae: 2447.7634\n",
            "Epoch 39/50\n",
            "34/34 [==============================] - 0s 4ms/step - loss: 2289.9758 - mae: 2289.9758\n",
            "Epoch 40/50\n",
            "34/34 [==============================] - 0s 4ms/step - loss: 2280.2297 - mae: 2280.2297\n",
            "Epoch 41/50\n",
            "34/34 [==============================] - 0s 4ms/step - loss: 2673.8115 - mae: 2673.8115\n",
            "Epoch 42/50\n",
            "34/34 [==============================] - 0s 4ms/step - loss: 2239.4578 - mae: 2239.4578\n",
            "Epoch 43/50\n",
            "34/34 [==============================] - 0s 4ms/step - loss: 2316.4736 - mae: 2316.4736\n",
            "Epoch 44/50\n",
            "34/34 [==============================] - 0s 4ms/step - loss: 2361.6414 - mae: 2361.6414\n",
            "Epoch 45/50\n",
            "34/34 [==============================] - 0s 4ms/step - loss: 2513.6660 - mae: 2513.6660\n",
            "Epoch 46/50\n",
            "34/34 [==============================] - 0s 4ms/step - loss: 2195.1780 - mae: 2195.1780\n",
            "Epoch 47/50\n",
            "34/34 [==============================] - 0s 4ms/step - loss: 2245.6687 - mae: 2245.6687\n",
            "Epoch 48/50\n",
            "34/34 [==============================] - 0s 4ms/step - loss: 2188.8215 - mae: 2188.8215\n",
            "Epoch 49/50\n",
            "34/34 [==============================] - 0s 4ms/step - loss: 2142.0098 - mae: 2142.0098\n",
            "Epoch 50/50\n",
            "34/34 [==============================] - 0s 4ms/step - loss: 2246.5632 - mae: 2246.5632\n"
          ]
        }
      ]
    },
    {
      "cell_type": "code",
      "source": [
        "# Plot history (also knows as a loss curve or a training curve)\n",
        "pd.DataFrame(history.history).plot()\n",
        "plt.ylabel('loss')\n",
        "plt.xlabel('epochs')\n"
      ],
      "metadata": {
        "colab": {
          "base_uri": "https://localhost:8080/",
          "height": 467
        },
        "id": "9q250r3caOfg",
        "outputId": "f839498e-0aaa-4062-aa3a-644d4e0f5fbd"
      },
      "execution_count": 77,
      "outputs": [
        {
          "output_type": "execute_result",
          "data": {
            "text/plain": [
              "Text(0.5, 0, 'epochs')"
            ]
          },
          "metadata": {},
          "execution_count": 77
        },
        {
          "output_type": "display_data",
          "data": {
            "text/plain": [
              "<Figure size 640x480 with 1 Axes>"
            ],
            "image/png": "[encoded data removed]"
          },
          "metadata": {}
        }
      ]
    },
    {
      "cell_type": "code",
      "source": [
        "insurance_model.evaluate(X_test, y_test)"
      ],
      "metadata": {
        "colab": {
          "base_uri": "https://localhost:8080/"
        },
        "id": "mWE8iRcZeLpR",
        "outputId": "3a26d9a7-e99c-4893-a1a0-d1f5dbd2197a"
      },
      "execution_count": 78,
      "outputs": [
        {
          "output_type": "stream",
          "name": "stdout",
          "text": [
            "9/9 [==============================] - 1s 7ms/step - loss: 1922.5156 - mae: 1922.5156\n"
          ]
        },
        {
          "output_type": "execute_result",
          "data": {
            "text/plain": [
              "[1922.515625, 1922.515625]"
            ]
          },
          "metadata": {},
          "execution_count": 78
        }
      ]
    },
    {
      "cell_type": "markdown",
      "source": [
        "**Question:** How long should you train for?\n",
        "\n",
        "Tensorflow has the solution which is called EarlyStopping callback! It basically stops training once the loss has stopped improving"
      ],
      "metadata": {
        "id": "70EX0PopcsoW"
      }
    },
    {
      "cell_type": "markdown",
      "source": [
        "## Preprocessing data (normalization and standardization)\n",
        "\n",
        "In terms of scaling values, neural networks tend to prefer normalization. If you're not sure on which to use, you could try both and see which performs better."
      ],
      "metadata": {
        "id": "7wx7LTotdg4s"
      }
    },
    {
      "cell_type": "code",
      "source": [
        "X_train, y_train"
      ],
      "metadata": {
        "colab": {
          "base_uri": "https://localhost:8080/"
        },
        "id": "nm840KsfdkWn",
        "outputId": "01b17653-5bcc-41ec-9091-0ce6cd5388ee"
      },
      "execution_count": 73,
      "outputs": [
        {
          "output_type": "execute_result",
          "data": {
            "text/plain": [
              "(array([[46.   , 19.95 ,  2.   , ...,  1.   ,  0.   ,  0.   ],\n",
              "        [47.   , 24.32 ,  0.   , ...,  0.   ,  0.   ,  0.   ],\n",
              "        [52.   , 24.86 ,  0.   , ...,  0.   ,  1.   ,  0.   ],\n",
              "        ...,\n",
              "        [58.   , 25.175,  0.   , ...,  0.   ,  0.   ,  0.   ],\n",
              "        [37.   , 47.6  ,  2.   , ...,  0.   ,  0.   ,  1.   ],\n",
              "        [55.   , 29.9  ,  0.   , ...,  0.   ,  0.   ,  1.   ]],\n",
              "       dtype=float32),\n",
              " array([ 9193.839,  8534.672, 27117.994, ..., 11931.125, 46113.51 ,\n",
              "        10214.636], dtype=float32))"
            ]
          },
          "metadata": {},
          "execution_count": 73
        }
      ]
    },
    {
      "cell_type": "code",
      "source": [
        "X = df.drop('charges', axis=1).astype(np.float32)\n",
        "y = df['charges'].astype(np.float32)\n",
        "\n",
        "X.head()"
      ],
      "metadata": {
        "colab": {
          "base_uri": "https://localhost:8080/",
          "height": 226
        },
        "id": "8x_Rj5hrdmXw",
        "outputId": "4c433b52-8ac7-4220-814d-d9e9ac2ef13a"
      },
      "execution_count": 81,
      "outputs": [
        {
          "output_type": "execute_result",
          "data": {
            "text/plain": [
              "    age        bmi  children  sex_female  sex_male  smoker_no  smoker_yes  \\\n",
              "0  19.0  27.900000       0.0         1.0       0.0        0.0         1.0   \n",
              "1  18.0  33.770000       1.0         0.0       1.0        1.0         0.0   \n",
              "2  28.0  33.000000       3.0         0.0       1.0        1.0         0.0   \n",
              "3  33.0  22.705000       0.0         0.0       1.0        1.0         0.0   \n",
              "4  32.0  28.879999       0.0         0.0       1.0        1.0         0.0   \n",
              "\n",
              "   region_northeast  region_northwest  region_southeast  region_southwest  \n",
              "0               0.0               0.0               0.0               1.0  \n",
              "1               0.0               0.0               1.0               0.0  \n",
              "2               0.0               0.0               1.0               0.0  \n",
              "3               0.0               1.0               0.0               0.0  \n",
              "4               0.0               1.0               0.0               0.0  "
            ],
            "text/html": [
              "\n",
              "  <div id=\"df-c0f88e15-bd17-479e-b40d-3b9513b2e65a\" class=\"colab-df-container\">\n",
              "    <div>\n",
              "<style scoped>\n",
              "    .dataframe tbody tr th:only-of-type {\n",
              "        vertical-align: middle;\n",
              "    }\n",
              "\n",
              "    .dataframe tbody tr th {\n",
              "        vertical-align: top;\n",
              "    }\n",
              "\n",
              "    .dataframe thead th {\n",
              "        text-align: right;\n",
              "    }\n",
              "</style>\n",
              "<table border=\"1\" class=\"dataframe\">\n",
              "  <thead>\n",
              "    <tr style=\"text-align: right;\">\n",
              "      <th></th>\n",
              "      <th>age</th>\n",
              "      <th>bmi</th>\n",
              "      <th>children</th>\n",
              "      <th>sex_female</th>\n",
              "      <th>sex_male</th>\n",
              "      <th>smoker_no</th>\n",
              "      <th>smoker_yes</th>\n",
              "      <th>region_northeast</th>\n",
              "      <th>region_northwest</th>\n",
              "      <th>region_southeast</th>\n",
              "      <th>region_southwest</th>\n",
              "    </tr>\n",
              "  </thead>\n",
              "  <tbody>\n",
              "    <tr>\n",
              "      <th>0</th>\n",
              "      <td>19.0</td>\n",
              "      <td>27.900000</td>\n",
              "      <td>0.0</td>\n",
              "      <td>1.0</td>\n",
              "      <td>0.0</td>\n",
              "      <td>0.0</td>\n",
              "      <td>1.0</td>\n",
              "      <td>0.0</td>\n",
              "      <td>0.0</td>\n",
              "      <td>0.0</td>\n",
              "      <td>1.0</td>\n",
              "    </tr>\n",
              "    <tr>\n",
              "      <th>1</th>\n",
              "      <td>18.0</td>\n",
              "      <td>33.770000</td>\n",
              "      <td>1.0</td>\n",
              "      <td>0.0</td>\n",
              "      <td>1.0</td>\n",
              "      <td>1.0</td>\n",
              "      <td>0.0</td>\n",
              "      <td>0.0</td>\n",
              "      <td>0.0</td>\n",
              "      <td>1.0</td>\n",
              "      <td>0.0</td>\n",
              "    </tr>\n",
              "    <tr>\n",
              "      <th>2</th>\n",
              "      <td>28.0</td>\n",
              "      <td>33.000000</td>\n",
              "      <td>3.0</td>\n",
              "      <td>0.0</td>\n",
              "      <td>1.0</td>\n",
              "      <td>1.0</td>\n",
              "      <td>0.0</td>\n",
              "      <td>0.0</td>\n",
              "      <td>0.0</td>\n",
              "      <td>1.0</td>\n",
              "      <td>0.0</td>\n",
              "    </tr>\n",
              "    <tr>\n",
              "      <th>3</th>\n",
              "      <td>33.0</td>\n",
              "      <td>22.705000</td>\n",
              "      <td>0.0</td>\n",
              "      <td>0.0</td>\n",
              "      <td>1.0</td>\n",
              "      <td>1.0</td>\n",
              "      <td>0.0</td>\n",
              "      <td>0.0</td>\n",
              "      <td>1.0</td>\n",
              "      <td>0.0</td>\n",
              "      <td>0.0</td>\n",
              "    </tr>\n",
              "    <tr>\n",
              "      <th>4</th>\n",
              "      <td>32.0</td>\n",
              "      <td>28.879999</td>\n",
              "      <td>0.0</td>\n",
              "      <td>0.0</td>\n",
              "      <td>1.0</td>\n",
              "      <td>1.0</td>\n",
              "      <td>0.0</td>\n",
              "      <td>0.0</td>\n",
              "      <td>1.0</td>\n",
              "      <td>0.0</td>\n",
              "      <td>0.0</td>\n",
              "    </tr>\n",
              "  </tbody>\n",
              "</table>\n",
              "</div>\n",
              "    <div class=\"colab-df-buttons\">\n",
              "\n",
              "  <div class=\"colab-df-container\">\n",
              "    <button class=\"colab-df-convert\" onclick=\"convertToInteractive('df-c0f88e15-bd17-479e-b40d-3b9513b2e65a')\"\n",
              "            title=\"Convert this dataframe to an interactive table.\"\n",
              "            style=\"display:none;\">\n",
              "\n",
              "  <svg xmlns=\"http://www.w3.org/2000/svg\" height=\"24px\" viewBox=\"0 -960 960 960\">\n",
              "    <path d=\"M120-120v-720h720v720H120Zm60-500h600v-160H180v160Zm220 220h160v-160H400v160Zm0 220h160v-160H400v160ZM180-400h160v-160H180v160Zm440 0h160v-160H620v160ZM180-180h160v-160H180v160Zm440 0h160v-160H620v160Z\"/>\n",
              "  </svg>\n",
              "    </button>\n",
              "\n",
              "  <style>\n",
              "    .colab-df-container {\n",
              "      display:flex;\n",
              "      gap: 12px;\n",
              "    }\n",
              "\n",
              "    .colab-df-convert {\n",
              "      background-color: #E8F0FE;\n",
              "      border: none;\n",
              "      border-radius: 50%;\n",
              "      cursor: pointer;\n",
              "      display: none;\n",
              "      fill: #1967D2;\n",
              "      height: 32px;\n",
              "      padding: 0 0 0 0;\n",
              "      width: 32px;\n",
              "    }\n",
              "\n",
              "    .colab-df-convert:hover {\n",
              "      background-color: #E2EBFA;\n",
              "      box-shadow: 0px 1px 2px rgba(60, 64, 67, 0.3), 0px 1px 3px 1px rgba(60, 64, 67, 0.15);\n",
              "      fill: #174EA6;\n",
              "    }\n",
              "\n",
              "    .colab-df-buttons div {\n",
              "      margin-bottom: 4px;\n",
              "    }\n",
              "\n",
              "    [theme=dark] .colab-df-convert {\n",
              "      background-color: #3B4455;\n",
              "      fill: #D2E3FC;\n",
              "    }\n",
              "\n",
              "    [theme=dark] .colab-df-convert:hover {\n",
              "      background-color: #434B5C;\n",
              "      box-shadow: 0px 1px 3px 1px rgba(0, 0, 0, 0.15);\n",
              "      filter: drop-shadow(0px 1px 2px rgba(0, 0, 0, 0.3));\n",
              "      fill: #FFFFFF;\n",
              "    }\n",
              "  </style>\n",
              "\n",
              "    <script>\n",
              "      const buttonEl =\n",
              "        document.querySelector('#df-c0f88e15-bd17-479e-b40d-3b9513b2e65a button.colab-df-convert');\n",
              "      buttonEl.style.display =\n",
              "        google.colab.kernel.accessAllowed ? 'block' : 'none';\n",
              "\n",
              "      async function convertToInteractive(key) {\n",
              "        const element = document.querySelector('#df-c0f88e15-bd17-479e-b40d-3b9513b2e65a');\n",
              "        const dataTable =\n",
              "          await google.colab.kernel.invokeFunction('convertToInteractive',\n",
              "                                                    [key], {});\n",
              "        if (!dataTable) return;\n",
              "\n",
              "        const docLinkHtml = 'Like what you see? Visit the ' +\n",
              "          '<a target=\"_blank\" href=https://colab.research.google.com/notebooks/data_table.ipynb>data table notebook</a>'\n",
              "          + ' to learn more about interactive tables.';\n",
              "        element.innerHTML = '';\n",
              "        dataTable['output_type'] = 'display_data';\n",
              "        await google.colab.output.renderOutput(dataTable, element);\n",
              "        const docLink = document.createElement('div');\n",
              "        docLink.innerHTML = docLinkHtml;\n",
              "        element.appendChild(docLink);\n",
              "      }\n",
              "    </script>\n",
              "  </div>\n",
              "\n",
              "\n",
              "<div id=\"df-da83a549-8b0d-4ca9-9fee-1744c3a70e9a\">\n",
              "  <button class=\"colab-df-quickchart\" onclick=\"quickchart('df-da83a549-8b0d-4ca9-9fee-1744c3a70e9a')\"\n",
              "            title=\"Suggest charts\"\n",
              "            style=\"display:none;\">\n",
              "\n",
              "<svg xmlns=\"http://www.w3.org/2000/svg\" height=\"24px\"viewBox=\"0 0 24 24\"\n",
              "     width=\"24px\">\n",
              "    <g>\n",
              "        <path d=\"M19 3H5c-1.1 0-2 .9-2 2v14c0 1.1.9 2 2 2h14c1.1 0 2-.9 2-2V5c0-1.1-.9-2-2-2zM9 17H7v-7h2v7zm4 0h-2V7h2v10zm4 0h-2v-4h2v4z\"/>\n",
              "    </g>\n",
              "</svg>\n",
              "  </button>\n",
              "\n",
              "<style>\n",
              "  .colab-df-quickchart {\n",
              "      --bg-color: #E8F0FE;\n",
              "      --fill-color: #1967D2;\n",
              "      --hover-bg-color: #E2EBFA;\n",
              "      --hover-fill-color: #174EA6;\n",
              "      --disabled-fill-color: #AAA;\n",
              "      --disabled-bg-color: #DDD;\n",
              "  }\n",
              "\n",
              "  [theme=dark] .colab-df-quickchart {\n",
              "      --bg-color: #3B4455;\n",
              "      --fill-color: #D2E3FC;\n",
              "      --hover-bg-color: #434B5C;\n",
              "      --hover-fill-color: #FFFFFF;\n",
              "      --disabled-bg-color: #3B4455;\n",
              "      --disabled-fill-color: #666;\n",
              "  }\n",
              "\n",
              "  .colab-df-quickchart {\n",
              "    background-color: var(--bg-color);\n",
              "    border: none;\n",
              "    border-radius: 50%;\n",
              "    cursor: pointer;\n",
              "    display: none;\n",
              "    fill: var(--fill-color);\n",
              "    height: 32px;\n",
              "    padding: 0;\n",
              "    width: 32px;\n",
              "  }\n",
              "\n",
              "  .colab-df-quickchart:hover {\n",
              "    background-color: var(--hover-bg-color);\n",
              "    box-shadow: 0 1px 2px rgba(60, 64, 67, 0.3), 0 1px 3px 1px rgba(60, 64, 67, 0.15);\n",
              "    fill: var(--button-hover-fill-color);\n",
              "  }\n",
              "\n",
              "  .colab-df-quickchart-complete:disabled,\n",
              "  .colab-df-quickchart-complete:disabled:hover {\n",
              "    background-color: var(--disabled-bg-color);\n",
              "    fill: var(--disabled-fill-color);\n",
              "    box-shadow: none;\n",
              "  }\n",
              "\n",
              "  .colab-df-spinner {\n",
              "    border: 2px solid var(--fill-color);\n",
              "    border-color: transparent;\n",
              "    border-bottom-color: var(--fill-color);\n",
              "    animation:\n",
              "      spin 1s steps(1) infinite;\n",
              "  }\n",
              "\n",
              "  @keyframes spin {\n",
              "    0% {\n",
              "      border-color: transparent;\n",
              "      border-bottom-color: var(--fill-color);\n",
              "      border-left-color: var(--fill-color);\n",
              "    }\n",
              "    20% {\n",
              "      border-color: transparent;\n",
              "      border-left-color: var(--fill-color);\n",
              "      border-top-color: var(--fill-color);\n",
              "    }\n",
              "    30% {\n",
              "      border-color: transparent;\n",
              "      border-left-color: var(--fill-color);\n",
              "      border-top-color: var(--fill-color);\n",
              "      border-right-color: var(--fill-color);\n",
              "    }\n",
              "    40% {\n",
              "      border-color: transparent;\n",
              "      border-right-color: var(--fill-color);\n",
              "      border-top-color: var(--fill-color);\n",
              "    }\n",
              "    60% {\n",
              "      border-color: transparent;\n",
              "      border-right-color: var(--fill-color);\n",
              "    }\n",
              "    80% {\n",
              "      border-color: transparent;\n",
              "      border-right-color: var(--fill-color);\n",
              "      border-bottom-color: var(--fill-color);\n",
              "    }\n",
              "    90% {\n",
              "      border-color: transparent;\n",
              "      border-bottom-color: var(--fill-color);\n",
              "    }\n",
              "  }\n",
              "</style>\n",
              "\n",
              "  <script>\n",
              "    async function quickchart(key) {\n",
              "      const quickchartButtonEl =\n",
              "        document.querySelector('#' + key + ' button');\n",
              "      quickchartButtonEl.disabled = true;  // To prevent multiple clicks.\n",
              "      quickchartButtonEl.classList.add('colab-df-spinner');\n",
              "      try {\n",
              "        const charts = await google.colab.kernel.invokeFunction(\n",
              "            'suggestCharts', [key], {});\n",
              "      } catch (error) {\n",
              "        console.error('Error during call to suggestCharts:', error);\n",
              "      }\n",
              "      quickchartButtonEl.classList.remove('colab-df-spinner');\n",
              "      quickchartButtonEl.classList.add('colab-df-quickchart-complete');\n",
              "    }\n",
              "    (() => {\n",
              "      let quickchartButtonEl =\n",
              "        document.querySelector('#df-da83a549-8b0d-4ca9-9fee-1744c3a70e9a button');\n",
              "      quickchartButtonEl.style.display =\n",
              "        google.colab.kernel.accessAllowed ? 'block' : 'none';\n",
              "    })();\n",
              "  </script>\n",
              "</div>\n",
              "    </div>\n",
              "  </div>\n"
            ],
            "application/vnd.google.colaboratory.intrinsic+json": {
              "type": "dataframe",
              "variable_name": "X",
              "summary": "{\n  \"name\": \"X\",\n  \"rows\": 1338,\n  \"fields\": [\n    {\n      \"column\": \"age\",\n      \"properties\": {\n        \"dtype\": \"float32\",\n        \"num_unique_values\": 47,\n        \"samples\": [\n          21.0,\n          45.0,\n          36.0\n        ],\n        \"semantic_type\": \"\",\n        \"description\": \"\"\n      }\n    },\n    {\n      \"column\": \"bmi\",\n      \"properties\": {\n        \"dtype\": \"float32\",\n        \"num_unique_values\": 548,\n        \"samples\": [\n          23.18000030517578,\n          26.885000228881836,\n          29.260000228881836\n        ],\n        \"semantic_type\": \"\",\n        \"description\": \"\"\n      }\n    },\n    {\n      \"column\": \"children\",\n      \"properties\": {\n        \"dtype\": \"float32\",\n        \"num_unique_values\": 6,\n        \"samples\": [\n          0.0,\n          1.0,\n          4.0\n        ],\n        \"semantic_type\": \"\",\n        \"description\": \"\"\n      }\n    },\n    {\n      \"column\": \"sex_female\",\n      \"properties\": {\n        \"dtype\": \"float32\",\n        \"num_unique_values\": 2,\n        \"samples\": [\n          0.0,\n          1.0\n        ],\n        \"semantic_type\": \"\",\n        \"description\": \"\"\n      }\n    },\n    {\n      \"column\": \"sex_male\",\n      \"properties\": {\n        \"dtype\": \"float32\",\n        \"num_unique_values\": 2,\n        \"samples\": [\n          1.0,\n          0.0\n        ],\n        \"semantic_type\": \"\",\n        \"description\": \"\"\n      }\n    },\n    {\n      \"column\": \"smoker_no\",\n      \"properties\": {\n        \"dtype\": \"float32\",\n        \"num_unique_values\": 2,\n        \"samples\": [\n          1.0,\n          0.0\n        ],\n        \"semantic_type\": \"\",\n        \"description\": \"\"\n      }\n    },\n    {\n      \"column\": \"smoker_yes\",\n      \"properties\": {\n        \"dtype\": \"float32\",\n        \"num_unique_values\": 2,\n        \"samples\": [\n          0.0,\n          1.0\n        ],\n        \"semantic_type\": \"\",\n        \"description\": \"\"\n      }\n    },\n    {\n      \"column\": \"region_northeast\",\n      \"properties\": {\n        \"dtype\": \"float32\",\n        \"num_unique_values\": 2,\n        \"samples\": [\n          1.0,\n          0.0\n        ],\n        \"semantic_type\": \"\",\n        \"description\": \"\"\n      }\n    },\n    {\n      \"column\": \"region_northwest\",\n      \"properties\": {\n        \"dtype\": \"float32\",\n        \"num_unique_values\": 2,\n        \"samples\": [\n          1.0,\n          0.0\n        ],\n        \"semantic_type\": \"\",\n        \"description\": \"\"\n      }\n    },\n    {\n      \"column\": \"region_southeast\",\n      \"properties\": {\n        \"dtype\": \"float32\",\n        \"num_unique_values\": 2,\n        \"samples\": [\n          1.0,\n          0.0\n        ],\n        \"semantic_type\": \"\",\n        \"description\": \"\"\n      }\n    },\n    {\n      \"column\": \"region_southwest\",\n      \"properties\": {\n        \"dtype\": \"float32\",\n        \"num_unique_values\": 2,\n        \"samples\": [\n          0.0,\n          1.0\n        ],\n        \"semantic_type\": \"\",\n        \"description\": \"\"\n      }\n    }\n  ]\n}"
            }
          },
          "metadata": {},
          "execution_count": 81
        }
      ]
    },
    {
      "cell_type": "code",
      "source": [
        "X['bmi'].plot(kind='hist')"
      ],
      "metadata": {
        "colab": {
          "base_uri": "https://localhost:8080/",
          "height": 448
        },
        "id": "7Y447ZEteTtZ",
        "outputId": "a366aee8-274e-4624-e925-ec01c0741f75"
      },
      "execution_count": 83,
      "outputs": [
        {
          "output_type": "execute_result",
          "data": {
            "text/plain": [
              "<Axes: ylabel='Frequency'>"
            ]
          },
          "metadata": {},
          "execution_count": 83
        },
        {
          "output_type": "display_data",
          "data": {
            "text/plain": [
              "<Figure size 640x480 with 1 Axes>"
            ],
            "image/png": "[encoded data removed]"
          },
          "metadata": {}
        }
      ]
    },
    {
      "cell_type": "code",
      "source": [
        "# Import required libraries\n",
        "import tensorflow as tf\n",
        "import pandas as pd\n",
        "import matplotlib.pyplot as plt\n",
        "\n",
        "# Read in the insurance dataset\n",
        "data_url = 'https://raw.githubusercontent.com/stedy/Machine-Learning-with-R-datasets/master/insurance.csv'\n",
        "insurance = pd.read_csv(data_url)\n",
        "\n",
        "insurance.head()"
      ],
      "metadata": {
        "colab": {
          "base_uri": "https://localhost:8080/",
          "height": 206
        },
        "id": "l6N3_mMYeiss",
        "outputId": "12811784-54d8-417f-d5ce-15540f27fdc0"
      },
      "execution_count": 84,
      "outputs": [
        {
          "output_type": "execute_result",
          "data": {
            "text/plain": [
              "   age     sex     bmi  children smoker     region      charges\n",
              "0   19  female  27.900         0    yes  southwest  16884.92400\n",
              "1   18    male  33.770         1     no  southeast   1725.55230\n",
              "2   28    male  33.000         3     no  southeast   4449.46200\n",
              "3   33    male  22.705         0     no  northwest  21984.47061\n",
              "4   32    male  28.880         0     no  northwest   3866.85520"
            ],
            "text/html": [
              "\n",
              "  <div id=\"df-a26fa0a0-6125-4a5a-8b39-4a3fee891356\" class=\"colab-df-container\">\n",
              "    <div>\n",
              "<style scoped>\n",
              "    .dataframe tbody tr th:only-of-type {\n",
              "        vertical-align: middle;\n",
              "    }\n",
              "\n",
              "    .dataframe tbody tr th {\n",
              "        vertical-align: top;\n",
              "    }\n",
              "\n",
              "    .dataframe thead th {\n",
              "        text-align: right;\n",
              "    }\n",
              "</style>\n",
              "<table border=\"1\" class=\"dataframe\">\n",
              "  <thead>\n",
              "    <tr style=\"text-align: right;\">\n",
              "      <th></th>\n",
              "      <th>age</th>\n",
              "      <th>sex</th>\n",
              "      <th>bmi</th>\n",
              "      <th>children</th>\n",
              "      <th>smoker</th>\n",
              "      <th>region</th>\n",
              "      <th>charges</th>\n",
              "    </tr>\n",
              "  </thead>\n",
              "  <tbody>\n",
              "    <tr>\n",
              "      <th>0</th>\n",
              "      <td>19</td>\n",
              "      <td>female</td>\n",
              "      <td>27.900</td>\n",
              "      <td>0</td>\n",
              "      <td>yes</td>\n",
              "      <td>southwest</td>\n",
              "      <td>16884.92400</td>\n",
              "    </tr>\n",
              "    <tr>\n",
              "      <th>1</th>\n",
              "      <td>18</td>\n",
              "      <td>male</td>\n",
              "      <td>33.770</td>\n",
              "      <td>1</td>\n",
              "      <td>no</td>\n",
              "      <td>southeast</td>\n",
              "      <td>1725.55230</td>\n",
              "    </tr>\n",
              "    <tr>\n",
              "      <th>2</th>\n",
              "      <td>28</td>\n",
              "      <td>male</td>\n",
              "      <td>33.000</td>\n",
              "      <td>3</td>\n",
              "      <td>no</td>\n",
              "      <td>southeast</td>\n",
              "      <td>4449.46200</td>\n",
              "    </tr>\n",
              "    <tr>\n",
              "      <th>3</th>\n",
              "      <td>33</td>\n",
              "      <td>male</td>\n",
              "      <td>22.705</td>\n",
              "      <td>0</td>\n",
              "      <td>no</td>\n",
              "      <td>northwest</td>\n",
              "      <td>21984.47061</td>\n",
              "    </tr>\n",
              "    <tr>\n",
              "      <th>4</th>\n",
              "      <td>32</td>\n",
              "      <td>male</td>\n",
              "      <td>28.880</td>\n",
              "      <td>0</td>\n",
              "      <td>no</td>\n",
              "      <td>northwest</td>\n",
              "      <td>3866.85520</td>\n",
              "    </tr>\n",
              "  </tbody>\n",
              "</table>\n",
              "</div>\n",
              "    <div class=\"colab-df-buttons\">\n",
              "\n",
              "  <div class=\"colab-df-container\">\n",
              "    <button class=\"colab-df-convert\" onclick=\"convertToInteractive('df-a26fa0a0-6125-4a5a-8b39-4a3fee891356')\"\n",
              "            title=\"Convert this dataframe to an interactive table.\"\n",
              "            style=\"display:none;\">\n",
              "\n",
              "  <svg xmlns=\"http://www.w3.org/2000/svg\" height=\"24px\" viewBox=\"0 -960 960 960\">\n",
              "    <path d=\"M120-120v-720h720v720H120Zm60-500h600v-160H180v160Zm220 220h160v-160H400v160Zm0 220h160v-160H400v160ZM180-400h160v-160H180v160Zm440 0h160v-160H620v160ZM180-180h160v-160H180v160Zm440 0h160v-160H620v160Z\"/>\n",
              "  </svg>\n",
              "    </button>\n",
              "\n",
              "  <style>\n",
              "    .colab-df-container {\n",
              "      display:flex;\n",
              "      gap: 12px;\n",
              "    }\n",
              "\n",
              "    .colab-df-convert {\n",
              "      background-color: #E8F0FE;\n",
              "      border: none;\n",
              "      border-radius: 50%;\n",
              "      cursor: pointer;\n",
              "      display: none;\n",
              "      fill: #1967D2;\n",
              "      height: 32px;\n",
              "      padding: 0 0 0 0;\n",
              "      width: 32px;\n",
              "    }\n",
              "\n",
              "    .colab-df-convert:hover {\n",
              "      background-color: #E2EBFA;\n",
              "      box-shadow: 0px 1px 2px rgba(60, 64, 67, 0.3), 0px 1px 3px 1px rgba(60, 64, 67, 0.15);\n",
              "      fill: #174EA6;\n",
              "    }\n",
              "\n",
              "    .colab-df-buttons div {\n",
              "      margin-bottom: 4px;\n",
              "    }\n",
              "\n",
              "    [theme=dark] .colab-df-convert {\n",
              "      background-color: #3B4455;\n",
              "      fill: #D2E3FC;\n",
              "    }\n",
              "\n",
              "    [theme=dark] .colab-df-convert:hover {\n",
              "      background-color: #434B5C;\n",
              "      box-shadow: 0px 1px 3px 1px rgba(0, 0, 0, 0.15);\n",
              "      filter: drop-shadow(0px 1px 2px rgba(0, 0, 0, 0.3));\n",
              "      fill: #FFFFFF;\n",
              "    }\n",
              "  </style>\n",
              "\n",
              "    <script>\n",
              "      const buttonEl =\n",
              "        document.querySelector('#df-a26fa0a0-6125-4a5a-8b39-4a3fee891356 button.colab-df-convert');\n",
              "      buttonEl.style.display =\n",
              "        google.colab.kernel.accessAllowed ? 'block' : 'none';\n",
              "\n",
              "      async function convertToInteractive(key) {\n",
              "        const element = document.querySelector('#df-a26fa0a0-6125-4a5a-8b39-4a3fee891356');\n",
              "        const dataTable =\n",
              "          await google.colab.kernel.invokeFunction('convertToInteractive',\n",
              "                                                    [key], {});\n",
              "        if (!dataTable) return;\n",
              "\n",
              "        const docLinkHtml = 'Like what you see? Visit the ' +\n",
              "          '<a target=\"_blank\" href=https://colab.research.google.com/notebooks/data_table.ipynb>data table notebook</a>'\n",
              "          + ' to learn more about interactive tables.';\n",
              "        element.innerHTML = '';\n",
              "        dataTable['output_type'] = 'display_data';\n",
              "        await google.colab.output.renderOutput(dataTable, element);\n",
              "        const docLink = document.createElement('div');\n",
              "        docLink.innerHTML = docLinkHtml;\n",
              "        element.appendChild(docLink);\n",
              "      }\n",
              "    </script>\n",
              "  </div>\n",
              "\n",
              "\n",
              "<div id=\"df-1dddbd0e-0d26-4592-81ba-c332ce42082a\">\n",
              "  <button class=\"colab-df-quickchart\" onclick=\"quickchart('df-1dddbd0e-0d26-4592-81ba-c332ce42082a')\"\n",
              "            title=\"Suggest charts\"\n",
              "            style=\"display:none;\">\n",
              "\n",
              "<svg xmlns=\"http://www.w3.org/2000/svg\" height=\"24px\"viewBox=\"0 0 24 24\"\n",
              "     width=\"24px\">\n",
              "    <g>\n",
              "        <path d=\"M19 3H5c-1.1 0-2 .9-2 2v14c0 1.1.9 2 2 2h14c1.1 0 2-.9 2-2V5c0-1.1-.9-2-2-2zM9 17H7v-7h2v7zm4 0h-2V7h2v10zm4 0h-2v-4h2v4z\"/>\n",
              "    </g>\n",
              "</svg>\n",
              "  </button>\n",
              "\n",
              "<style>\n",
              "  .colab-df-quickchart {\n",
              "      --bg-color: #E8F0FE;\n",
              "      --fill-color: #1967D2;\n",
              "      --hover-bg-color: #E2EBFA;\n",
              "      --hover-fill-color: #174EA6;\n",
              "      --disabled-fill-color: #AAA;\n",
              "      --disabled-bg-color: #DDD;\n",
              "  }\n",
              "\n",
              "  [theme=dark] .colab-df-quickchart {\n",
              "      --bg-color: #3B4455;\n",
              "      --fill-color: #D2E3FC;\n",
              "      --hover-bg-color: #434B5C;\n",
              "      --hover-fill-color: #FFFFFF;\n",
              "      --disabled-bg-color: #3B4455;\n",
              "      --disabled-fill-color: #666;\n",
              "  }\n",
              "\n",
              "  .colab-df-quickchart {\n",
              "    background-color: var(--bg-color);\n",
              "    border: none;\n",
              "    border-radius: 50%;\n",
              "    cursor: pointer;\n",
              "    display: none;\n",
              "    fill: var(--fill-color);\n",
              "    height: 32px;\n",
              "    padding: 0;\n",
              "    width: 32px;\n",
              "  }\n",
              "\n",
              "  .colab-df-quickchart:hover {\n",
              "    background-color: var(--hover-bg-color);\n",
              "    box-shadow: 0 1px 2px rgba(60, 64, 67, 0.3), 0 1px 3px 1px rgba(60, 64, 67, 0.15);\n",
              "    fill: var(--button-hover-fill-color);\n",
              "  }\n",
              "\n",
              "  .colab-df-quickchart-complete:disabled,\n",
              "  .colab-df-quickchart-complete:disabled:hover {\n",
              "    background-color: var(--disabled-bg-color);\n",
              "    fill: var(--disabled-fill-color);\n",
              "    box-shadow: none;\n",
              "  }\n",
              "\n",
              "  .colab-df-spinner {\n",
              "    border: 2px solid var(--fill-color);\n",
              "    border-color: transparent;\n",
              "    border-bottom-color: var(--fill-color);\n",
              "    animation:\n",
              "      spin 1s steps(1) infinite;\n",
              "  }\n",
              "\n",
              "  @keyframes spin {\n",
              "    0% {\n",
              "      border-color: transparent;\n",
              "      border-bottom-color: var(--fill-color);\n",
              "      border-left-color: var(--fill-color);\n",
              "    }\n",
              "    20% {\n",
              "      border-color: transparent;\n",
              "      border-left-color: var(--fill-color);\n",
              "      border-top-color: var(--fill-color);\n",
              "    }\n",
              "    30% {\n",
              "      border-color: transparent;\n",
              "      border-left-color: var(--fill-color);\n",
              "      border-top-color: var(--fill-color);\n",
              "      border-right-color: var(--fill-color);\n",
              "    }\n",
              "    40% {\n",
              "      border-color: transparent;\n",
              "      border-right-color: var(--fill-color);\n",
              "      border-top-color: var(--fill-color);\n",
              "    }\n",
              "    60% {\n",
              "      border-color: transparent;\n",
              "      border-right-color: var(--fill-color);\n",
              "    }\n",
              "    80% {\n",
              "      border-color: transparent;\n",
              "      border-right-color: var(--fill-color);\n",
              "      border-bottom-color: var(--fill-color);\n",
              "    }\n",
              "    90% {\n",
              "      border-color: transparent;\n",
              "      border-bottom-color: var(--fill-color);\n",
              "    }\n",
              "  }\n",
              "</style>\n",
              "\n",
              "  <script>\n",
              "    async function quickchart(key) {\n",
              "      const quickchartButtonEl =\n",
              "        document.querySelector('#' + key + ' button');\n",
              "      quickchartButtonEl.disabled = true;  // To prevent multiple clicks.\n",
              "      quickchartButtonEl.classList.add('colab-df-spinner');\n",
              "      try {\n",
              "        const charts = await google.colab.kernel.invokeFunction(\n",
              "            'suggestCharts', [key], {});\n",
              "      } catch (error) {\n",
              "        console.error('Error during call to suggestCharts:', error);\n",
              "      }\n",
              "      quickchartButtonEl.classList.remove('colab-df-spinner');\n",
              "      quickchartButtonEl.classList.add('colab-df-quickchart-complete');\n",
              "    }\n",
              "    (() => {\n",
              "      let quickchartButtonEl =\n",
              "        document.querySelector('#df-1dddbd0e-0d26-4592-81ba-c332ce42082a button');\n",
              "      quickchartButtonEl.style.display =\n",
              "        google.colab.kernel.accessAllowed ? 'block' : 'none';\n",
              "    })();\n",
              "  </script>\n",
              "</div>\n",
              "    </div>\n",
              "  </div>\n"
            ],
            "application/vnd.google.colaboratory.intrinsic+json": {
              "type": "dataframe",
              "variable_name": "insurance",
              "summary": "{\n  \"name\": \"insurance\",\n  \"rows\": 1338,\n  \"fields\": [\n    {\n      \"column\": \"age\",\n      \"properties\": {\n        \"dtype\": \"number\",\n        \"std\": 14,\n        \"min\": 18,\n        \"max\": 64,\n        \"num_unique_values\": 47,\n        \"samples\": [\n          21,\n          45,\n          36\n        ],\n        \"semantic_type\": \"\",\n        \"description\": \"\"\n      }\n    },\n    {\n      \"column\": \"sex\",\n      \"properties\": {\n        \"dtype\": \"category\",\n        \"num_unique_values\": 2,\n        \"samples\": [\n          \"male\",\n          \"female\"\n        ],\n        \"semantic_type\": \"\",\n        \"description\": \"\"\n      }\n    },\n    {\n      \"column\": \"bmi\",\n      \"properties\": {\n        \"dtype\": \"number\",\n        \"std\": 6.098186911679014,\n        \"min\": 15.96,\n        \"max\": 53.13,\n        \"num_unique_values\": 548,\n        \"samples\": [\n          23.18,\n          26.885\n        ],\n        \"semantic_type\": \"\",\n        \"description\": \"\"\n      }\n    },\n    {\n      \"column\": \"children\",\n      \"properties\": {\n        \"dtype\": \"number\",\n        \"std\": 1,\n        \"min\": 0,\n        \"max\": 5,\n        \"num_unique_values\": 6,\n        \"samples\": [\n          0,\n          1\n        ],\n        \"semantic_type\": \"\",\n        \"description\": \"\"\n      }\n    },\n    {\n      \"column\": \"smoker\",\n      \"properties\": {\n        \"dtype\": \"category\",\n        \"num_unique_values\": 2,\n        \"samples\": [\n          \"no\",\n          \"yes\"\n        ],\n        \"semantic_type\": \"\",\n        \"description\": \"\"\n      }\n    },\n    {\n      \"column\": \"region\",\n      \"properties\": {\n        \"dtype\": \"category\",\n        \"num_unique_values\": 4,\n        \"samples\": [\n          \"southeast\",\n          \"northeast\"\n        ],\n        \"semantic_type\": \"\",\n        \"description\": \"\"\n      }\n    },\n    {\n      \"column\": \"charges\",\n      \"properties\": {\n        \"dtype\": \"number\",\n        \"std\": 12110.011236694001,\n        \"min\": 1121.8739,\n        \"max\": 63770.42801,\n        \"num_unique_values\": 1337,\n        \"samples\": [\n          8688.85885,\n          5708.867\n        ],\n        \"semantic_type\": \"\",\n        \"description\": \"\"\n      }\n    }\n  ]\n}"
            }
          },
          "metadata": {},
          "execution_count": 84
        }
      ]
    },
    {
      "cell_type": "code",
      "source": [
        "from sklearn.compose import make_column_transformer\n",
        "from sklearn.preprocessing import MinMaxScaler, OneHotEncoder\n",
        "from sklearn.model_selection import train_test_split\n",
        "\n",
        "# Create a column transformer\n",
        "ct = make_column_transformer(\n",
        "    (MinMaxScaler(), ['age', 'bmi', 'children']),\n",
        "    (OneHotEncoder(handle_unknown='ignore'), ['sex', 'smoker', 'region'])\n",
        ")\n",
        "\n",
        "# Create X and y\n",
        "X = insurance.drop('charges', axis=1)\n",
        "y = insurance['charges']\n",
        "\n",
        "# Build our train and test sets\n",
        "X_train, X_test, y_train, y_test = train_test_split(X, y, test_size=0.2, random_state=42)\n",
        "\n",
        "# Fit the column transformer to our training data\n",
        "ct.fit(X_train)\n",
        "\n",
        "# Transform training and test data with normalization and one hot encoding\n",
        "# It's important to fit transformer only on train data since test data is unknown\n",
        "X_train_normal = ct.transform(X_train)\n",
        "X_test_normal = ct.transform(X_test)"
      ],
      "metadata": {
        "id": "SRXYrhA7gAba"
      },
      "execution_count": 86,
      "outputs": []
    },
    {
      "cell_type": "code",
      "source": [
        "# What does our data look like now\n",
        "X_train_normal[0]"
      ],
      "metadata": {
        "colab": {
          "base_uri": "https://localhost:8080/"
        },
        "id": "grvol6Sehdoj",
        "outputId": "78210540-c2d0-4dba-d982-bec4c88c1478"
      },
      "execution_count": 89,
      "outputs": [
        {
          "output_type": "execute_result",
          "data": {
            "text/plain": [
              "array([0.60869565, 0.10734463, 0.4       , 1.        , 0.        ,\n",
              "       1.        , 0.        , 0.        , 1.        , 0.        ,\n",
              "       0.        ])"
            ]
          },
          "metadata": {},
          "execution_count": 89
        }
      ]
    },
    {
      "cell_type": "code",
      "source": [
        "X_train.shape, X_train_normal.shape"
      ],
      "metadata": {
        "colab": {
          "base_uri": "https://localhost:8080/"
        },
        "id": "o4Q4oP79iuFZ",
        "outputId": "31ebf474-905a-44a7-ee39-df06ef06fb98"
      },
      "execution_count": 90,
      "outputs": [
        {
          "output_type": "execute_result",
          "data": {
            "text/plain": [
              "((1070, 6), (1070, 11))"
            ]
          },
          "metadata": {},
          "execution_count": 90
        }
      ]
    },
    {
      "cell_type": "markdown",
      "source": [
        "Beautiful! Our data has been normalized and one-hot encoded. Now let's build a neural network model and see how it goes"
      ],
      "metadata": {
        "id": "dG39pzPPjEXX"
      }
    },
    {
      "cell_type": "code",
      "source": [
        "# Build a neural network (sort of like model_2 above)\n",
        "tf.random.set_seed(42)\n",
        "\n",
        "insurance_model = tf.keras.Sequential([\n",
        "    tf.keras.layers.Dense(256, activation='relu'),\n",
        "    tf.keras.layers.Dense(128, activation='relu'),\n",
        "    tf.keras.layers.Dense(1)\n",
        "])\n",
        "\n",
        "insurance_model.compile(loss=tf.keras.losses.mae,\n",
        "                        optimizer=tf.keras.optimizers.Adam(learning_rate=0.1),\n",
        "                        metrics=['mae'])\n",
        "\n",
        "history = insurance_model.fit(X_train_normal, y_train, epochs=100)"
      ],
      "metadata": {
        "colab": {
          "base_uri": "https://localhost:8080/"
        },
        "id": "yehJlsU8jSLu",
        "outputId": "edd81b7d-d205-4606-cc1d-6430e3baa897"
      },
      "execution_count": 104,
      "outputs": [
        {
          "output_type": "stream",
          "name": "stdout",
          "text": [
            "Epoch 1/100\n",
            "34/34 [==============================] - 2s 6ms/step - loss: 7868.6450 - mae: 7868.6450\n",
            "Epoch 2/100\n",
            "34/34 [==============================] - 0s 6ms/step - loss: 3910.3594 - mae: 3910.3594\n",
            "Epoch 3/100\n",
            "34/34 [==============================] - 0s 6ms/step - loss: 3499.3828 - mae: 3499.3828\n",
            "Epoch 4/100\n",
            "34/34 [==============================] - 0s 6ms/step - loss: 3298.5935 - mae: 3298.5935\n",
            "Epoch 5/100\n",
            "34/34 [==============================] - 0s 6ms/step - loss: 3021.7175 - mae: 3021.7175\n",
            "Epoch 6/100\n",
            "34/34 [==============================] - 0s 6ms/step - loss: 2918.8186 - mae: 2918.8186\n",
            "Epoch 7/100\n",
            "34/34 [==============================] - 0s 8ms/step - loss: 3031.3950 - mae: 3031.3950\n",
            "Epoch 8/100\n",
            "34/34 [==============================] - 0s 9ms/step - loss: 2645.1487 - mae: 2645.1487\n",
            "Epoch 9/100\n",
            "34/34 [==============================] - 0s 7ms/step - loss: 2430.9058 - mae: 2430.9058\n",
            "Epoch 10/100\n",
            "34/34 [==============================] - 0s 5ms/step - loss: 2490.5515 - mae: 2490.5515\n",
            "Epoch 11/100\n",
            "34/34 [==============================] - 0s 5ms/step - loss: 2317.2178 - mae: 2317.2178\n",
            "Epoch 12/100\n",
            "34/34 [==============================] - 0s 4ms/step - loss: 2368.8884 - mae: 2368.8884\n",
            "Epoch 13/100\n",
            "34/34 [==============================] - 0s 5ms/step - loss: 2313.5396 - mae: 2313.5396\n",
            "Epoch 14/100\n",
            "34/34 [==============================] - 0s 5ms/step - loss: 2382.7959 - mae: 2382.7959\n",
            "Epoch 15/100\n",
            "34/34 [==============================] - 0s 5ms/step - loss: 2212.0664 - mae: 2212.0664\n",
            "Epoch 16/100\n",
            "34/34 [==============================] - 0s 5ms/step - loss: 2253.4426 - mae: 2253.4426\n",
            "Epoch 17/100\n",
            "34/34 [==============================] - 0s 6ms/step - loss: 2241.8645 - mae: 2241.8645\n",
            "Epoch 18/100\n",
            "34/34 [==============================] - 0s 6ms/step - loss: 2327.5334 - mae: 2327.5334\n",
            "Epoch 19/100\n",
            "34/34 [==============================] - 0s 5ms/step - loss: 2418.9651 - mae: 2418.9651\n",
            "Epoch 20/100\n",
            "34/34 [==============================] - 0s 5ms/step - loss: 2521.3120 - mae: 2521.3120\n",
            "Epoch 21/100\n",
            "34/34 [==============================] - 0s 5ms/step - loss: 2362.2593 - mae: 2362.2593\n",
            "Epoch 22/100\n",
            "34/34 [==============================] - 0s 4ms/step - loss: 2309.2183 - mae: 2309.2183\n",
            "Epoch 23/100\n",
            "34/34 [==============================] - 0s 5ms/step - loss: 2574.2786 - mae: 2574.2786\n",
            "Epoch 24/100\n",
            "34/34 [==============================] - 0s 5ms/step - loss: 2374.2437 - mae: 2374.2437\n",
            "Epoch 25/100\n",
            "34/34 [==============================] - 0s 6ms/step - loss: 2243.7378 - mae: 2243.7378\n",
            "Epoch 26/100\n",
            "34/34 [==============================] - 0s 5ms/step - loss: 2173.5037 - mae: 2173.5037\n",
            "Epoch 27/100\n",
            "34/34 [==============================] - 0s 5ms/step - loss: 2297.6067 - mae: 2297.6067\n",
            "Epoch 28/100\n",
            "34/34 [==============================] - 0s 5ms/step - loss: 2268.8699 - mae: 2268.8699\n",
            "Epoch 29/100\n",
            "34/34 [==============================] - 0s 6ms/step - loss: 2118.1577 - mae: 2118.1577\n",
            "Epoch 30/100\n",
            "34/34 [==============================] - 0s 4ms/step - loss: 2241.5801 - mae: 2241.5801\n",
            "Epoch 31/100\n",
            "34/34 [==============================] - 0s 4ms/step - loss: 2404.8127 - mae: 2404.8127\n",
            "Epoch 32/100\n",
            "34/34 [==============================] - 0s 3ms/step - loss: 2214.4402 - mae: 2214.4402\n",
            "Epoch 33/100\n",
            "34/34 [==============================] - 0s 3ms/step - loss: 2260.0830 - mae: 2260.0830\n",
            "Epoch 34/100\n",
            "34/34 [==============================] - 0s 3ms/step - loss: 2081.5752 - mae: 2081.5752\n",
            "Epoch 35/100\n",
            "34/34 [==============================] - 0s 4ms/step - loss: 2179.2354 - mae: 2179.2354\n",
            "Epoch 36/100\n",
            "34/34 [==============================] - 0s 4ms/step - loss: 2265.7383 - mae: 2265.7383\n",
            "Epoch 37/100\n",
            "34/34 [==============================] - 0s 3ms/step - loss: 2221.4976 - mae: 2221.4976\n",
            "Epoch 38/100\n",
            "34/34 [==============================] - 0s 3ms/step - loss: 2188.8484 - mae: 2188.8484\n",
            "Epoch 39/100\n",
            "34/34 [==============================] - 0s 3ms/step - loss: 2346.5977 - mae: 2346.5977\n",
            "Epoch 40/100\n",
            "34/34 [==============================] - 0s 4ms/step - loss: 2341.1421 - mae: 2341.1421\n",
            "Epoch 41/100\n",
            "34/34 [==============================] - 0s 5ms/step - loss: 2234.5166 - mae: 2234.5166\n",
            "Epoch 42/100\n",
            "34/34 [==============================] - 0s 6ms/step - loss: 2131.0757 - mae: 2131.0757\n",
            "Epoch 43/100\n",
            "34/34 [==============================] - 0s 5ms/step - loss: 2205.4592 - mae: 2205.4592\n",
            "Epoch 44/100\n",
            "34/34 [==============================] - 0s 6ms/step - loss: 2219.3108 - mae: 2219.3108\n",
            "Epoch 45/100\n",
            "34/34 [==============================] - 0s 4ms/step - loss: 2301.0435 - mae: 2301.0435\n",
            "Epoch 46/100\n",
            "34/34 [==============================] - 0s 3ms/step - loss: 2147.4819 - mae: 2147.4819\n",
            "Epoch 47/100\n",
            "34/34 [==============================] - 0s 4ms/step - loss: 2224.8003 - mae: 2224.8003\n",
            "Epoch 48/100\n",
            "34/34 [==============================] - 0s 3ms/step - loss: 2176.6299 - mae: 2176.6299\n",
            "Epoch 49/100\n",
            "34/34 [==============================] - 0s 3ms/step - loss: 2252.5916 - mae: 2252.5916\n",
            "Epoch 50/100\n",
            "34/34 [==============================] - 0s 3ms/step - loss: 2306.7922 - mae: 2306.7922\n",
            "Epoch 51/100\n",
            "34/34 [==============================] - 0s 4ms/step - loss: 2543.4512 - mae: 2543.4512\n",
            "Epoch 52/100\n",
            "34/34 [==============================] - 0s 3ms/step - loss: 2290.8950 - mae: 2290.8950\n",
            "Epoch 53/100\n",
            "34/34 [==============================] - 0s 3ms/step - loss: 2143.4485 - mae: 2143.4485\n",
            "Epoch 54/100\n",
            "34/34 [==============================] - 0s 3ms/step - loss: 2140.5200 - mae: 2140.5200\n",
            "Epoch 55/100\n",
            "34/34 [==============================] - 0s 3ms/step - loss: 2219.0000 - mae: 2219.0000\n",
            "Epoch 56/100\n",
            "34/34 [==============================] - 0s 3ms/step - loss: 2250.6895 - mae: 2250.6895\n",
            "Epoch 57/100\n",
            "34/34 [==============================] - 0s 3ms/step - loss: 2213.1445 - mae: 2213.1445\n",
            "Epoch 58/100\n",
            "34/34 [==============================] - 0s 3ms/step - loss: 2243.0823 - mae: 2243.0823\n",
            "Epoch 59/100\n",
            "34/34 [==============================] - 0s 4ms/step - loss: 2113.9648 - mae: 2113.9648\n",
            "Epoch 60/100\n",
            "34/34 [==============================] - 0s 4ms/step - loss: 2525.8406 - mae: 2525.8406\n",
            "Epoch 61/100\n",
            "34/34 [==============================] - 0s 3ms/step - loss: 2505.5969 - mae: 2505.5969\n",
            "Epoch 62/100\n",
            "34/34 [==============================] - 0s 3ms/step - loss: 2163.0913 - mae: 2163.0913\n",
            "Epoch 63/100\n",
            "34/34 [==============================] - 0s 3ms/step - loss: 2246.6299 - mae: 2246.6299\n",
            "Epoch 64/100\n",
            "34/34 [==============================] - 0s 3ms/step - loss: 2157.1116 - mae: 2157.1116\n",
            "Epoch 65/100\n",
            "34/34 [==============================] - 0s 3ms/step - loss: 2131.1494 - mae: 2131.1494\n",
            "Epoch 66/100\n",
            "34/34 [==============================] - 0s 3ms/step - loss: 2226.3098 - mae: 2226.3098\n",
            "Epoch 67/100\n",
            "34/34 [==============================] - 0s 3ms/step - loss: 2149.0994 - mae: 2149.0994\n",
            "Epoch 68/100\n",
            "34/34 [==============================] - 0s 4ms/step - loss: 2127.4475 - mae: 2127.4475\n",
            "Epoch 69/100\n",
            "34/34 [==============================] - 0s 3ms/step - loss: 2202.5027 - mae: 2202.5027\n",
            "Epoch 70/100\n",
            "34/34 [==============================] - 0s 3ms/step - loss: 2102.2056 - mae: 2102.2056\n",
            "Epoch 71/100\n",
            "34/34 [==============================] - 0s 3ms/step - loss: 2157.4973 - mae: 2157.4973\n",
            "Epoch 72/100\n",
            "34/34 [==============================] - 0s 3ms/step - loss: 2048.0740 - mae: 2048.0740\n",
            "Epoch 73/100\n",
            "34/34 [==============================] - 0s 3ms/step - loss: 2348.4343 - mae: 2348.4343\n",
            "Epoch 74/100\n",
            "34/34 [==============================] - 0s 3ms/step - loss: 2096.9536 - mae: 2096.9536\n",
            "Epoch 75/100\n",
            "34/34 [==============================] - 0s 3ms/step - loss: 2026.2007 - mae: 2026.2007\n",
            "Epoch 76/100\n",
            "34/34 [==============================] - 0s 4ms/step - loss: 2032.4353 - mae: 2032.4353\n",
            "Epoch 77/100\n",
            "34/34 [==============================] - 0s 4ms/step - loss: 1985.7631 - mae: 1985.7631\n",
            "Epoch 78/100\n",
            "34/34 [==============================] - 0s 4ms/step - loss: 1917.5762 - mae: 1917.5762\n",
            "Epoch 79/100\n",
            "34/34 [==============================] - 0s 3ms/step - loss: 2027.8203 - mae: 2027.8203\n",
            "Epoch 80/100\n",
            "34/34 [==============================] - 0s 3ms/step - loss: 1939.9960 - mae: 1939.9960\n",
            "Epoch 81/100\n",
            "34/34 [==============================] - 0s 3ms/step - loss: 2069.2871 - mae: 2069.2871\n",
            "Epoch 82/100\n",
            "34/34 [==============================] - 0s 3ms/step - loss: 2078.9316 - mae: 2078.9316\n",
            "Epoch 83/100\n",
            "34/34 [==============================] - 0s 3ms/step - loss: 1989.3546 - mae: 1989.3546\n",
            "Epoch 84/100\n",
            "34/34 [==============================] - 0s 3ms/step - loss: 1926.8685 - mae: 1926.8685\n",
            "Epoch 85/100\n",
            "34/34 [==============================] - 0s 4ms/step - loss: 1896.4127 - mae: 1896.4127\n",
            "Epoch 86/100\n",
            "34/34 [==============================] - 0s 3ms/step - loss: 1886.6511 - mae: 1886.6511\n",
            "Epoch 87/100\n",
            "34/34 [==============================] - 0s 3ms/step - loss: 2048.7515 - mae: 2048.7515\n",
            "Epoch 88/100\n",
            "34/34 [==============================] - 0s 3ms/step - loss: 1855.1431 - mae: 1855.1431\n",
            "Epoch 89/100\n",
            "34/34 [==============================] - 0s 3ms/step - loss: 2014.7495 - mae: 2014.7495\n",
            "Epoch 90/100\n",
            "34/34 [==============================] - 0s 4ms/step - loss: 1835.9987 - mae: 1835.9987\n",
            "Epoch 91/100\n",
            "34/34 [==============================] - 0s 4ms/step - loss: 1902.2809 - mae: 1902.2809\n",
            "Epoch 92/100\n",
            "34/34 [==============================] - 0s 3ms/step - loss: 2108.4468 - mae: 2108.4468\n",
            "Epoch 93/100\n",
            "34/34 [==============================] - 0s 4ms/step - loss: 2021.9453 - mae: 2021.9453\n",
            "Epoch 94/100\n",
            "34/34 [==============================] - 0s 3ms/step - loss: 1858.3752 - mae: 1858.3752\n",
            "Epoch 95/100\n",
            "34/34 [==============================] - 0s 3ms/step - loss: 1883.5586 - mae: 1883.5586\n",
            "Epoch 96/100\n",
            "34/34 [==============================] - 0s 4ms/step - loss: 1888.9620 - mae: 1888.9620\n",
            "Epoch 97/100\n",
            "34/34 [==============================] - 0s 4ms/step - loss: 1825.6730 - mae: 1825.6730\n",
            "Epoch 98/100\n",
            "34/34 [==============================] - 0s 3ms/step - loss: 1905.6860 - mae: 1905.6860\n",
            "Epoch 99/100\n",
            "34/34 [==============================] - 0s 3ms/step - loss: 1825.3269 - mae: 1825.3269\n",
            "Epoch 100/100\n",
            "34/34 [==============================] - 0s 3ms/step - loss: 1845.0199 - mae: 1845.0199\n"
          ]
        }
      ]
    },
    {
      "cell_type": "code",
      "source": [
        "insurance_model.evaluate(X_test_normal, y_test)"
      ],
      "metadata": {
        "colab": {
          "base_uri": "https://localhost:8080/"
        },
        "id": "_N9wQaPGkTr-",
        "outputId": "fec2f978-4fc4-4b9c-bab2-e94928f965cb"
      },
      "execution_count": 105,
      "outputs": [
        {
          "output_type": "stream",
          "name": "stdout",
          "text": [
            "9/9 [==============================] - 0s 3ms/step - loss: 1740.0194 - mae: 1740.0194\n"
          ]
        },
        {
          "output_type": "execute_result",
          "data": {
            "text/plain": [
              "[1740.0194091796875, 1740.0194091796875]"
            ]
          },
          "metadata": {},
          "execution_count": 105
        }
      ]
    },
    {
      "cell_type": "code",
      "source": [
        "# Plot history (also knows as a loss curve or a training curve)\n",
        "pd.DataFrame(history.history).plot()\n",
        "plt.ylabel('loss')\n",
        "plt.xlabel('epochs')\n"
      ],
      "metadata": {
        "colab": {
          "base_uri": "https://localhost:8080/",
          "height": 467
        },
        "id": "PP1rWDT7jVHc",
        "outputId": "f403d74c-e181-490c-9fae-7e0ca5e59af1"
      },
      "execution_count": 106,
      "outputs": [
        {
          "output_type": "execute_result",
          "data": {
            "text/plain": [
              "Text(0.5, 0, 'epochs')"
            ]
          },
          "metadata": {},
          "execution_count": 106
        },
        {
          "output_type": "display_data",
          "data": {
            "text/plain": [
              "<Figure size 640x480 with 1 Axes>"
            ],
            "image/png": "[encoded data removed]"
          },
          "metadata": {}
        }
      ]
    },
    {
      "cell_type": "code",
      "source": [],
      "metadata": {
        "id": "gQkZa_t1jeHG"
      },
      "execution_count": null,
      "outputs": []
    }
  ]
}